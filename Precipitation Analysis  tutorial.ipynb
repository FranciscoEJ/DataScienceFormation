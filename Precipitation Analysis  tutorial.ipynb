{
    "nbformat_minor": 1, 
    "cells": [
        {
            "execution_count": 1, 
            "cell_type": "code", 
            "metadata": {}, 
            "outputs": [
                {
                    "output_type": "stream", 
                    "name": "stdout", 
                    "text": "Waiting for a Spark session to start...\nSpark Initialization Done! ApplicationId = app-20190313172521-0000\nKERNEL_ID = 2035d965-5adb-4f14-8a80-b2e091024cf9\n"
                }, 
                {
                    "execution_count": 1, 
                    "metadata": {}, 
                    "data": {
                        "text/plain": "[Row(Country or Area='Albania', Year='2007', Value='30964', Value Footnotes=None, Unit='million cubic metres'),\n Row(Country or Area='Albania', Year='2006', Value='32380', Value Footnotes=None, Unit='million cubic metres'),\n Row(Country or Area='Albania', Year='2005', Value='42840', Value Footnotes=None, Unit='million cubic metres'),\n Row(Country or Area='Albania', Year='2004', Value='42787', Value Footnotes=None, Unit='million cubic metres'),\n Row(Country or Area='Albania', Year='2003', Value='27893', Value Footnotes=None, Unit='million cubic metres')]"
                    }, 
                    "output_type": "execute_result"
                }
            ], 
            "source": "# The code was removed by Watson Studio for sharing."
        }, 
        {
            "execution_count": 2, 
            "cell_type": "code", 
            "metadata": {}, 
            "outputs": [
                {
                    "execution_count": 2, 
                    "metadata": {}, 
                    "data": {
                        "text/plain": "DataFrame[Country or Area: string, Year: string, Value: string, Value Footnotes: string, Unit: string]"
                    }, 
                    "output_type": "execute_result"
                }
            ], 
            "source": "df_data_1"
        }, 
        {
            "execution_count": null, 
            "cell_type": "code", 
            "metadata": {}, 
            "outputs": [], 
            "source": ""
        }
    ], 
    "metadata": {
        "kernelspec": {
            "display_name": "Python 3.5 with Spark", 
            "name": "python3", 
            "language": "python3"
        }, 
        "language_info": {
            "mimetype": "text/x-python", 
            "nbconvert_exporter": "python", 
            "version": "3.5.4", 
            "name": "python", 
            "file_extension": ".py", 
            "pygments_lexer": "ipython3", 
            "codemirror_mode": {
                "version": 3, 
                "name": "ipython"
            }
        }
    }, 
    "nbformat": 4
}