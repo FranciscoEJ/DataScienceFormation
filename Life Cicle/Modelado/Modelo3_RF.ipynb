{
 "cells": [
  {
   "cell_type": "markdown",
   "metadata": {},
   "source": [
    "# MODELO: Bosque Aleatorio"
   ]
  },
  {
   "cell_type": "markdown",
   "metadata": {},
   "source": [
    "#### 1. Cargar datos"
   ]
  },
  {
   "cell_type": "code",
   "execution_count": 1,
   "metadata": {},
   "outputs": [],
   "source": [
    "\n",
    "import types\n",
    "import pandas as pd\n",
    "from botocore.client import Config\n",
    "import ibm_boto3\n",
    "\n",
    "def __iter__(self): return 0\n",
    "\n",
    "#INSERTAR CREDENCIALES\n",
    "\n",
    "datos_completos = pd.read_csv(body)\n"
   ]
  },
  {
   "cell_type": "code",
   "execution_count": 2,
   "metadata": {},
   "outputs": [
    {
     "data": {
      "text/html": [
       "<div>\n",
       "<style scoped>\n",
       "    .dataframe tbody tr th:only-of-type {\n",
       "        vertical-align: middle;\n",
       "    }\n",
       "\n",
       "    .dataframe tbody tr th {\n",
       "        vertical-align: top;\n",
       "    }\n",
       "\n",
       "    .dataframe thead th {\n",
       "        text-align: right;\n",
       "    }\n",
       "</style>\n",
       "<table border=\"1\" class=\"dataframe\">\n",
       "  <thead>\n",
       "    <tr style=\"text-align: right;\">\n",
       "      <th></th>\n",
       "      <th>tiendaID</th>\n",
       "      <th>marcaID</th>\n",
       "      <th>skuID</th>\n",
       "      <th>gammaID</th>\n",
       "      <th>fechaID</th>\n",
       "      <th>ventas_por_mes</th>\n",
       "      <th>lag1mes_ventas_totales_por_tienda_por_mes</th>\n",
       "      <th>lag1mes_ventas_promedio_por_tienda_por_mes</th>\n",
       "      <th>lag1mes_ventas_totales_por_marca_por_mes</th>\n",
       "      <th>lag1mes_entas_promedio_por_marca_por_mes</th>\n",
       "      <th>...</th>\n",
       "      <th>lag2mes_ventas_totales_por_sku_por_mes</th>\n",
       "      <th>lag2mes_ventas_promedio_por_sku_por_mes</th>\n",
       "      <th>lag3mes_ventas_totales_por_tienda_por_mes</th>\n",
       "      <th>lag3mes_ventas_promedio_por_tienda_por_mes</th>\n",
       "      <th>lag3mes_ventas_totales_por_marca_por_mes</th>\n",
       "      <th>lag3mes_entas_promedio_por_marca_por_mes</th>\n",
       "      <th>lag3mes_ventas_totales_por_gamma_por_mes</th>\n",
       "      <th>lag3mes_ventas_promedio_por_gamma_por_mes</th>\n",
       "      <th>lag3mes_ventas_totales_por_sku_por_mes</th>\n",
       "      <th>lag3mes_ventas_promedio_por_sku_por_mes</th>\n",
       "    </tr>\n",
       "  </thead>\n",
       "  <tbody>\n",
       "    <tr>\n",
       "      <th>0</th>\n",
       "      <td>1</td>\n",
       "      <td>2</td>\n",
       "      <td>1</td>\n",
       "      <td>1</td>\n",
       "      <td>0</td>\n",
       "      <td>0</td>\n",
       "      <td>70</td>\n",
       "      <td>1.044776</td>\n",
       "      <td>355</td>\n",
       "      <td>1.047198</td>\n",
       "      <td>...</td>\n",
       "      <td>1</td>\n",
       "      <td>1.0</td>\n",
       "      <td>70</td>\n",
       "      <td>1.044776</td>\n",
       "      <td>355</td>\n",
       "      <td>1.047198</td>\n",
       "      <td>86507</td>\n",
       "      <td>1.161542</td>\n",
       "      <td>1</td>\n",
       "      <td>1.0</td>\n",
       "    </tr>\n",
       "    <tr>\n",
       "      <th>1</th>\n",
       "      <td>1</td>\n",
       "      <td>2</td>\n",
       "      <td>1</td>\n",
       "      <td>1</td>\n",
       "      <td>1</td>\n",
       "      <td>0</td>\n",
       "      <td>70</td>\n",
       "      <td>1.044776</td>\n",
       "      <td>355</td>\n",
       "      <td>1.047198</td>\n",
       "      <td>...</td>\n",
       "      <td>1</td>\n",
       "      <td>1.0</td>\n",
       "      <td>70</td>\n",
       "      <td>1.044776</td>\n",
       "      <td>355</td>\n",
       "      <td>1.047198</td>\n",
       "      <td>86507</td>\n",
       "      <td>1.161542</td>\n",
       "      <td>1</td>\n",
       "      <td>1.0</td>\n",
       "    </tr>\n",
       "    <tr>\n",
       "      <th>2</th>\n",
       "      <td>1</td>\n",
       "      <td>2</td>\n",
       "      <td>1</td>\n",
       "      <td>1</td>\n",
       "      <td>2</td>\n",
       "      <td>0</td>\n",
       "      <td>79</td>\n",
       "      <td>1.128571</td>\n",
       "      <td>379</td>\n",
       "      <td>1.046961</td>\n",
       "      <td>...</td>\n",
       "      <td>1</td>\n",
       "      <td>1.0</td>\n",
       "      <td>70</td>\n",
       "      <td>1.044776</td>\n",
       "      <td>355</td>\n",
       "      <td>1.047198</td>\n",
       "      <td>86507</td>\n",
       "      <td>1.161542</td>\n",
       "      <td>1</td>\n",
       "      <td>1.0</td>\n",
       "    </tr>\n",
       "    <tr>\n",
       "      <th>3</th>\n",
       "      <td>1</td>\n",
       "      <td>2</td>\n",
       "      <td>1</td>\n",
       "      <td>1</td>\n",
       "      <td>3</td>\n",
       "      <td>0</td>\n",
       "      <td>87</td>\n",
       "      <td>1.060976</td>\n",
       "      <td>264</td>\n",
       "      <td>1.068826</td>\n",
       "      <td>...</td>\n",
       "      <td>1</td>\n",
       "      <td>1.0</td>\n",
       "      <td>70</td>\n",
       "      <td>1.044776</td>\n",
       "      <td>355</td>\n",
       "      <td>1.047198</td>\n",
       "      <td>86507</td>\n",
       "      <td>1.161542</td>\n",
       "      <td>1</td>\n",
       "      <td>1.0</td>\n",
       "    </tr>\n",
       "    <tr>\n",
       "      <th>4</th>\n",
       "      <td>1</td>\n",
       "      <td>2</td>\n",
       "      <td>1</td>\n",
       "      <td>1</td>\n",
       "      <td>4</td>\n",
       "      <td>0</td>\n",
       "      <td>75</td>\n",
       "      <td>1.041667</td>\n",
       "      <td>136</td>\n",
       "      <td>1.079365</td>\n",
       "      <td>...</td>\n",
       "      <td>0</td>\n",
       "      <td>0.0</td>\n",
       "      <td>79</td>\n",
       "      <td>1.128571</td>\n",
       "      <td>379</td>\n",
       "      <td>1.046961</td>\n",
       "      <td>92120</td>\n",
       "      <td>1.137986</td>\n",
       "      <td>1</td>\n",
       "      <td>1.0</td>\n",
       "    </tr>\n",
       "  </tbody>\n",
       "</table>\n",
       "<p>5 rows × 30 columns</p>\n",
       "</div>"
      ],
      "text/plain": [
       "   tiendaID  marcaID  skuID  gammaID  fechaID  ventas_por_mes  \\\n",
       "0         1        2      1        1        0               0   \n",
       "1         1        2      1        1        1               0   \n",
       "2         1        2      1        1        2               0   \n",
       "3         1        2      1        1        3               0   \n",
       "4         1        2      1        1        4               0   \n",
       "\n",
       "   lag1mes_ventas_totales_por_tienda_por_mes  \\\n",
       "0                                         70   \n",
       "1                                         70   \n",
       "2                                         79   \n",
       "3                                         87   \n",
       "4                                         75   \n",
       "\n",
       "   lag1mes_ventas_promedio_por_tienda_por_mes  \\\n",
       "0                                    1.044776   \n",
       "1                                    1.044776   \n",
       "2                                    1.128571   \n",
       "3                                    1.060976   \n",
       "4                                    1.041667   \n",
       "\n",
       "   lag1mes_ventas_totales_por_marca_por_mes  \\\n",
       "0                                       355   \n",
       "1                                       355   \n",
       "2                                       379   \n",
       "3                                       264   \n",
       "4                                       136   \n",
       "\n",
       "   lag1mes_entas_promedio_por_marca_por_mes  ...  \\\n",
       "0                                  1.047198  ...   \n",
       "1                                  1.047198  ...   \n",
       "2                                  1.046961  ...   \n",
       "3                                  1.068826  ...   \n",
       "4                                  1.079365  ...   \n",
       "\n",
       "   lag2mes_ventas_totales_por_sku_por_mes  \\\n",
       "0                                       1   \n",
       "1                                       1   \n",
       "2                                       1   \n",
       "3                                       1   \n",
       "4                                       0   \n",
       "\n",
       "   lag2mes_ventas_promedio_por_sku_por_mes  \\\n",
       "0                                      1.0   \n",
       "1                                      1.0   \n",
       "2                                      1.0   \n",
       "3                                      1.0   \n",
       "4                                      0.0   \n",
       "\n",
       "   lag3mes_ventas_totales_por_tienda_por_mes  \\\n",
       "0                                         70   \n",
       "1                                         70   \n",
       "2                                         70   \n",
       "3                                         70   \n",
       "4                                         79   \n",
       "\n",
       "   lag3mes_ventas_promedio_por_tienda_por_mes  \\\n",
       "0                                    1.044776   \n",
       "1                                    1.044776   \n",
       "2                                    1.044776   \n",
       "3                                    1.044776   \n",
       "4                                    1.128571   \n",
       "\n",
       "   lag3mes_ventas_totales_por_marca_por_mes  \\\n",
       "0                                       355   \n",
       "1                                       355   \n",
       "2                                       355   \n",
       "3                                       355   \n",
       "4                                       379   \n",
       "\n",
       "   lag3mes_entas_promedio_por_marca_por_mes  \\\n",
       "0                                  1.047198   \n",
       "1                                  1.047198   \n",
       "2                                  1.047198   \n",
       "3                                  1.047198   \n",
       "4                                  1.046961   \n",
       "\n",
       "   lag3mes_ventas_totales_por_gamma_por_mes  \\\n",
       "0                                     86507   \n",
       "1                                     86507   \n",
       "2                                     86507   \n",
       "3                                     86507   \n",
       "4                                     92120   \n",
       "\n",
       "   lag3mes_ventas_promedio_por_gamma_por_mes  \\\n",
       "0                                   1.161542   \n",
       "1                                   1.161542   \n",
       "2                                   1.161542   \n",
       "3                                   1.161542   \n",
       "4                                   1.137986   \n",
       "\n",
       "   lag3mes_ventas_totales_por_sku_por_mes  \\\n",
       "0                                       1   \n",
       "1                                       1   \n",
       "2                                       1   \n",
       "3                                       1   \n",
       "4                                       1   \n",
       "\n",
       "   lag3mes_ventas_promedio_por_sku_por_mes  \n",
       "0                                      1.0  \n",
       "1                                      1.0  \n",
       "2                                      1.0  \n",
       "3                                      1.0  \n",
       "4                                      1.0  \n",
       "\n",
       "[5 rows x 30 columns]"
      ]
     },
     "execution_count": 2,
     "metadata": {},
     "output_type": "execute_result"
    }
   ],
   "source": [
    "datos_completos.head()\n",
    "#datos_completos.info()\n",
    "#datos_completos.shape #el valor de renglones debe de cambiar conforme el tiempo transcurre y se tiene más información de las ventas(3665280, 30)"
   ]
  },
  {
   "cell_type": "code",
   "execution_count": 3,
   "metadata": {},
   "outputs": [],
   "source": [
    "datos_modelo = datos_completos"
   ]
  },
  {
   "cell_type": "markdown",
   "metadata": {},
   "source": [
    "#### 2. Dividir en entrenamiento y prueba"
   ]
  },
  {
   "cell_type": "code",
   "execution_count": 4,
   "metadata": {},
   "outputs": [
    {
     "data": {
      "text/plain": [
       "8"
      ]
     },
     "execution_count": 4,
     "metadata": {},
     "output_type": "execute_result"
    }
   ],
   "source": [
    "#Hasta este número se considera el conjunto de entrenamiento\n",
    "ultimo_mes_entrenamiento = datos_modelo.fechaID.unique()\n",
    "ultimo_mes_entrenamiento = ultimo_mes_entrenamiento[-2]\n",
    "ultimo_mes_entrenamiento"
   ]
  },
  {
   "cell_type": "code",
   "execution_count": 5,
   "metadata": {},
   "outputs": [
    {
     "data": {
      "text/plain": [
       "9"
      ]
     },
     "execution_count": 5,
     "metadata": {},
     "output_type": "execute_result"
    }
   ],
   "source": [
    "#Se tiene un mes para el conjunto de prueba\n",
    "periodo_prueba = datos_modelo.fechaID.unique()\n",
    "periodo_prueba = periodo_prueba[-1]\n",
    "periodo_prueba"
   ]
  },
  {
   "cell_type": "code",
   "execution_count": 6,
   "metadata": {},
   "outputs": [
    {
     "data": {
      "text/html": [
       "<div>\n",
       "<style scoped>\n",
       "    .dataframe tbody tr th:only-of-type {\n",
       "        vertical-align: middle;\n",
       "    }\n",
       "\n",
       "    .dataframe tbody tr th {\n",
       "        vertical-align: top;\n",
       "    }\n",
       "\n",
       "    .dataframe thead th {\n",
       "        text-align: right;\n",
       "    }\n",
       "</style>\n",
       "<table border=\"1\" class=\"dataframe\">\n",
       "  <thead>\n",
       "    <tr style=\"text-align: right;\">\n",
       "      <th></th>\n",
       "      <th>tiendaID</th>\n",
       "      <th>marcaID</th>\n",
       "      <th>skuID</th>\n",
       "      <th>gammaID</th>\n",
       "      <th>fechaID</th>\n",
       "      <th>ventas_por_mes</th>\n",
       "      <th>lag1mes_ventas_totales_por_tienda_por_mes</th>\n",
       "      <th>lag1mes_ventas_promedio_por_tienda_por_mes</th>\n",
       "      <th>lag1mes_ventas_totales_por_marca_por_mes</th>\n",
       "      <th>lag1mes_entas_promedio_por_marca_por_mes</th>\n",
       "      <th>...</th>\n",
       "      <th>lag2mes_ventas_totales_por_sku_por_mes</th>\n",
       "      <th>lag2mes_ventas_promedio_por_sku_por_mes</th>\n",
       "      <th>lag3mes_ventas_totales_por_tienda_por_mes</th>\n",
       "      <th>lag3mes_ventas_promedio_por_tienda_por_mes</th>\n",
       "      <th>lag3mes_ventas_totales_por_marca_por_mes</th>\n",
       "      <th>lag3mes_entas_promedio_por_marca_por_mes</th>\n",
       "      <th>lag3mes_ventas_totales_por_gamma_por_mes</th>\n",
       "      <th>lag3mes_ventas_promedio_por_gamma_por_mes</th>\n",
       "      <th>lag3mes_ventas_totales_por_sku_por_mes</th>\n",
       "      <th>lag3mes_ventas_promedio_por_sku_por_mes</th>\n",
       "    </tr>\n",
       "  </thead>\n",
       "  <tbody>\n",
       "    <tr>\n",
       "      <th>0</th>\n",
       "      <td>1</td>\n",
       "      <td>2</td>\n",
       "      <td>1</td>\n",
       "      <td>1</td>\n",
       "      <td>0</td>\n",
       "      <td>0</td>\n",
       "      <td>70</td>\n",
       "      <td>1.044776</td>\n",
       "      <td>355</td>\n",
       "      <td>1.047198</td>\n",
       "      <td>...</td>\n",
       "      <td>1</td>\n",
       "      <td>1.0</td>\n",
       "      <td>70</td>\n",
       "      <td>1.044776</td>\n",
       "      <td>355</td>\n",
       "      <td>1.047198</td>\n",
       "      <td>86507</td>\n",
       "      <td>1.161542</td>\n",
       "      <td>1</td>\n",
       "      <td>1.0</td>\n",
       "    </tr>\n",
       "    <tr>\n",
       "      <th>1</th>\n",
       "      <td>1</td>\n",
       "      <td>2</td>\n",
       "      <td>1</td>\n",
       "      <td>1</td>\n",
       "      <td>1</td>\n",
       "      <td>0</td>\n",
       "      <td>70</td>\n",
       "      <td>1.044776</td>\n",
       "      <td>355</td>\n",
       "      <td>1.047198</td>\n",
       "      <td>...</td>\n",
       "      <td>1</td>\n",
       "      <td>1.0</td>\n",
       "      <td>70</td>\n",
       "      <td>1.044776</td>\n",
       "      <td>355</td>\n",
       "      <td>1.047198</td>\n",
       "      <td>86507</td>\n",
       "      <td>1.161542</td>\n",
       "      <td>1</td>\n",
       "      <td>1.0</td>\n",
       "    </tr>\n",
       "    <tr>\n",
       "      <th>2</th>\n",
       "      <td>1</td>\n",
       "      <td>2</td>\n",
       "      <td>1</td>\n",
       "      <td>1</td>\n",
       "      <td>2</td>\n",
       "      <td>0</td>\n",
       "      <td>79</td>\n",
       "      <td>1.128571</td>\n",
       "      <td>379</td>\n",
       "      <td>1.046961</td>\n",
       "      <td>...</td>\n",
       "      <td>1</td>\n",
       "      <td>1.0</td>\n",
       "      <td>70</td>\n",
       "      <td>1.044776</td>\n",
       "      <td>355</td>\n",
       "      <td>1.047198</td>\n",
       "      <td>86507</td>\n",
       "      <td>1.161542</td>\n",
       "      <td>1</td>\n",
       "      <td>1.0</td>\n",
       "    </tr>\n",
       "    <tr>\n",
       "      <th>3</th>\n",
       "      <td>1</td>\n",
       "      <td>2</td>\n",
       "      <td>1</td>\n",
       "      <td>1</td>\n",
       "      <td>3</td>\n",
       "      <td>0</td>\n",
       "      <td>87</td>\n",
       "      <td>1.060976</td>\n",
       "      <td>264</td>\n",
       "      <td>1.068826</td>\n",
       "      <td>...</td>\n",
       "      <td>1</td>\n",
       "      <td>1.0</td>\n",
       "      <td>70</td>\n",
       "      <td>1.044776</td>\n",
       "      <td>355</td>\n",
       "      <td>1.047198</td>\n",
       "      <td>86507</td>\n",
       "      <td>1.161542</td>\n",
       "      <td>1</td>\n",
       "      <td>1.0</td>\n",
       "    </tr>\n",
       "    <tr>\n",
       "      <th>4</th>\n",
       "      <td>1</td>\n",
       "      <td>2</td>\n",
       "      <td>1</td>\n",
       "      <td>1</td>\n",
       "      <td>4</td>\n",
       "      <td>0</td>\n",
       "      <td>75</td>\n",
       "      <td>1.041667</td>\n",
       "      <td>136</td>\n",
       "      <td>1.079365</td>\n",
       "      <td>...</td>\n",
       "      <td>0</td>\n",
       "      <td>0.0</td>\n",
       "      <td>79</td>\n",
       "      <td>1.128571</td>\n",
       "      <td>379</td>\n",
       "      <td>1.046961</td>\n",
       "      <td>92120</td>\n",
       "      <td>1.137986</td>\n",
       "      <td>1</td>\n",
       "      <td>1.0</td>\n",
       "    </tr>\n",
       "  </tbody>\n",
       "</table>\n",
       "<p>5 rows × 30 columns</p>\n",
       "</div>"
      ],
      "text/plain": [
       "   tiendaID  marcaID  skuID  gammaID  fechaID  ventas_por_mes  \\\n",
       "0         1        2      1        1        0               0   \n",
       "1         1        2      1        1        1               0   \n",
       "2         1        2      1        1        2               0   \n",
       "3         1        2      1        1        3               0   \n",
       "4         1        2      1        1        4               0   \n",
       "\n",
       "   lag1mes_ventas_totales_por_tienda_por_mes  \\\n",
       "0                                         70   \n",
       "1                                         70   \n",
       "2                                         79   \n",
       "3                                         87   \n",
       "4                                         75   \n",
       "\n",
       "   lag1mes_ventas_promedio_por_tienda_por_mes  \\\n",
       "0                                    1.044776   \n",
       "1                                    1.044776   \n",
       "2                                    1.128571   \n",
       "3                                    1.060976   \n",
       "4                                    1.041667   \n",
       "\n",
       "   lag1mes_ventas_totales_por_marca_por_mes  \\\n",
       "0                                       355   \n",
       "1                                       355   \n",
       "2                                       379   \n",
       "3                                       264   \n",
       "4                                       136   \n",
       "\n",
       "   lag1mes_entas_promedio_por_marca_por_mes  ...  \\\n",
       "0                                  1.047198  ...   \n",
       "1                                  1.047198  ...   \n",
       "2                                  1.046961  ...   \n",
       "3                                  1.068826  ...   \n",
       "4                                  1.079365  ...   \n",
       "\n",
       "   lag2mes_ventas_totales_por_sku_por_mes  \\\n",
       "0                                       1   \n",
       "1                                       1   \n",
       "2                                       1   \n",
       "3                                       1   \n",
       "4                                       0   \n",
       "\n",
       "   lag2mes_ventas_promedio_por_sku_por_mes  \\\n",
       "0                                      1.0   \n",
       "1                                      1.0   \n",
       "2                                      1.0   \n",
       "3                                      1.0   \n",
       "4                                      0.0   \n",
       "\n",
       "   lag3mes_ventas_totales_por_tienda_por_mes  \\\n",
       "0                                         70   \n",
       "1                                         70   \n",
       "2                                         70   \n",
       "3                                         70   \n",
       "4                                         79   \n",
       "\n",
       "   lag3mes_ventas_promedio_por_tienda_por_mes  \\\n",
       "0                                    1.044776   \n",
       "1                                    1.044776   \n",
       "2                                    1.044776   \n",
       "3                                    1.044776   \n",
       "4                                    1.128571   \n",
       "\n",
       "   lag3mes_ventas_totales_por_marca_por_mes  \\\n",
       "0                                       355   \n",
       "1                                       355   \n",
       "2                                       355   \n",
       "3                                       355   \n",
       "4                                       379   \n",
       "\n",
       "   lag3mes_entas_promedio_por_marca_por_mes  \\\n",
       "0                                  1.047198   \n",
       "1                                  1.047198   \n",
       "2                                  1.047198   \n",
       "3                                  1.047198   \n",
       "4                                  1.046961   \n",
       "\n",
       "   lag3mes_ventas_totales_por_gamma_por_mes  \\\n",
       "0                                     86507   \n",
       "1                                     86507   \n",
       "2                                     86507   \n",
       "3                                     86507   \n",
       "4                                     92120   \n",
       "\n",
       "   lag3mes_ventas_promedio_por_gamma_por_mes  \\\n",
       "0                                   1.161542   \n",
       "1                                   1.161542   \n",
       "2                                   1.161542   \n",
       "3                                   1.161542   \n",
       "4                                   1.137986   \n",
       "\n",
       "   lag3mes_ventas_totales_por_sku_por_mes  \\\n",
       "0                                       1   \n",
       "1                                       1   \n",
       "2                                       1   \n",
       "3                                       1   \n",
       "4                                       1   \n",
       "\n",
       "   lag3mes_ventas_promedio_por_sku_por_mes  \n",
       "0                                      1.0  \n",
       "1                                      1.0  \n",
       "2                                      1.0  \n",
       "3                                      1.0  \n",
       "4                                      1.0  \n",
       "\n",
       "[5 rows x 30 columns]"
      ]
     },
     "execution_count": 6,
     "metadata": {},
     "output_type": "execute_result"
    }
   ],
   "source": [
    "#dividir el archivo en entrenamiento y prueba\n",
    "entrenamiento = datos_modelo[datos_modelo['fechaID']<=ultimo_mes_entrenamiento]\n",
    "entrenamiento.head()\n",
    "#entrenamiento.shape #Para este conjunto de datos, este valor va a cambiar conforme se adquieran más datos(3298752, 30)"
   ]
  },
  {
   "cell_type": "code",
   "execution_count": 7,
   "metadata": {},
   "outputs": [
    {
     "data": {
      "text/plain": [
       "(7817355, 30)"
      ]
     },
     "execution_count": 7,
     "metadata": {},
     "output_type": "execute_result"
    }
   ],
   "source": [
    "entrenamiento.shape"
   ]
  },
  {
   "cell_type": "code",
   "execution_count": 8,
   "metadata": {},
   "outputs": [
    {
     "data": {
      "text/html": [
       "<div>\n",
       "<style scoped>\n",
       "    .dataframe tbody tr th:only-of-type {\n",
       "        vertical-align: middle;\n",
       "    }\n",
       "\n",
       "    .dataframe tbody tr th {\n",
       "        vertical-align: top;\n",
       "    }\n",
       "\n",
       "    .dataframe thead th {\n",
       "        text-align: right;\n",
       "    }\n",
       "</style>\n",
       "<table border=\"1\" class=\"dataframe\">\n",
       "  <thead>\n",
       "    <tr style=\"text-align: right;\">\n",
       "      <th></th>\n",
       "      <th>tiendaID</th>\n",
       "      <th>marcaID</th>\n",
       "      <th>skuID</th>\n",
       "      <th>gammaID</th>\n",
       "      <th>fechaID</th>\n",
       "      <th>ventas_por_mes</th>\n",
       "      <th>lag1mes_ventas_totales_por_tienda_por_mes</th>\n",
       "      <th>lag1mes_ventas_promedio_por_tienda_por_mes</th>\n",
       "      <th>lag1mes_ventas_totales_por_marca_por_mes</th>\n",
       "      <th>lag1mes_entas_promedio_por_marca_por_mes</th>\n",
       "      <th>...</th>\n",
       "      <th>lag2mes_ventas_totales_por_sku_por_mes</th>\n",
       "      <th>lag2mes_ventas_promedio_por_sku_por_mes</th>\n",
       "      <th>lag3mes_ventas_totales_por_tienda_por_mes</th>\n",
       "      <th>lag3mes_ventas_promedio_por_tienda_por_mes</th>\n",
       "      <th>lag3mes_ventas_totales_por_marca_por_mes</th>\n",
       "      <th>lag3mes_entas_promedio_por_marca_por_mes</th>\n",
       "      <th>lag3mes_ventas_totales_por_gamma_por_mes</th>\n",
       "      <th>lag3mes_ventas_promedio_por_gamma_por_mes</th>\n",
       "      <th>lag3mes_ventas_totales_por_sku_por_mes</th>\n",
       "      <th>lag3mes_ventas_promedio_por_sku_por_mes</th>\n",
       "    </tr>\n",
       "  </thead>\n",
       "  <tbody>\n",
       "    <tr>\n",
       "      <th>9</th>\n",
       "      <td>1</td>\n",
       "      <td>2</td>\n",
       "      <td>1</td>\n",
       "      <td>1</td>\n",
       "      <td>9</td>\n",
       "      <td>0</td>\n",
       "      <td>61</td>\n",
       "      <td>1.070175</td>\n",
       "      <td>53</td>\n",
       "      <td>1.081633</td>\n",
       "      <td>...</td>\n",
       "      <td>1</td>\n",
       "      <td>1.0</td>\n",
       "      <td>73</td>\n",
       "      <td>1.028169</td>\n",
       "      <td>32</td>\n",
       "      <td>1.066667</td>\n",
       "      <td>95478</td>\n",
       "      <td>1.156594</td>\n",
       "      <td>0</td>\n",
       "      <td>0.0</td>\n",
       "    </tr>\n",
       "    <tr>\n",
       "      <th>19</th>\n",
       "      <td>2</td>\n",
       "      <td>2</td>\n",
       "      <td>1</td>\n",
       "      <td>1</td>\n",
       "      <td>9</td>\n",
       "      <td>0</td>\n",
       "      <td>15</td>\n",
       "      <td>1.000000</td>\n",
       "      <td>53</td>\n",
       "      <td>1.081633</td>\n",
       "      <td>...</td>\n",
       "      <td>1</td>\n",
       "      <td>1.0</td>\n",
       "      <td>27</td>\n",
       "      <td>1.038462</td>\n",
       "      <td>32</td>\n",
       "      <td>1.066667</td>\n",
       "      <td>95478</td>\n",
       "      <td>1.156594</td>\n",
       "      <td>0</td>\n",
       "      <td>0.0</td>\n",
       "    </tr>\n",
       "    <tr>\n",
       "      <th>29</th>\n",
       "      <td>3</td>\n",
       "      <td>2</td>\n",
       "      <td>1</td>\n",
       "      <td>1</td>\n",
       "      <td>9</td>\n",
       "      <td>0</td>\n",
       "      <td>37</td>\n",
       "      <td>1.000000</td>\n",
       "      <td>53</td>\n",
       "      <td>1.081633</td>\n",
       "      <td>...</td>\n",
       "      <td>1</td>\n",
       "      <td>1.0</td>\n",
       "      <td>61</td>\n",
       "      <td>1.089286</td>\n",
       "      <td>32</td>\n",
       "      <td>1.066667</td>\n",
       "      <td>95478</td>\n",
       "      <td>1.156594</td>\n",
       "      <td>0</td>\n",
       "      <td>0.0</td>\n",
       "    </tr>\n",
       "    <tr>\n",
       "      <th>39</th>\n",
       "      <td>4</td>\n",
       "      <td>2</td>\n",
       "      <td>1</td>\n",
       "      <td>1</td>\n",
       "      <td>9</td>\n",
       "      <td>0</td>\n",
       "      <td>28</td>\n",
       "      <td>1.037037</td>\n",
       "      <td>53</td>\n",
       "      <td>1.081633</td>\n",
       "      <td>...</td>\n",
       "      <td>1</td>\n",
       "      <td>1.0</td>\n",
       "      <td>16</td>\n",
       "      <td>1.230769</td>\n",
       "      <td>32</td>\n",
       "      <td>1.066667</td>\n",
       "      <td>95478</td>\n",
       "      <td>1.156594</td>\n",
       "      <td>0</td>\n",
       "      <td>0.0</td>\n",
       "    </tr>\n",
       "    <tr>\n",
       "      <th>49</th>\n",
       "      <td>5</td>\n",
       "      <td>2</td>\n",
       "      <td>1</td>\n",
       "      <td>1</td>\n",
       "      <td>9</td>\n",
       "      <td>0</td>\n",
       "      <td>6</td>\n",
       "      <td>1.000000</td>\n",
       "      <td>53</td>\n",
       "      <td>1.081633</td>\n",
       "      <td>...</td>\n",
       "      <td>1</td>\n",
       "      <td>1.0</td>\n",
       "      <td>41</td>\n",
       "      <td>1.051282</td>\n",
       "      <td>32</td>\n",
       "      <td>1.066667</td>\n",
       "      <td>95478</td>\n",
       "      <td>1.156594</td>\n",
       "      <td>0</td>\n",
       "      <td>0.0</td>\n",
       "    </tr>\n",
       "  </tbody>\n",
       "</table>\n",
       "<p>5 rows × 30 columns</p>\n",
       "</div>"
      ],
      "text/plain": [
       "    tiendaID  marcaID  skuID  gammaID  fechaID  ventas_por_mes  \\\n",
       "9          1        2      1        1        9               0   \n",
       "19         2        2      1        1        9               0   \n",
       "29         3        2      1        1        9               0   \n",
       "39         4        2      1        1        9               0   \n",
       "49         5        2      1        1        9               0   \n",
       "\n",
       "    lag1mes_ventas_totales_por_tienda_por_mes  \\\n",
       "9                                          61   \n",
       "19                                         15   \n",
       "29                                         37   \n",
       "39                                         28   \n",
       "49                                          6   \n",
       "\n",
       "    lag1mes_ventas_promedio_por_tienda_por_mes  \\\n",
       "9                                     1.070175   \n",
       "19                                    1.000000   \n",
       "29                                    1.000000   \n",
       "39                                    1.037037   \n",
       "49                                    1.000000   \n",
       "\n",
       "    lag1mes_ventas_totales_por_marca_por_mes  \\\n",
       "9                                         53   \n",
       "19                                        53   \n",
       "29                                        53   \n",
       "39                                        53   \n",
       "49                                        53   \n",
       "\n",
       "    lag1mes_entas_promedio_por_marca_por_mes  ...  \\\n",
       "9                                   1.081633  ...   \n",
       "19                                  1.081633  ...   \n",
       "29                                  1.081633  ...   \n",
       "39                                  1.081633  ...   \n",
       "49                                  1.081633  ...   \n",
       "\n",
       "    lag2mes_ventas_totales_por_sku_por_mes  \\\n",
       "9                                        1   \n",
       "19                                       1   \n",
       "29                                       1   \n",
       "39                                       1   \n",
       "49                                       1   \n",
       "\n",
       "    lag2mes_ventas_promedio_por_sku_por_mes  \\\n",
       "9                                       1.0   \n",
       "19                                      1.0   \n",
       "29                                      1.0   \n",
       "39                                      1.0   \n",
       "49                                      1.0   \n",
       "\n",
       "    lag3mes_ventas_totales_por_tienda_por_mes  \\\n",
       "9                                          73   \n",
       "19                                         27   \n",
       "29                                         61   \n",
       "39                                         16   \n",
       "49                                         41   \n",
       "\n",
       "    lag3mes_ventas_promedio_por_tienda_por_mes  \\\n",
       "9                                     1.028169   \n",
       "19                                    1.038462   \n",
       "29                                    1.089286   \n",
       "39                                    1.230769   \n",
       "49                                    1.051282   \n",
       "\n",
       "    lag3mes_ventas_totales_por_marca_por_mes  \\\n",
       "9                                         32   \n",
       "19                                        32   \n",
       "29                                        32   \n",
       "39                                        32   \n",
       "49                                        32   \n",
       "\n",
       "    lag3mes_entas_promedio_por_marca_por_mes  \\\n",
       "9                                   1.066667   \n",
       "19                                  1.066667   \n",
       "29                                  1.066667   \n",
       "39                                  1.066667   \n",
       "49                                  1.066667   \n",
       "\n",
       "    lag3mes_ventas_totales_por_gamma_por_mes  \\\n",
       "9                                      95478   \n",
       "19                                     95478   \n",
       "29                                     95478   \n",
       "39                                     95478   \n",
       "49                                     95478   \n",
       "\n",
       "    lag3mes_ventas_promedio_por_gamma_por_mes  \\\n",
       "9                                    1.156594   \n",
       "19                                   1.156594   \n",
       "29                                   1.156594   \n",
       "39                                   1.156594   \n",
       "49                                   1.156594   \n",
       "\n",
       "    lag3mes_ventas_totales_por_sku_por_mes  \\\n",
       "9                                        0   \n",
       "19                                       0   \n",
       "29                                       0   \n",
       "39                                       0   \n",
       "49                                       0   \n",
       "\n",
       "    lag3mes_ventas_promedio_por_sku_por_mes  \n",
       "9                                       0.0  \n",
       "19                                      0.0  \n",
       "29                                      0.0  \n",
       "39                                      0.0  \n",
       "49                                      0.0  \n",
       "\n",
       "[5 rows x 30 columns]"
      ]
     },
     "execution_count": 8,
     "metadata": {},
     "output_type": "execute_result"
    }
   ],
   "source": [
    "prueba = datos_modelo[datos_modelo['fechaID']==periodo_prueba]\n",
    "prueba.head()\n",
    "#prueba.shape # Este número no va a cambiar dado que corresponde a la combinación de 1mes*12marcas*4gammas*4familias*1909puntosdeventa(366528, 30)"
   ]
  },
  {
   "cell_type": "code",
   "execution_count": 9,
   "metadata": {},
   "outputs": [
    {
     "data": {
      "text/plain": [
       "(868595, 30)"
      ]
     },
     "execution_count": 9,
     "metadata": {},
     "output_type": "execute_result"
    }
   ],
   "source": [
    "prueba.shape"
   ]
  },
  {
   "cell_type": "markdown",
   "metadata": {},
   "source": [
    "#### 3. Librerías para modelo"
   ]
  },
  {
   "cell_type": "code",
   "execution_count": 10,
   "metadata": {},
   "outputs": [],
   "source": [
    "import numpy as np\n",
    "from sklearn.ensemble import RandomForestRegressor\n",
    "from sklearn.model_selection import GridSearchCV\n",
    "from scipy.stats import sem\n",
    "from sklearn.model_selection import TimeSeriesSplit\n",
    "import warnings; warnings.simplefilter('ignore')"
   ]
  },
  {
   "cell_type": "markdown",
   "metadata": {},
   "source": [
    "#### 4. Preparar datos para modelo"
   ]
  },
  {
   "cell_type": "code",
   "execution_count": 11,
   "metadata": {},
   "outputs": [],
   "source": [
    "# Separamos el conjunto de entrenamiento en y y X \n",
    "x = entrenamiento.iloc[:, entrenamiento.columns != 'ventas_por_mes'].values #arreglo de valores\n",
    "y = entrenamiento.iloc[:, entrenamiento.columns == 'ventas_por_mes'].values"
   ]
  },
  {
   "cell_type": "code",
   "execution_count": 12,
   "metadata": {},
   "outputs": [
    {
     "data": {
      "text/plain": [
       "array([[1.00000000e+00, 2.00000000e+00, 1.00000000e+00, ...,\n",
       "        1.16154197e+00, 1.00000000e+00, 1.00000000e+00],\n",
       "       [1.00000000e+00, 2.00000000e+00, 1.00000000e+00, ...,\n",
       "        1.16154197e+00, 1.00000000e+00, 1.00000000e+00],\n",
       "       [1.00000000e+00, 2.00000000e+00, 1.00000000e+00, ...,\n",
       "        1.16154197e+00, 1.00000000e+00, 1.00000000e+00],\n",
       "       ...,\n",
       "       [1.90900000e+03, 5.00000000e+00, 9.90000000e+01, ...,\n",
       "        1.11052100e+00, 0.00000000e+00, 0.00000000e+00],\n",
       "       [1.90900000e+03, 5.00000000e+00, 9.90000000e+01, ...,\n",
       "        1.10314300e+00, 0.00000000e+00, 0.00000000e+00],\n",
       "       [1.90900000e+03, 5.00000000e+00, 9.90000000e+01, ...,\n",
       "        1.18250100e+00, 0.00000000e+00, 0.00000000e+00]])"
      ]
     },
     "execution_count": 12,
     "metadata": {},
     "output_type": "execute_result"
    }
   ],
   "source": [
    "x"
   ]
  },
  {
   "cell_type": "code",
   "execution_count": 13,
   "metadata": {},
   "outputs": [
    {
     "data": {
      "text/plain": [
       "array([[0],\n",
       "       [0],\n",
       "       [0],\n",
       "       ...,\n",
       "       [0],\n",
       "       [0],\n",
       "       [0]])"
      ]
     },
     "execution_count": 13,
     "metadata": {},
     "output_type": "execute_result"
    }
   ],
   "source": [
    "y"
   ]
  },
  {
   "cell_type": "markdown",
   "metadata": {},
   "source": [
    "#### 5. Validación cruzada para series de tiempo"
   ]
  },
  {
   "cell_type": "code",
   "execution_count": 14,
   "metadata": {},
   "outputs": [],
   "source": [
    "#validación cruzada: utiliza la función TimeSeriesSplit donde se parte el conjunto de entrenamiento en 3 splits de diferente longitud. \n",
    "tscv = TimeSeriesSplit(n_splits=3)#TimeSeriesSplit(max_train_size=None, n_splits=3)\n",
    "my_cv = TimeSeriesSplit(n_splits=3).split(x)#<generator object TimeSeriesSplit.split at 0x7f01f9aa86d0>"
   ]
  },
  {
   "cell_type": "markdown",
   "metadata": {},
   "source": [
    "#### 6: Aplicar un GridSearch para probar diferentes parámetros para el modelo"
   ]
  },
  {
   "cell_type": "code",
   "execution_count": 15,
   "metadata": {},
   "outputs": [],
   "source": [
    "param_grid = {\n",
    "    'bootstrap': [True],\n",
    "    'max_depth': [2, 9],\n",
    "    'min_samples_split': [8, 10],\n",
    "    'n_estimators': [2, 3]\n",
    "}"
   ]
  },
  {
   "cell_type": "code",
   "execution_count": 16,
   "metadata": {},
   "outputs": [],
   "source": [
    "scoring = ['neg_mean_squared_error', 'neg_mean_absolute_error']\n",
    "clf = GridSearchCV(RandomForestRegressor(), \n",
    "                   param_grid,\n",
    "                   scoring=scoring,\n",
    "                   cv=my_cv, \n",
    "                   #n_jobs=-1, \n",
    "                   refit = 'neg_mean_absolute_error') #utilizando que medida de scoring en este caso cualquiera de los 2 "
   ]
  },
  {
   "cell_type": "markdown",
   "metadata": {},
   "source": [
    "#### 7: Ajustar el Modelo: Entrenar el modelo con los diferentes parámetros"
   ]
  },
  {
   "cell_type": "code",
   "execution_count": 17,
   "metadata": {},
   "outputs": [
    {
     "data": {
      "text/plain": [
       "GridSearchCV(cv=<generator object TimeSeriesSplit.split at 0x7f338d3bf9e8>,\n",
       "       error_score='raise-deprecating',\n",
       "       estimator=RandomForestRegressor(bootstrap=True, criterion='mse', max_depth=None,\n",
       "           max_features='auto', max_leaf_nodes=None,\n",
       "           min_impurity_decrease=0.0, min_impurity_split=None,\n",
       "           min_samples_leaf=1, min_samples_split=2,\n",
       "           min_weight_fraction_leaf=0.0, n_estimators='warn', n_jobs=None,\n",
       "           oob_score=False, random_state=None, verbose=0, warm_start=False),\n",
       "       fit_params=None, iid='warn', n_jobs=None,\n",
       "       param_grid={'bootstrap': [True], 'max_depth': [2, 9], 'min_samples_split': [8, 10], 'n_estimators': [2, 3]},\n",
       "       pre_dispatch='2*n_jobs', refit='neg_mean_absolute_error',\n",
       "       return_train_score='warn',\n",
       "       scoring=['neg_mean_squared_error', 'neg_mean_absolute_error'],\n",
       "       verbose=0)"
      ]
     },
     "execution_count": 17,
     "metadata": {},
     "output_type": "execute_result"
    }
   ],
   "source": [
    "clf.fit(x,y)\n",
    "#8:55 -"
   ]
  },
  {
   "cell_type": "markdown",
   "metadata": {},
   "source": [
    "#### 8: Analizar resultados de cada modelo que se corrió"
   ]
  },
  {
   "cell_type": "code",
   "execution_count": 18,
   "metadata": {},
   "outputs": [
    {
     "data": {
      "text/html": [
       "<div>\n",
       "<style scoped>\n",
       "    .dataframe tbody tr th:only-of-type {\n",
       "        vertical-align: middle;\n",
       "    }\n",
       "\n",
       "    .dataframe tbody tr th {\n",
       "        vertical-align: top;\n",
       "    }\n",
       "\n",
       "    .dataframe thead th {\n",
       "        text-align: right;\n",
       "    }\n",
       "</style>\n",
       "<table border=\"1\" class=\"dataframe\">\n",
       "  <thead>\n",
       "    <tr style=\"text-align: right;\">\n",
       "      <th></th>\n",
       "      <th>mean_fit_time</th>\n",
       "      <th>std_fit_time</th>\n",
       "      <th>mean_score_time</th>\n",
       "      <th>std_score_time</th>\n",
       "      <th>param_bootstrap</th>\n",
       "      <th>param_max_depth</th>\n",
       "      <th>param_min_samples_split</th>\n",
       "      <th>param_n_estimators</th>\n",
       "      <th>params</th>\n",
       "      <th>split0_test_neg_mean_squared_error</th>\n",
       "      <th>...</th>\n",
       "      <th>split1_test_neg_mean_absolute_error</th>\n",
       "      <th>split2_test_neg_mean_absolute_error</th>\n",
       "      <th>mean_test_neg_mean_absolute_error</th>\n",
       "      <th>std_test_neg_mean_absolute_error</th>\n",
       "      <th>rank_test_neg_mean_absolute_error</th>\n",
       "      <th>split0_train_neg_mean_absolute_error</th>\n",
       "      <th>split1_train_neg_mean_absolute_error</th>\n",
       "      <th>split2_train_neg_mean_absolute_error</th>\n",
       "      <th>mean_train_neg_mean_absolute_error</th>\n",
       "      <th>std_train_neg_mean_absolute_error</th>\n",
       "    </tr>\n",
       "  </thead>\n",
       "  <tbody>\n",
       "    <tr>\n",
       "      <th>0</th>\n",
       "      <td>26.816066</td>\n",
       "      <td>10.134283</td>\n",
       "      <td>0.847666</td>\n",
       "      <td>0.060097</td>\n",
       "      <td>True</td>\n",
       "      <td>2</td>\n",
       "      <td>8</td>\n",
       "      <td>2</td>\n",
       "      <td>{'bootstrap': True, 'max_depth': 2, 'min_sampl...</td>\n",
       "      <td>-0.541945</td>\n",
       "      <td>...</td>\n",
       "      <td>-0.208063</td>\n",
       "      <td>-0.120148</td>\n",
       "      <td>-0.171287</td>\n",
       "      <td>0.037301</td>\n",
       "      <td>7</td>\n",
       "      <td>-0.222831</td>\n",
       "      <td>-0.203216</td>\n",
       "      <td>-0.206709</td>\n",
       "      <td>-0.210919</td>\n",
       "      <td>0.008543</td>\n",
       "    </tr>\n",
       "    <tr>\n",
       "      <th>1</th>\n",
       "      <td>37.536013</td>\n",
       "      <td>15.243256</td>\n",
       "      <td>0.931639</td>\n",
       "      <td>0.012668</td>\n",
       "      <td>True</td>\n",
       "      <td>2</td>\n",
       "      <td>8</td>\n",
       "      <td>3</td>\n",
       "      <td>{'bootstrap': True, 'max_depth': 2, 'min_sampl...</td>\n",
       "      <td>-0.541487</td>\n",
       "      <td>...</td>\n",
       "      <td>-0.208142</td>\n",
       "      <td>-0.120153</td>\n",
       "      <td>-0.171460</td>\n",
       "      <td>0.037380</td>\n",
       "      <td>8</td>\n",
       "      <td>-0.223015</td>\n",
       "      <td>-0.202349</td>\n",
       "      <td>-0.206664</td>\n",
       "      <td>-0.210676</td>\n",
       "      <td>0.008901</td>\n",
       "    </tr>\n",
       "    <tr>\n",
       "      <th>2</th>\n",
       "      <td>27.180488</td>\n",
       "      <td>10.590345</td>\n",
       "      <td>0.791277</td>\n",
       "      <td>0.003567</td>\n",
       "      <td>True</td>\n",
       "      <td>2</td>\n",
       "      <td>10</td>\n",
       "      <td>2</td>\n",
       "      <td>{'bootstrap': True, 'max_depth': 2, 'min_sampl...</td>\n",
       "      <td>-0.540032</td>\n",
       "      <td>...</td>\n",
       "      <td>-0.207442</td>\n",
       "      <td>-0.120124</td>\n",
       "      <td>-0.171025</td>\n",
       "      <td>0.037090</td>\n",
       "      <td>5</td>\n",
       "      <td>-0.221835</td>\n",
       "      <td>-0.201959</td>\n",
       "      <td>-0.206399</td>\n",
       "      <td>-0.210064</td>\n",
       "      <td>0.008518</td>\n",
       "    </tr>\n",
       "    <tr>\n",
       "      <th>3</th>\n",
       "      <td>37.356578</td>\n",
       "      <td>15.307896</td>\n",
       "      <td>0.936545</td>\n",
       "      <td>0.004921</td>\n",
       "      <td>True</td>\n",
       "      <td>2</td>\n",
       "      <td>10</td>\n",
       "      <td>3</td>\n",
       "      <td>{'bootstrap': True, 'max_depth': 2, 'min_sampl...</td>\n",
       "      <td>-0.542424</td>\n",
       "      <td>...</td>\n",
       "      <td>-0.207339</td>\n",
       "      <td>-0.120218</td>\n",
       "      <td>-0.171204</td>\n",
       "      <td>0.037085</td>\n",
       "      <td>6</td>\n",
       "      <td>-0.223527</td>\n",
       "      <td>-0.201987</td>\n",
       "      <td>-0.206671</td>\n",
       "      <td>-0.210728</td>\n",
       "      <td>0.009250</td>\n",
       "    </tr>\n",
       "    <tr>\n",
       "      <th>4</th>\n",
       "      <td>87.692832</td>\n",
       "      <td>40.988893</td>\n",
       "      <td>0.958071</td>\n",
       "      <td>0.020261</td>\n",
       "      <td>True</td>\n",
       "      <td>9</td>\n",
       "      <td>8</td>\n",
       "      <td>2</td>\n",
       "      <td>{'bootstrap': True, 'max_depth': 9, 'min_sampl...</td>\n",
       "      <td>-0.473719</td>\n",
       "      <td>...</td>\n",
       "      <td>-0.185790</td>\n",
       "      <td>-0.109988</td>\n",
       "      <td>-0.147769</td>\n",
       "      <td>0.030947</td>\n",
       "      <td>2</td>\n",
       "      <td>-0.155173</td>\n",
       "      <td>-0.144623</td>\n",
       "      <td>-0.150273</td>\n",
       "      <td>-0.150023</td>\n",
       "      <td>0.004311</td>\n",
       "    </tr>\n",
       "    <tr>\n",
       "      <th>5</th>\n",
       "      <td>129.607080</td>\n",
       "      <td>59.814331</td>\n",
       "      <td>1.156964</td>\n",
       "      <td>0.024411</td>\n",
       "      <td>True</td>\n",
       "      <td>9</td>\n",
       "      <td>8</td>\n",
       "      <td>3</td>\n",
       "      <td>{'bootstrap': True, 'max_depth': 9, 'min_sampl...</td>\n",
       "      <td>-0.466549</td>\n",
       "      <td>...</td>\n",
       "      <td>-0.184223</td>\n",
       "      <td>-0.109132</td>\n",
       "      <td>-0.146789</td>\n",
       "      <td>0.030656</td>\n",
       "      <td>1</td>\n",
       "      <td>-0.155676</td>\n",
       "      <td>-0.143487</td>\n",
       "      <td>-0.149800</td>\n",
       "      <td>-0.149654</td>\n",
       "      <td>0.004977</td>\n",
       "    </tr>\n",
       "    <tr>\n",
       "      <th>6</th>\n",
       "      <td>88.088960</td>\n",
       "      <td>39.755504</td>\n",
       "      <td>0.958311</td>\n",
       "      <td>0.004315</td>\n",
       "      <td>True</td>\n",
       "      <td>9</td>\n",
       "      <td>10</td>\n",
       "      <td>2</td>\n",
       "      <td>{'bootstrap': True, 'max_depth': 9, 'min_sampl...</td>\n",
       "      <td>-0.674051</td>\n",
       "      <td>...</td>\n",
       "      <td>-0.180434</td>\n",
       "      <td>-0.107183</td>\n",
       "      <td>-0.159958</td>\n",
       "      <td>0.037629</td>\n",
       "      <td>3</td>\n",
       "      <td>-0.157455</td>\n",
       "      <td>-0.144905</td>\n",
       "      <td>-0.149843</td>\n",
       "      <td>-0.150734</td>\n",
       "      <td>0.005162</td>\n",
       "    </tr>\n",
       "    <tr>\n",
       "      <th>7</th>\n",
       "      <td>129.055077</td>\n",
       "      <td>60.098128</td>\n",
       "      <td>1.177018</td>\n",
       "      <td>0.026986</td>\n",
       "      <td>True</td>\n",
       "      <td>9</td>\n",
       "      <td>10</td>\n",
       "      <td>3</td>\n",
       "      <td>{'bootstrap': True, 'max_depth': 9, 'min_sampl...</td>\n",
       "      <td>-0.548037</td>\n",
       "      <td>...</td>\n",
       "      <td>-0.183059</td>\n",
       "      <td>-0.107733</td>\n",
       "      <td>-0.163301</td>\n",
       "      <td>0.039835</td>\n",
       "      <td>4</td>\n",
       "      <td>-0.155930</td>\n",
       "      <td>-0.143593</td>\n",
       "      <td>-0.149653</td>\n",
       "      <td>-0.149725</td>\n",
       "      <td>0.005037</td>\n",
       "    </tr>\n",
       "  </tbody>\n",
       "</table>\n",
       "<p>8 rows × 31 columns</p>\n",
       "</div>"
      ],
      "text/plain": [
       "   mean_fit_time  std_fit_time  mean_score_time  std_score_time  \\\n",
       "0      26.816066     10.134283         0.847666        0.060097   \n",
       "1      37.536013     15.243256         0.931639        0.012668   \n",
       "2      27.180488     10.590345         0.791277        0.003567   \n",
       "3      37.356578     15.307896         0.936545        0.004921   \n",
       "4      87.692832     40.988893         0.958071        0.020261   \n",
       "5     129.607080     59.814331         1.156964        0.024411   \n",
       "6      88.088960     39.755504         0.958311        0.004315   \n",
       "7     129.055077     60.098128         1.177018        0.026986   \n",
       "\n",
       "  param_bootstrap param_max_depth param_min_samples_split param_n_estimators  \\\n",
       "0            True               2                       8                  2   \n",
       "1            True               2                       8                  3   \n",
       "2            True               2                      10                  2   \n",
       "3            True               2                      10                  3   \n",
       "4            True               9                       8                  2   \n",
       "5            True               9                       8                  3   \n",
       "6            True               9                      10                  2   \n",
       "7            True               9                      10                  3   \n",
       "\n",
       "                                              params  \\\n",
       "0  {'bootstrap': True, 'max_depth': 2, 'min_sampl...   \n",
       "1  {'bootstrap': True, 'max_depth': 2, 'min_sampl...   \n",
       "2  {'bootstrap': True, 'max_depth': 2, 'min_sampl...   \n",
       "3  {'bootstrap': True, 'max_depth': 2, 'min_sampl...   \n",
       "4  {'bootstrap': True, 'max_depth': 9, 'min_sampl...   \n",
       "5  {'bootstrap': True, 'max_depth': 9, 'min_sampl...   \n",
       "6  {'bootstrap': True, 'max_depth': 9, 'min_sampl...   \n",
       "7  {'bootstrap': True, 'max_depth': 9, 'min_sampl...   \n",
       "\n",
       "   split0_test_neg_mean_squared_error  ...  \\\n",
       "0                           -0.541945  ...   \n",
       "1                           -0.541487  ...   \n",
       "2                           -0.540032  ...   \n",
       "3                           -0.542424  ...   \n",
       "4                           -0.473719  ...   \n",
       "5                           -0.466549  ...   \n",
       "6                           -0.674051  ...   \n",
       "7                           -0.548037  ...   \n",
       "\n",
       "   split1_test_neg_mean_absolute_error  split2_test_neg_mean_absolute_error  \\\n",
       "0                            -0.208063                            -0.120148   \n",
       "1                            -0.208142                            -0.120153   \n",
       "2                            -0.207442                            -0.120124   \n",
       "3                            -0.207339                            -0.120218   \n",
       "4                            -0.185790                            -0.109988   \n",
       "5                            -0.184223                            -0.109132   \n",
       "6                            -0.180434                            -0.107183   \n",
       "7                            -0.183059                            -0.107733   \n",
       "\n",
       "   mean_test_neg_mean_absolute_error  std_test_neg_mean_absolute_error  \\\n",
       "0                          -0.171287                          0.037301   \n",
       "1                          -0.171460                          0.037380   \n",
       "2                          -0.171025                          0.037090   \n",
       "3                          -0.171204                          0.037085   \n",
       "4                          -0.147769                          0.030947   \n",
       "5                          -0.146789                          0.030656   \n",
       "6                          -0.159958                          0.037629   \n",
       "7                          -0.163301                          0.039835   \n",
       "\n",
       "   rank_test_neg_mean_absolute_error  split0_train_neg_mean_absolute_error  \\\n",
       "0                                  7                             -0.222831   \n",
       "1                                  8                             -0.223015   \n",
       "2                                  5                             -0.221835   \n",
       "3                                  6                             -0.223527   \n",
       "4                                  2                             -0.155173   \n",
       "5                                  1                             -0.155676   \n",
       "6                                  3                             -0.157455   \n",
       "7                                  4                             -0.155930   \n",
       "\n",
       "   split1_train_neg_mean_absolute_error  split2_train_neg_mean_absolute_error  \\\n",
       "0                             -0.203216                             -0.206709   \n",
       "1                             -0.202349                             -0.206664   \n",
       "2                             -0.201959                             -0.206399   \n",
       "3                             -0.201987                             -0.206671   \n",
       "4                             -0.144623                             -0.150273   \n",
       "5                             -0.143487                             -0.149800   \n",
       "6                             -0.144905                             -0.149843   \n",
       "7                             -0.143593                             -0.149653   \n",
       "\n",
       "   mean_train_neg_mean_absolute_error  std_train_neg_mean_absolute_error  \n",
       "0                           -0.210919                           0.008543  \n",
       "1                           -0.210676                           0.008901  \n",
       "2                           -0.210064                           0.008518  \n",
       "3                           -0.210728                           0.009250  \n",
       "4                           -0.150023                           0.004311  \n",
       "5                           -0.149654                           0.004977  \n",
       "6                           -0.150734                           0.005162  \n",
       "7                           -0.149725                           0.005037  \n",
       "\n",
       "[8 rows x 31 columns]"
      ]
     },
     "execution_count": 18,
     "metadata": {},
     "output_type": "execute_result"
    }
   ],
   "source": [
    "resultados_GS = pd.DataFrame(clf.cv_results_) #dataframe con resultados de todas las combinaicones de parámetros\n",
    "resultados_GS"
   ]
  },
  {
   "cell_type": "code",
   "execution_count": 19,
   "metadata": {},
   "outputs": [
    {
     "data": {
      "text/plain": [
       "0   -0.464193\n",
       "1   -0.463203\n",
       "2   -0.462043\n",
       "3   -0.461954\n",
       "4   -0.459278\n",
       "5   -0.439155\n",
       "6   -0.528024\n",
       "7   -0.468133\n",
       "Name: mean_test_neg_mean_squared_error, dtype: float64"
      ]
     },
     "execution_count": 19,
     "metadata": {},
     "output_type": "execute_result"
    }
   ],
   "source": [
    "resultados_GS['mean_test_neg_mean_squared_error']"
   ]
  },
  {
   "cell_type": "code",
   "execution_count": 20,
   "metadata": {},
   "outputs": [
    {
     "data": {
      "text/plain": [
       "0   -0.171287\n",
       "1   -0.171460\n",
       "2   -0.171025\n",
       "3   -0.171204\n",
       "4   -0.147769\n",
       "5   -0.146789\n",
       "6   -0.159958\n",
       "7   -0.163301\n",
       "Name: mean_test_neg_mean_absolute_error, dtype: float64"
      ]
     },
     "execution_count": 20,
     "metadata": {},
     "output_type": "execute_result"
    }
   ],
   "source": [
    "resultados_GS['mean_test_neg_mean_absolute_error']"
   ]
  },
  {
   "cell_type": "code",
   "execution_count": 21,
   "metadata": {},
   "outputs": [
    {
     "data": {
      "text/plain": [
       "5"
      ]
     },
     "execution_count": 21,
     "metadata": {},
     "output_type": "execute_result"
    }
   ],
   "source": [
    "#clf.best_estimator_ #Mejores parámetros en general \n",
    "#clf.best_score_ #Mejor MSE\n",
    "clf.best_index_ #De los modelos que se corrieron en que \"lugar\" esta el modelo de la tabla anterior\n",
    "#clf.scorer_ #Que medida de error se utiliza make_scorer(mean_squared_error, greater_is_better=False)"
   ]
  },
  {
   "cell_type": "code",
   "execution_count": 22,
   "metadata": {},
   "outputs": [
    {
     "data": {
      "text/plain": [
       "{'bootstrap': True, 'max_depth': 9, 'min_samples_split': 8, 'n_estimators': 3}"
      ]
     },
     "execution_count": 22,
     "metadata": {},
     "output_type": "execute_result"
    }
   ],
   "source": [
    "mejores_valores = dict(clf.best_params_.items())\n",
    "mejores_valores"
   ]
  },
  {
   "cell_type": "code",
   "execution_count": 23,
   "metadata": {},
   "outputs": [
    {
     "data": {
      "text/plain": [
       "-0.14678861961101805"
      ]
     },
     "execution_count": 23,
     "metadata": {},
     "output_type": "execute_result"
    }
   ],
   "source": [
    "MAE_entrenamiento = clf.best_score_\n",
    "MAE_entrenamiento"
   ]
  },
  {
   "cell_type": "code",
   "execution_count": 25,
   "metadata": {},
   "outputs": [
    {
     "data": {
      "text/plain": [
       "0.439155"
      ]
     },
     "execution_count": 25,
     "metadata": {},
     "output_type": "execute_result"
    }
   ],
   "source": [
    "MSE_entrenamiento = (abs(-0.439155))\n",
    "MSE_entrenamiento"
   ]
  },
  {
   "cell_type": "code",
   "execution_count": 26,
   "metadata": {},
   "outputs": [
    {
     "data": {
      "text/plain": [
       "0.6626877092567811"
      ]
     },
     "execution_count": 26,
     "metadata": {},
     "output_type": "execute_result"
    }
   ],
   "source": [
    "RMSE_entrenamiento = np.sqrt(abs(MSE_entrenamiento))\n",
    "RMSE_entrenamiento"
   ]
  },
  {
   "cell_type": "markdown",
   "metadata": {},
   "source": [
    "#### 9. Entrenar el modelo con la mejor combinación de parámetros obtenida"
   ]
  },
  {
   "cell_type": "code",
   "execution_count": 27,
   "metadata": {},
   "outputs": [],
   "source": [
    "# Fit regression model\n",
    "regr_1 = RandomForestRegressor(\n",
    "    max_depth=mejores_valores['max_depth'],\n",
    "    min_samples_split=mejores_valores['min_samples_split'],\n",
    "    n_estimators=mejores_valores['n_estimators'])"
   ]
  },
  {
   "cell_type": "code",
   "execution_count": 28,
   "metadata": {},
   "outputs": [
    {
     "data": {
      "text/plain": [
       "RandomForestRegressor(bootstrap=True, criterion='mse', max_depth=9,\n",
       "           max_features='auto', max_leaf_nodes=None,\n",
       "           min_impurity_decrease=0.0, min_impurity_split=None,\n",
       "           min_samples_leaf=1, min_samples_split=8,\n",
       "           min_weight_fraction_leaf=0.0, n_estimators=3, n_jobs=None,\n",
       "           oob_score=False, random_state=None, verbose=0, warm_start=False)"
      ]
     },
     "execution_count": 28,
     "metadata": {},
     "output_type": "execute_result"
    }
   ],
   "source": [
    "regr_1.fit(x, y) #3:23-3:24"
   ]
  },
  {
   "cell_type": "markdown",
   "metadata": {},
   "source": [
    "#### 10. Preparar datos del conjunto de prueba para ser empleados en el modelo"
   ]
  },
  {
   "cell_type": "code",
   "execution_count": 29,
   "metadata": {},
   "outputs": [
    {
     "data": {
      "text/plain": [
       "array([[1.00000000e+00, 2.00000000e+00, 1.00000000e+00, ...,\n",
       "        1.15659411e+00, 0.00000000e+00, 0.00000000e+00],\n",
       "       [2.00000000e+00, 2.00000000e+00, 1.00000000e+00, ...,\n",
       "        1.15659411e+00, 0.00000000e+00, 0.00000000e+00],\n",
       "       [3.00000000e+00, 2.00000000e+00, 1.00000000e+00, ...,\n",
       "        1.15659411e+00, 0.00000000e+00, 0.00000000e+00],\n",
       "       ...,\n",
       "       [1.90700000e+03, 5.00000000e+00, 9.90000000e+01, ...,\n",
       "        1.15659400e+00, 0.00000000e+00, 0.00000000e+00],\n",
       "       [1.90800000e+03, 5.00000000e+00, 9.90000000e+01, ...,\n",
       "        1.15659400e+00, 0.00000000e+00, 0.00000000e+00],\n",
       "       [1.90900000e+03, 5.00000000e+00, 9.90000000e+01, ...,\n",
       "        1.15659400e+00, 0.00000000e+00, 0.00000000e+00]])"
      ]
     },
     "execution_count": 29,
     "metadata": {},
     "output_type": "execute_result"
    }
   ],
   "source": [
    "prueba_x = prueba.iloc[:, prueba.columns != 'ventas_por_mes'].values\n",
    "prueba_x"
   ]
  },
  {
   "cell_type": "markdown",
   "metadata": {},
   "source": [
    "#### 11. Utilizar el modelo para predecir con conjunto de prueba"
   ]
  },
  {
   "cell_type": "code",
   "execution_count": 30,
   "metadata": {},
   "outputs": [],
   "source": [
    "pred = regr_1.predict(prueba_x)"
   ]
  },
  {
   "cell_type": "markdown",
   "metadata": {},
   "source": [
    "#### 12. Revisar predicciones"
   ]
  },
  {
   "cell_type": "code",
   "execution_count": 31,
   "metadata": {},
   "outputs": [
    {
     "data": {
      "text/plain": [
       "25.53067647253694"
      ]
     },
     "execution_count": 31,
     "metadata": {},
     "output_type": "execute_result"
    }
   ],
   "source": [
    "max(pred)"
   ]
  },
  {
   "cell_type": "code",
   "execution_count": 32,
   "metadata": {},
   "outputs": [
    {
     "data": {
      "text/plain": [
       "0.002186919754918148"
      ]
     },
     "execution_count": 32,
     "metadata": {},
     "output_type": "execute_result"
    }
   ],
   "source": [
    "min(pred)"
   ]
  },
  {
   "cell_type": "code",
   "execution_count": 33,
   "metadata": {},
   "outputs": [],
   "source": [
    "pred = np.clip(pred,0,200)"
   ]
  },
  {
   "cell_type": "code",
   "execution_count": 34,
   "metadata": {},
   "outputs": [
    {
     "data": {
      "text/html": [
       "<div>\n",
       "<style scoped>\n",
       "    .dataframe tbody tr th:only-of-type {\n",
       "        vertical-align: middle;\n",
       "    }\n",
       "\n",
       "    .dataframe tbody tr th {\n",
       "        vertical-align: top;\n",
       "    }\n",
       "\n",
       "    .dataframe thead th {\n",
       "        text-align: right;\n",
       "    }\n",
       "</style>\n",
       "<table border=\"1\" class=\"dataframe\">\n",
       "  <thead>\n",
       "    <tr style=\"text-align: right;\">\n",
       "      <th></th>\n",
       "      <th>ventas_por_mes_pred</th>\n",
       "    </tr>\n",
       "  </thead>\n",
       "  <tbody>\n",
       "    <tr>\n",
       "      <th>0</th>\n",
       "      <td>0.009327</td>\n",
       "    </tr>\n",
       "    <tr>\n",
       "      <th>1</th>\n",
       "      <td>0.002187</td>\n",
       "    </tr>\n",
       "    <tr>\n",
       "      <th>2</th>\n",
       "      <td>0.003791</td>\n",
       "    </tr>\n",
       "    <tr>\n",
       "      <th>3</th>\n",
       "      <td>0.003791</td>\n",
       "    </tr>\n",
       "    <tr>\n",
       "      <th>4</th>\n",
       "      <td>0.002187</td>\n",
       "    </tr>\n",
       "  </tbody>\n",
       "</table>\n",
       "</div>"
      ],
      "text/plain": [
       "   ventas_por_mes_pred\n",
       "0             0.009327\n",
       "1             0.002187\n",
       "2             0.003791\n",
       "3             0.003791\n",
       "4             0.002187"
      ]
     },
     "execution_count": 34,
     "metadata": {},
     "output_type": "execute_result"
    }
   ],
   "source": [
    "prediccion = pd.DataFrame(pred, columns = ['ventas_por_mes_pred'])\n",
    "prediccion.head()"
   ]
  },
  {
   "cell_type": "code",
   "execution_count": 35,
   "metadata": {},
   "outputs": [
    {
     "data": {
      "text/html": [
       "<div>\n",
       "<style scoped>\n",
       "    .dataframe tbody tr th:only-of-type {\n",
       "        vertical-align: middle;\n",
       "    }\n",
       "\n",
       "    .dataframe tbody tr th {\n",
       "        vertical-align: top;\n",
       "    }\n",
       "\n",
       "    .dataframe thead th {\n",
       "        text-align: right;\n",
       "    }\n",
       "</style>\n",
       "<table border=\"1\" class=\"dataframe\">\n",
       "  <thead>\n",
       "    <tr style=\"text-align: right;\">\n",
       "      <th></th>\n",
       "      <th>ventas_por_mes_pred</th>\n",
       "    </tr>\n",
       "  </thead>\n",
       "  <tbody>\n",
       "    <tr>\n",
       "      <th>0</th>\n",
       "      <td>0.0</td>\n",
       "    </tr>\n",
       "    <tr>\n",
       "      <th>1</th>\n",
       "      <td>0.0</td>\n",
       "    </tr>\n",
       "    <tr>\n",
       "      <th>2</th>\n",
       "      <td>0.0</td>\n",
       "    </tr>\n",
       "    <tr>\n",
       "      <th>3</th>\n",
       "      <td>0.0</td>\n",
       "    </tr>\n",
       "    <tr>\n",
       "      <th>4</th>\n",
       "      <td>0.0</td>\n",
       "    </tr>\n",
       "  </tbody>\n",
       "</table>\n",
       "</div>"
      ],
      "text/plain": [
       "   ventas_por_mes_pred\n",
       "0                  0.0\n",
       "1                  0.0\n",
       "2                  0.0\n",
       "3                  0.0\n",
       "4                  0.0"
      ]
     },
     "execution_count": 35,
     "metadata": {},
     "output_type": "execute_result"
    }
   ],
   "source": [
    "prediccion = prediccion.round()\n",
    "prediccion.head()"
   ]
  },
  {
   "cell_type": "code",
   "execution_count": 36,
   "metadata": {},
   "outputs": [
    {
     "data": {
      "text/plain": [
       "ventas_por_mes_pred    71094.0\n",
       "dtype: float64"
      ]
     },
     "execution_count": 36,
     "metadata": {},
     "output_type": "execute_result"
    }
   ],
   "source": [
    "predicciones_totales_entrenamiento = prediccion.sum()\n",
    "predicciones_totales_entrenamiento"
   ]
  },
  {
   "cell_type": "code",
   "execution_count": 37,
   "metadata": {},
   "outputs": [],
   "source": [
    "prueba_resultados = pd.concat([prueba.reset_index(drop=True), prediccion], axis = 1, ignore_index=False)"
   ]
  },
  {
   "cell_type": "markdown",
   "metadata": {},
   "source": [
    "#### 13. Resultados conjunto de prueba"
   ]
  },
  {
   "cell_type": "code",
   "execution_count": 38,
   "metadata": {},
   "outputs": [
    {
     "data": {
      "text/plain": [
       "0.25961696763163483"
      ]
     },
     "execution_count": 38,
     "metadata": {},
     "output_type": "execute_result"
    }
   ],
   "source": [
    "#calcular mse\n",
    "prueba_resultados['error'] = ((prueba_resultados['ventas_por_mes'] - prueba_resultados['ventas_por_mes_pred']) ** 2) / 868595\n",
    "#prueba_resultados.head()\n",
    "MSE = prueba_resultados['error'].sum()\n",
    "MSE"
   ]
  },
  {
   "cell_type": "code",
   "execution_count": 39,
   "metadata": {},
   "outputs": [
    {
     "data": {
      "text/plain": [
       "0.5095262187872522"
      ]
     },
     "execution_count": 39,
     "metadata": {},
     "output_type": "execute_result"
    }
   ],
   "source": [
    "RMSE = MSE ** (1/2)\n",
    "RMSE"
   ]
  },
  {
   "cell_type": "code",
   "execution_count": 40,
   "metadata": {},
   "outputs": [
    {
     "data": {
      "text/plain": [
       "0.0884002325594782"
      ]
     },
     "execution_count": 40,
     "metadata": {},
     "output_type": "execute_result"
    }
   ],
   "source": [
    "#Calcular MAE\n",
    "prueba_resultados['error_MAE'] = abs(prueba_resultados['ventas_por_mes'] - prueba_resultados['ventas_por_mes_pred']) / 868595\n",
    "prueba_resultados.head()\n",
    "MAE = prueba_resultados['error_MAE'].sum()\n",
    "MAE"
   ]
  },
  {
   "cell_type": "code",
   "execution_count": 41,
   "metadata": {},
   "outputs": [],
   "source": [
    "# https://towardsdatascience.com/hyperparameter-tuning-the-random-forest-in-python-using-scikit-learn-28d2aa77dd74"
   ]
  }
 ],
 "metadata": {
  "kernelspec": {
   "display_name": "Python 3.6",
   "language": "python",
   "name": "python3"
  },
  "language_info": {
   "codemirror_mode": {
    "name": "ipython",
    "version": 3
   },
   "file_extension": ".py",
   "mimetype": "text/x-python",
   "name": "python",
   "nbconvert_exporter": "python",
   "pygments_lexer": "ipython3",
   "version": "3.6.8"
  }
 },
 "nbformat": 4,
 "nbformat_minor": 1
}
