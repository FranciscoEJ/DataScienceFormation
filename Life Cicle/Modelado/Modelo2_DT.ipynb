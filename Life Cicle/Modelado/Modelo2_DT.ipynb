{
 "cells": [
  {
   "cell_type": "markdown",
   "metadata": {},
   "source": [
    "# Modelo: Árbol de Decisión"
   ]
  },
  {
   "cell_type": "markdown",
   "metadata": {},
   "source": [
    "#### 1. Cargar los datos"
   ]
  },
  {
   "cell_type": "code",
   "execution_count": 1,
   "metadata": {},
   "outputs": [],
   "source": [
    "import types\n",
    "import pandas as pd\n",
    "from botocore.client import Config\n",
    "import ibm_boto3\n",
    "\n",
    "def __iter__(self): return 0\n",
    "\n",
    "#INSERTAR CREDENCIALES\n",
    "\n",
    "datos_completos = pd.read_csv(body)"
   ]
  },
  {
   "cell_type": "code",
   "execution_count": 2,
   "metadata": {},
   "outputs": [
    {
     "data": {
      "text/html": [
       "<div>\n",
       "<style scoped>\n",
       "    .dataframe tbody tr th:only-of-type {\n",
       "        vertical-align: middle;\n",
       "    }\n",
       "\n",
       "    .dataframe tbody tr th {\n",
       "        vertical-align: top;\n",
       "    }\n",
       "\n",
       "    .dataframe thead th {\n",
       "        text-align: right;\n",
       "    }\n",
       "</style>\n",
       "<table border=\"1\" class=\"dataframe\">\n",
       "  <thead>\n",
       "    <tr style=\"text-align: right;\">\n",
       "      <th></th>\n",
       "      <th>tiendaID</th>\n",
       "      <th>marcaID</th>\n",
       "      <th>skuID</th>\n",
       "      <th>gammaID</th>\n",
       "      <th>fechaID</th>\n",
       "      <th>ventas_por_mes</th>\n",
       "      <th>lag1mes_ventas_totales_por_tienda_por_mes</th>\n",
       "      <th>lag1mes_ventas_promedio_por_tienda_por_mes</th>\n",
       "      <th>lag1mes_ventas_totales_por_marca_por_mes</th>\n",
       "      <th>lag1mes_entas_promedio_por_marca_por_mes</th>\n",
       "      <th>...</th>\n",
       "      <th>lag2mes_ventas_totales_por_sku_por_mes</th>\n",
       "      <th>lag2mes_ventas_promedio_por_sku_por_mes</th>\n",
       "      <th>lag3mes_ventas_totales_por_tienda_por_mes</th>\n",
       "      <th>lag3mes_ventas_promedio_por_tienda_por_mes</th>\n",
       "      <th>lag3mes_ventas_totales_por_marca_por_mes</th>\n",
       "      <th>lag3mes_entas_promedio_por_marca_por_mes</th>\n",
       "      <th>lag3mes_ventas_totales_por_gamma_por_mes</th>\n",
       "      <th>lag3mes_ventas_promedio_por_gamma_por_mes</th>\n",
       "      <th>lag3mes_ventas_totales_por_sku_por_mes</th>\n",
       "      <th>lag3mes_ventas_promedio_por_sku_por_mes</th>\n",
       "    </tr>\n",
       "  </thead>\n",
       "  <tbody>\n",
       "    <tr>\n",
       "      <th>0</th>\n",
       "      <td>1</td>\n",
       "      <td>2</td>\n",
       "      <td>1</td>\n",
       "      <td>1</td>\n",
       "      <td>0</td>\n",
       "      <td>0</td>\n",
       "      <td>70</td>\n",
       "      <td>1.044776</td>\n",
       "      <td>355</td>\n",
       "      <td>1.047198</td>\n",
       "      <td>...</td>\n",
       "      <td>1</td>\n",
       "      <td>1.0</td>\n",
       "      <td>70</td>\n",
       "      <td>1.044776</td>\n",
       "      <td>355</td>\n",
       "      <td>1.047198</td>\n",
       "      <td>86507</td>\n",
       "      <td>1.161542</td>\n",
       "      <td>1</td>\n",
       "      <td>1.0</td>\n",
       "    </tr>\n",
       "    <tr>\n",
       "      <th>1</th>\n",
       "      <td>1</td>\n",
       "      <td>2</td>\n",
       "      <td>1</td>\n",
       "      <td>1</td>\n",
       "      <td>1</td>\n",
       "      <td>0</td>\n",
       "      <td>70</td>\n",
       "      <td>1.044776</td>\n",
       "      <td>355</td>\n",
       "      <td>1.047198</td>\n",
       "      <td>...</td>\n",
       "      <td>1</td>\n",
       "      <td>1.0</td>\n",
       "      <td>70</td>\n",
       "      <td>1.044776</td>\n",
       "      <td>355</td>\n",
       "      <td>1.047198</td>\n",
       "      <td>86507</td>\n",
       "      <td>1.161542</td>\n",
       "      <td>1</td>\n",
       "      <td>1.0</td>\n",
       "    </tr>\n",
       "    <tr>\n",
       "      <th>2</th>\n",
       "      <td>1</td>\n",
       "      <td>2</td>\n",
       "      <td>1</td>\n",
       "      <td>1</td>\n",
       "      <td>2</td>\n",
       "      <td>0</td>\n",
       "      <td>79</td>\n",
       "      <td>1.128571</td>\n",
       "      <td>379</td>\n",
       "      <td>1.046961</td>\n",
       "      <td>...</td>\n",
       "      <td>1</td>\n",
       "      <td>1.0</td>\n",
       "      <td>70</td>\n",
       "      <td>1.044776</td>\n",
       "      <td>355</td>\n",
       "      <td>1.047198</td>\n",
       "      <td>86507</td>\n",
       "      <td>1.161542</td>\n",
       "      <td>1</td>\n",
       "      <td>1.0</td>\n",
       "    </tr>\n",
       "    <tr>\n",
       "      <th>3</th>\n",
       "      <td>1</td>\n",
       "      <td>2</td>\n",
       "      <td>1</td>\n",
       "      <td>1</td>\n",
       "      <td>3</td>\n",
       "      <td>0</td>\n",
       "      <td>87</td>\n",
       "      <td>1.060976</td>\n",
       "      <td>264</td>\n",
       "      <td>1.068826</td>\n",
       "      <td>...</td>\n",
       "      <td>1</td>\n",
       "      <td>1.0</td>\n",
       "      <td>70</td>\n",
       "      <td>1.044776</td>\n",
       "      <td>355</td>\n",
       "      <td>1.047198</td>\n",
       "      <td>86507</td>\n",
       "      <td>1.161542</td>\n",
       "      <td>1</td>\n",
       "      <td>1.0</td>\n",
       "    </tr>\n",
       "    <tr>\n",
       "      <th>4</th>\n",
       "      <td>1</td>\n",
       "      <td>2</td>\n",
       "      <td>1</td>\n",
       "      <td>1</td>\n",
       "      <td>4</td>\n",
       "      <td>0</td>\n",
       "      <td>75</td>\n",
       "      <td>1.041667</td>\n",
       "      <td>136</td>\n",
       "      <td>1.079365</td>\n",
       "      <td>...</td>\n",
       "      <td>0</td>\n",
       "      <td>0.0</td>\n",
       "      <td>79</td>\n",
       "      <td>1.128571</td>\n",
       "      <td>379</td>\n",
       "      <td>1.046961</td>\n",
       "      <td>92120</td>\n",
       "      <td>1.137986</td>\n",
       "      <td>1</td>\n",
       "      <td>1.0</td>\n",
       "    </tr>\n",
       "  </tbody>\n",
       "</table>\n",
       "<p>5 rows × 30 columns</p>\n",
       "</div>"
      ],
      "text/plain": [
       "   tiendaID  marcaID  skuID  gammaID  fechaID  ventas_por_mes  \\\n",
       "0         1        2      1        1        0               0   \n",
       "1         1        2      1        1        1               0   \n",
       "2         1        2      1        1        2               0   \n",
       "3         1        2      1        1        3               0   \n",
       "4         1        2      1        1        4               0   \n",
       "\n",
       "   lag1mes_ventas_totales_por_tienda_por_mes  \\\n",
       "0                                         70   \n",
       "1                                         70   \n",
       "2                                         79   \n",
       "3                                         87   \n",
       "4                                         75   \n",
       "\n",
       "   lag1mes_ventas_promedio_por_tienda_por_mes  \\\n",
       "0                                    1.044776   \n",
       "1                                    1.044776   \n",
       "2                                    1.128571   \n",
       "3                                    1.060976   \n",
       "4                                    1.041667   \n",
       "\n",
       "   lag1mes_ventas_totales_por_marca_por_mes  \\\n",
       "0                                       355   \n",
       "1                                       355   \n",
       "2                                       379   \n",
       "3                                       264   \n",
       "4                                       136   \n",
       "\n",
       "   lag1mes_entas_promedio_por_marca_por_mes  ...  \\\n",
       "0                                  1.047198  ...   \n",
       "1                                  1.047198  ...   \n",
       "2                                  1.046961  ...   \n",
       "3                                  1.068826  ...   \n",
       "4                                  1.079365  ...   \n",
       "\n",
       "   lag2mes_ventas_totales_por_sku_por_mes  \\\n",
       "0                                       1   \n",
       "1                                       1   \n",
       "2                                       1   \n",
       "3                                       1   \n",
       "4                                       0   \n",
       "\n",
       "   lag2mes_ventas_promedio_por_sku_por_mes  \\\n",
       "0                                      1.0   \n",
       "1                                      1.0   \n",
       "2                                      1.0   \n",
       "3                                      1.0   \n",
       "4                                      0.0   \n",
       "\n",
       "   lag3mes_ventas_totales_por_tienda_por_mes  \\\n",
       "0                                         70   \n",
       "1                                         70   \n",
       "2                                         70   \n",
       "3                                         70   \n",
       "4                                         79   \n",
       "\n",
       "   lag3mes_ventas_promedio_por_tienda_por_mes  \\\n",
       "0                                    1.044776   \n",
       "1                                    1.044776   \n",
       "2                                    1.044776   \n",
       "3                                    1.044776   \n",
       "4                                    1.128571   \n",
       "\n",
       "   lag3mes_ventas_totales_por_marca_por_mes  \\\n",
       "0                                       355   \n",
       "1                                       355   \n",
       "2                                       355   \n",
       "3                                       355   \n",
       "4                                       379   \n",
       "\n",
       "   lag3mes_entas_promedio_por_marca_por_mes  \\\n",
       "0                                  1.047198   \n",
       "1                                  1.047198   \n",
       "2                                  1.047198   \n",
       "3                                  1.047198   \n",
       "4                                  1.046961   \n",
       "\n",
       "   lag3mes_ventas_totales_por_gamma_por_mes  \\\n",
       "0                                     86507   \n",
       "1                                     86507   \n",
       "2                                     86507   \n",
       "3                                     86507   \n",
       "4                                     92120   \n",
       "\n",
       "   lag3mes_ventas_promedio_por_gamma_por_mes  \\\n",
       "0                                   1.161542   \n",
       "1                                   1.161542   \n",
       "2                                   1.161542   \n",
       "3                                   1.161542   \n",
       "4                                   1.137986   \n",
       "\n",
       "   lag3mes_ventas_totales_por_sku_por_mes  \\\n",
       "0                                       1   \n",
       "1                                       1   \n",
       "2                                       1   \n",
       "3                                       1   \n",
       "4                                       1   \n",
       "\n",
       "   lag3mes_ventas_promedio_por_sku_por_mes  \n",
       "0                                      1.0  \n",
       "1                                      1.0  \n",
       "2                                      1.0  \n",
       "3                                      1.0  \n",
       "4                                      1.0  \n",
       "\n",
       "[5 rows x 30 columns]"
      ]
     },
     "execution_count": 2,
     "metadata": {},
     "output_type": "execute_result"
    }
   ],
   "source": [
    "datos_completos.head()\n",
    "#datos_completos.info()\n",
    "#datos_completos.shape #el valor de renglones debe de cambiar conforme el tiempo transcurre y se tiene más información de las ventas(3665280, 30)"
   ]
  },
  {
   "cell_type": "code",
   "execution_count": 3,
   "metadata": {},
   "outputs": [],
   "source": [
    "datos_modelo = datos_completos"
   ]
  },
  {
   "cell_type": "markdown",
   "metadata": {},
   "source": [
    "#### 2. Dividir en entrenamiento y prueba"
   ]
  },
  {
   "cell_type": "code",
   "execution_count": 4,
   "metadata": {},
   "outputs": [
    {
     "data": {
      "text/plain": [
       "8"
      ]
     },
     "execution_count": 4,
     "metadata": {},
     "output_type": "execute_result"
    }
   ],
   "source": [
    "#Hasta este número se considera el conjunto de entrenamiento\n",
    "ultimo_mes_entrenamiento = datos_modelo.fechaID.unique()\n",
    "ultimo_mes_entrenamiento = ultimo_mes_entrenamiento[-2]\n",
    "ultimo_mes_entrenamiento"
   ]
  },
  {
   "cell_type": "code",
   "execution_count": 5,
   "metadata": {},
   "outputs": [
    {
     "data": {
      "text/plain": [
       "9"
      ]
     },
     "execution_count": 5,
     "metadata": {},
     "output_type": "execute_result"
    }
   ],
   "source": [
    "#Se tiene un mes para el conjunto de prueba\n",
    "periodo_prueba = datos_modelo.fechaID.unique()\n",
    "periodo_prueba = periodo_prueba[-1]\n",
    "periodo_prueba"
   ]
  },
  {
   "cell_type": "code",
   "execution_count": 6,
   "metadata": {},
   "outputs": [
    {
     "data": {
      "text/html": [
       "<div>\n",
       "<style scoped>\n",
       "    .dataframe tbody tr th:only-of-type {\n",
       "        vertical-align: middle;\n",
       "    }\n",
       "\n",
       "    .dataframe tbody tr th {\n",
       "        vertical-align: top;\n",
       "    }\n",
       "\n",
       "    .dataframe thead th {\n",
       "        text-align: right;\n",
       "    }\n",
       "</style>\n",
       "<table border=\"1\" class=\"dataframe\">\n",
       "  <thead>\n",
       "    <tr style=\"text-align: right;\">\n",
       "      <th></th>\n",
       "      <th>tiendaID</th>\n",
       "      <th>marcaID</th>\n",
       "      <th>skuID</th>\n",
       "      <th>gammaID</th>\n",
       "      <th>fechaID</th>\n",
       "      <th>ventas_por_mes</th>\n",
       "      <th>lag1mes_ventas_totales_por_tienda_por_mes</th>\n",
       "      <th>lag1mes_ventas_promedio_por_tienda_por_mes</th>\n",
       "      <th>lag1mes_ventas_totales_por_marca_por_mes</th>\n",
       "      <th>lag1mes_entas_promedio_por_marca_por_mes</th>\n",
       "      <th>...</th>\n",
       "      <th>lag2mes_ventas_totales_por_sku_por_mes</th>\n",
       "      <th>lag2mes_ventas_promedio_por_sku_por_mes</th>\n",
       "      <th>lag3mes_ventas_totales_por_tienda_por_mes</th>\n",
       "      <th>lag3mes_ventas_promedio_por_tienda_por_mes</th>\n",
       "      <th>lag3mes_ventas_totales_por_marca_por_mes</th>\n",
       "      <th>lag3mes_entas_promedio_por_marca_por_mes</th>\n",
       "      <th>lag3mes_ventas_totales_por_gamma_por_mes</th>\n",
       "      <th>lag3mes_ventas_promedio_por_gamma_por_mes</th>\n",
       "      <th>lag3mes_ventas_totales_por_sku_por_mes</th>\n",
       "      <th>lag3mes_ventas_promedio_por_sku_por_mes</th>\n",
       "    </tr>\n",
       "  </thead>\n",
       "  <tbody>\n",
       "    <tr>\n",
       "      <th>0</th>\n",
       "      <td>1</td>\n",
       "      <td>2</td>\n",
       "      <td>1</td>\n",
       "      <td>1</td>\n",
       "      <td>0</td>\n",
       "      <td>0</td>\n",
       "      <td>70</td>\n",
       "      <td>1.044776</td>\n",
       "      <td>355</td>\n",
       "      <td>1.047198</td>\n",
       "      <td>...</td>\n",
       "      <td>1</td>\n",
       "      <td>1.0</td>\n",
       "      <td>70</td>\n",
       "      <td>1.044776</td>\n",
       "      <td>355</td>\n",
       "      <td>1.047198</td>\n",
       "      <td>86507</td>\n",
       "      <td>1.161542</td>\n",
       "      <td>1</td>\n",
       "      <td>1.0</td>\n",
       "    </tr>\n",
       "    <tr>\n",
       "      <th>1</th>\n",
       "      <td>1</td>\n",
       "      <td>2</td>\n",
       "      <td>1</td>\n",
       "      <td>1</td>\n",
       "      <td>1</td>\n",
       "      <td>0</td>\n",
       "      <td>70</td>\n",
       "      <td>1.044776</td>\n",
       "      <td>355</td>\n",
       "      <td>1.047198</td>\n",
       "      <td>...</td>\n",
       "      <td>1</td>\n",
       "      <td>1.0</td>\n",
       "      <td>70</td>\n",
       "      <td>1.044776</td>\n",
       "      <td>355</td>\n",
       "      <td>1.047198</td>\n",
       "      <td>86507</td>\n",
       "      <td>1.161542</td>\n",
       "      <td>1</td>\n",
       "      <td>1.0</td>\n",
       "    </tr>\n",
       "    <tr>\n",
       "      <th>2</th>\n",
       "      <td>1</td>\n",
       "      <td>2</td>\n",
       "      <td>1</td>\n",
       "      <td>1</td>\n",
       "      <td>2</td>\n",
       "      <td>0</td>\n",
       "      <td>79</td>\n",
       "      <td>1.128571</td>\n",
       "      <td>379</td>\n",
       "      <td>1.046961</td>\n",
       "      <td>...</td>\n",
       "      <td>1</td>\n",
       "      <td>1.0</td>\n",
       "      <td>70</td>\n",
       "      <td>1.044776</td>\n",
       "      <td>355</td>\n",
       "      <td>1.047198</td>\n",
       "      <td>86507</td>\n",
       "      <td>1.161542</td>\n",
       "      <td>1</td>\n",
       "      <td>1.0</td>\n",
       "    </tr>\n",
       "    <tr>\n",
       "      <th>3</th>\n",
       "      <td>1</td>\n",
       "      <td>2</td>\n",
       "      <td>1</td>\n",
       "      <td>1</td>\n",
       "      <td>3</td>\n",
       "      <td>0</td>\n",
       "      <td>87</td>\n",
       "      <td>1.060976</td>\n",
       "      <td>264</td>\n",
       "      <td>1.068826</td>\n",
       "      <td>...</td>\n",
       "      <td>1</td>\n",
       "      <td>1.0</td>\n",
       "      <td>70</td>\n",
       "      <td>1.044776</td>\n",
       "      <td>355</td>\n",
       "      <td>1.047198</td>\n",
       "      <td>86507</td>\n",
       "      <td>1.161542</td>\n",
       "      <td>1</td>\n",
       "      <td>1.0</td>\n",
       "    </tr>\n",
       "    <tr>\n",
       "      <th>4</th>\n",
       "      <td>1</td>\n",
       "      <td>2</td>\n",
       "      <td>1</td>\n",
       "      <td>1</td>\n",
       "      <td>4</td>\n",
       "      <td>0</td>\n",
       "      <td>75</td>\n",
       "      <td>1.041667</td>\n",
       "      <td>136</td>\n",
       "      <td>1.079365</td>\n",
       "      <td>...</td>\n",
       "      <td>0</td>\n",
       "      <td>0.0</td>\n",
       "      <td>79</td>\n",
       "      <td>1.128571</td>\n",
       "      <td>379</td>\n",
       "      <td>1.046961</td>\n",
       "      <td>92120</td>\n",
       "      <td>1.137986</td>\n",
       "      <td>1</td>\n",
       "      <td>1.0</td>\n",
       "    </tr>\n",
       "  </tbody>\n",
       "</table>\n",
       "<p>5 rows × 30 columns</p>\n",
       "</div>"
      ],
      "text/plain": [
       "   tiendaID  marcaID  skuID  gammaID  fechaID  ventas_por_mes  \\\n",
       "0         1        2      1        1        0               0   \n",
       "1         1        2      1        1        1               0   \n",
       "2         1        2      1        1        2               0   \n",
       "3         1        2      1        1        3               0   \n",
       "4         1        2      1        1        4               0   \n",
       "\n",
       "   lag1mes_ventas_totales_por_tienda_por_mes  \\\n",
       "0                                         70   \n",
       "1                                         70   \n",
       "2                                         79   \n",
       "3                                         87   \n",
       "4                                         75   \n",
       "\n",
       "   lag1mes_ventas_promedio_por_tienda_por_mes  \\\n",
       "0                                    1.044776   \n",
       "1                                    1.044776   \n",
       "2                                    1.128571   \n",
       "3                                    1.060976   \n",
       "4                                    1.041667   \n",
       "\n",
       "   lag1mes_ventas_totales_por_marca_por_mes  \\\n",
       "0                                       355   \n",
       "1                                       355   \n",
       "2                                       379   \n",
       "3                                       264   \n",
       "4                                       136   \n",
       "\n",
       "   lag1mes_entas_promedio_por_marca_por_mes  ...  \\\n",
       "0                                  1.047198  ...   \n",
       "1                                  1.047198  ...   \n",
       "2                                  1.046961  ...   \n",
       "3                                  1.068826  ...   \n",
       "4                                  1.079365  ...   \n",
       "\n",
       "   lag2mes_ventas_totales_por_sku_por_mes  \\\n",
       "0                                       1   \n",
       "1                                       1   \n",
       "2                                       1   \n",
       "3                                       1   \n",
       "4                                       0   \n",
       "\n",
       "   lag2mes_ventas_promedio_por_sku_por_mes  \\\n",
       "0                                      1.0   \n",
       "1                                      1.0   \n",
       "2                                      1.0   \n",
       "3                                      1.0   \n",
       "4                                      0.0   \n",
       "\n",
       "   lag3mes_ventas_totales_por_tienda_por_mes  \\\n",
       "0                                         70   \n",
       "1                                         70   \n",
       "2                                         70   \n",
       "3                                         70   \n",
       "4                                         79   \n",
       "\n",
       "   lag3mes_ventas_promedio_por_tienda_por_mes  \\\n",
       "0                                    1.044776   \n",
       "1                                    1.044776   \n",
       "2                                    1.044776   \n",
       "3                                    1.044776   \n",
       "4                                    1.128571   \n",
       "\n",
       "   lag3mes_ventas_totales_por_marca_por_mes  \\\n",
       "0                                       355   \n",
       "1                                       355   \n",
       "2                                       355   \n",
       "3                                       355   \n",
       "4                                       379   \n",
       "\n",
       "   lag3mes_entas_promedio_por_marca_por_mes  \\\n",
       "0                                  1.047198   \n",
       "1                                  1.047198   \n",
       "2                                  1.047198   \n",
       "3                                  1.047198   \n",
       "4                                  1.046961   \n",
       "\n",
       "   lag3mes_ventas_totales_por_gamma_por_mes  \\\n",
       "0                                     86507   \n",
       "1                                     86507   \n",
       "2                                     86507   \n",
       "3                                     86507   \n",
       "4                                     92120   \n",
       "\n",
       "   lag3mes_ventas_promedio_por_gamma_por_mes  \\\n",
       "0                                   1.161542   \n",
       "1                                   1.161542   \n",
       "2                                   1.161542   \n",
       "3                                   1.161542   \n",
       "4                                   1.137986   \n",
       "\n",
       "   lag3mes_ventas_totales_por_sku_por_mes  \\\n",
       "0                                       1   \n",
       "1                                       1   \n",
       "2                                       1   \n",
       "3                                       1   \n",
       "4                                       1   \n",
       "\n",
       "   lag3mes_ventas_promedio_por_sku_por_mes  \n",
       "0                                      1.0  \n",
       "1                                      1.0  \n",
       "2                                      1.0  \n",
       "3                                      1.0  \n",
       "4                                      1.0  \n",
       "\n",
       "[5 rows x 30 columns]"
      ]
     },
     "execution_count": 6,
     "metadata": {},
     "output_type": "execute_result"
    }
   ],
   "source": [
    "#dividir el archivo en entrenamiento y prueba\n",
    "entrenamiento = datos_modelo[datos_modelo['fechaID']<=ultimo_mes_entrenamiento]\n",
    "entrenamiento.head()\n",
    "#entrenamiento.shape #Para este conjunto de datos, este valor va a cambiar conforme se adquieran más datos(3298752, 30)"
   ]
  },
  {
   "cell_type": "code",
   "execution_count": 7,
   "metadata": {},
   "outputs": [
    {
     "data": {
      "text/plain": [
       "(7817355, 30)"
      ]
     },
     "execution_count": 7,
     "metadata": {},
     "output_type": "execute_result"
    }
   ],
   "source": [
    "entrenamiento.shape"
   ]
  },
  {
   "cell_type": "code",
   "execution_count": 8,
   "metadata": {},
   "outputs": [
    {
     "data": {
      "text/html": [
       "<div>\n",
       "<style scoped>\n",
       "    .dataframe tbody tr th:only-of-type {\n",
       "        vertical-align: middle;\n",
       "    }\n",
       "\n",
       "    .dataframe tbody tr th {\n",
       "        vertical-align: top;\n",
       "    }\n",
       "\n",
       "    .dataframe thead th {\n",
       "        text-align: right;\n",
       "    }\n",
       "</style>\n",
       "<table border=\"1\" class=\"dataframe\">\n",
       "  <thead>\n",
       "    <tr style=\"text-align: right;\">\n",
       "      <th></th>\n",
       "      <th>tiendaID</th>\n",
       "      <th>marcaID</th>\n",
       "      <th>skuID</th>\n",
       "      <th>gammaID</th>\n",
       "      <th>fechaID</th>\n",
       "      <th>ventas_por_mes</th>\n",
       "      <th>lag1mes_ventas_totales_por_tienda_por_mes</th>\n",
       "      <th>lag1mes_ventas_promedio_por_tienda_por_mes</th>\n",
       "      <th>lag1mes_ventas_totales_por_marca_por_mes</th>\n",
       "      <th>lag1mes_entas_promedio_por_marca_por_mes</th>\n",
       "      <th>...</th>\n",
       "      <th>lag2mes_ventas_totales_por_sku_por_mes</th>\n",
       "      <th>lag2mes_ventas_promedio_por_sku_por_mes</th>\n",
       "      <th>lag3mes_ventas_totales_por_tienda_por_mes</th>\n",
       "      <th>lag3mes_ventas_promedio_por_tienda_por_mes</th>\n",
       "      <th>lag3mes_ventas_totales_por_marca_por_mes</th>\n",
       "      <th>lag3mes_entas_promedio_por_marca_por_mes</th>\n",
       "      <th>lag3mes_ventas_totales_por_gamma_por_mes</th>\n",
       "      <th>lag3mes_ventas_promedio_por_gamma_por_mes</th>\n",
       "      <th>lag3mes_ventas_totales_por_sku_por_mes</th>\n",
       "      <th>lag3mes_ventas_promedio_por_sku_por_mes</th>\n",
       "    </tr>\n",
       "  </thead>\n",
       "  <tbody>\n",
       "    <tr>\n",
       "      <th>9</th>\n",
       "      <td>1</td>\n",
       "      <td>2</td>\n",
       "      <td>1</td>\n",
       "      <td>1</td>\n",
       "      <td>9</td>\n",
       "      <td>0</td>\n",
       "      <td>61</td>\n",
       "      <td>1.070175</td>\n",
       "      <td>53</td>\n",
       "      <td>1.081633</td>\n",
       "      <td>...</td>\n",
       "      <td>1</td>\n",
       "      <td>1.0</td>\n",
       "      <td>73</td>\n",
       "      <td>1.028169</td>\n",
       "      <td>32</td>\n",
       "      <td>1.066667</td>\n",
       "      <td>95478</td>\n",
       "      <td>1.156594</td>\n",
       "      <td>0</td>\n",
       "      <td>0.0</td>\n",
       "    </tr>\n",
       "    <tr>\n",
       "      <th>19</th>\n",
       "      <td>2</td>\n",
       "      <td>2</td>\n",
       "      <td>1</td>\n",
       "      <td>1</td>\n",
       "      <td>9</td>\n",
       "      <td>0</td>\n",
       "      <td>15</td>\n",
       "      <td>1.000000</td>\n",
       "      <td>53</td>\n",
       "      <td>1.081633</td>\n",
       "      <td>...</td>\n",
       "      <td>1</td>\n",
       "      <td>1.0</td>\n",
       "      <td>27</td>\n",
       "      <td>1.038462</td>\n",
       "      <td>32</td>\n",
       "      <td>1.066667</td>\n",
       "      <td>95478</td>\n",
       "      <td>1.156594</td>\n",
       "      <td>0</td>\n",
       "      <td>0.0</td>\n",
       "    </tr>\n",
       "    <tr>\n",
       "      <th>29</th>\n",
       "      <td>3</td>\n",
       "      <td>2</td>\n",
       "      <td>1</td>\n",
       "      <td>1</td>\n",
       "      <td>9</td>\n",
       "      <td>0</td>\n",
       "      <td>37</td>\n",
       "      <td>1.000000</td>\n",
       "      <td>53</td>\n",
       "      <td>1.081633</td>\n",
       "      <td>...</td>\n",
       "      <td>1</td>\n",
       "      <td>1.0</td>\n",
       "      <td>61</td>\n",
       "      <td>1.089286</td>\n",
       "      <td>32</td>\n",
       "      <td>1.066667</td>\n",
       "      <td>95478</td>\n",
       "      <td>1.156594</td>\n",
       "      <td>0</td>\n",
       "      <td>0.0</td>\n",
       "    </tr>\n",
       "    <tr>\n",
       "      <th>39</th>\n",
       "      <td>4</td>\n",
       "      <td>2</td>\n",
       "      <td>1</td>\n",
       "      <td>1</td>\n",
       "      <td>9</td>\n",
       "      <td>0</td>\n",
       "      <td>28</td>\n",
       "      <td>1.037037</td>\n",
       "      <td>53</td>\n",
       "      <td>1.081633</td>\n",
       "      <td>...</td>\n",
       "      <td>1</td>\n",
       "      <td>1.0</td>\n",
       "      <td>16</td>\n",
       "      <td>1.230769</td>\n",
       "      <td>32</td>\n",
       "      <td>1.066667</td>\n",
       "      <td>95478</td>\n",
       "      <td>1.156594</td>\n",
       "      <td>0</td>\n",
       "      <td>0.0</td>\n",
       "    </tr>\n",
       "    <tr>\n",
       "      <th>49</th>\n",
       "      <td>5</td>\n",
       "      <td>2</td>\n",
       "      <td>1</td>\n",
       "      <td>1</td>\n",
       "      <td>9</td>\n",
       "      <td>0</td>\n",
       "      <td>6</td>\n",
       "      <td>1.000000</td>\n",
       "      <td>53</td>\n",
       "      <td>1.081633</td>\n",
       "      <td>...</td>\n",
       "      <td>1</td>\n",
       "      <td>1.0</td>\n",
       "      <td>41</td>\n",
       "      <td>1.051282</td>\n",
       "      <td>32</td>\n",
       "      <td>1.066667</td>\n",
       "      <td>95478</td>\n",
       "      <td>1.156594</td>\n",
       "      <td>0</td>\n",
       "      <td>0.0</td>\n",
       "    </tr>\n",
       "  </tbody>\n",
       "</table>\n",
       "<p>5 rows × 30 columns</p>\n",
       "</div>"
      ],
      "text/plain": [
       "    tiendaID  marcaID  skuID  gammaID  fechaID  ventas_por_mes  \\\n",
       "9          1        2      1        1        9               0   \n",
       "19         2        2      1        1        9               0   \n",
       "29         3        2      1        1        9               0   \n",
       "39         4        2      1        1        9               0   \n",
       "49         5        2      1        1        9               0   \n",
       "\n",
       "    lag1mes_ventas_totales_por_tienda_por_mes  \\\n",
       "9                                          61   \n",
       "19                                         15   \n",
       "29                                         37   \n",
       "39                                         28   \n",
       "49                                          6   \n",
       "\n",
       "    lag1mes_ventas_promedio_por_tienda_por_mes  \\\n",
       "9                                     1.070175   \n",
       "19                                    1.000000   \n",
       "29                                    1.000000   \n",
       "39                                    1.037037   \n",
       "49                                    1.000000   \n",
       "\n",
       "    lag1mes_ventas_totales_por_marca_por_mes  \\\n",
       "9                                         53   \n",
       "19                                        53   \n",
       "29                                        53   \n",
       "39                                        53   \n",
       "49                                        53   \n",
       "\n",
       "    lag1mes_entas_promedio_por_marca_por_mes  ...  \\\n",
       "9                                   1.081633  ...   \n",
       "19                                  1.081633  ...   \n",
       "29                                  1.081633  ...   \n",
       "39                                  1.081633  ...   \n",
       "49                                  1.081633  ...   \n",
       "\n",
       "    lag2mes_ventas_totales_por_sku_por_mes  \\\n",
       "9                                        1   \n",
       "19                                       1   \n",
       "29                                       1   \n",
       "39                                       1   \n",
       "49                                       1   \n",
       "\n",
       "    lag2mes_ventas_promedio_por_sku_por_mes  \\\n",
       "9                                       1.0   \n",
       "19                                      1.0   \n",
       "29                                      1.0   \n",
       "39                                      1.0   \n",
       "49                                      1.0   \n",
       "\n",
       "    lag3mes_ventas_totales_por_tienda_por_mes  \\\n",
       "9                                          73   \n",
       "19                                         27   \n",
       "29                                         61   \n",
       "39                                         16   \n",
       "49                                         41   \n",
       "\n",
       "    lag3mes_ventas_promedio_por_tienda_por_mes  \\\n",
       "9                                     1.028169   \n",
       "19                                    1.038462   \n",
       "29                                    1.089286   \n",
       "39                                    1.230769   \n",
       "49                                    1.051282   \n",
       "\n",
       "    lag3mes_ventas_totales_por_marca_por_mes  \\\n",
       "9                                         32   \n",
       "19                                        32   \n",
       "29                                        32   \n",
       "39                                        32   \n",
       "49                                        32   \n",
       "\n",
       "    lag3mes_entas_promedio_por_marca_por_mes  \\\n",
       "9                                   1.066667   \n",
       "19                                  1.066667   \n",
       "29                                  1.066667   \n",
       "39                                  1.066667   \n",
       "49                                  1.066667   \n",
       "\n",
       "    lag3mes_ventas_totales_por_gamma_por_mes  \\\n",
       "9                                      95478   \n",
       "19                                     95478   \n",
       "29                                     95478   \n",
       "39                                     95478   \n",
       "49                                     95478   \n",
       "\n",
       "    lag3mes_ventas_promedio_por_gamma_por_mes  \\\n",
       "9                                    1.156594   \n",
       "19                                   1.156594   \n",
       "29                                   1.156594   \n",
       "39                                   1.156594   \n",
       "49                                   1.156594   \n",
       "\n",
       "    lag3mes_ventas_totales_por_sku_por_mes  \\\n",
       "9                                        0   \n",
       "19                                       0   \n",
       "29                                       0   \n",
       "39                                       0   \n",
       "49                                       0   \n",
       "\n",
       "    lag3mes_ventas_promedio_por_sku_por_mes  \n",
       "9                                       0.0  \n",
       "19                                      0.0  \n",
       "29                                      0.0  \n",
       "39                                      0.0  \n",
       "49                                      0.0  \n",
       "\n",
       "[5 rows x 30 columns]"
      ]
     },
     "execution_count": 8,
     "metadata": {},
     "output_type": "execute_result"
    }
   ],
   "source": [
    "prueba = datos_modelo[datos_modelo['fechaID']==periodo_prueba]\n",
    "prueba.head()\n",
    "#prueba.shape # Este número no va a cambiar dado que corresponde a la combinación de 1mes*12marcas*4gammas*4familias*1909puntosdeventa(366528, 37)"
   ]
  },
  {
   "cell_type": "code",
   "execution_count": 9,
   "metadata": {},
   "outputs": [
    {
     "data": {
      "text/plain": [
       "(868595, 30)"
      ]
     },
     "execution_count": 9,
     "metadata": {},
     "output_type": "execute_result"
    }
   ],
   "source": [
    "prueba.shape"
   ]
  },
  {
   "cell_type": "markdown",
   "metadata": {},
   "source": [
    "#### 3. Librerías para modelo"
   ]
  },
  {
   "cell_type": "code",
   "execution_count": 10,
   "metadata": {},
   "outputs": [],
   "source": [
    "import numpy as np\n",
    "from sklearn import tree\n",
    "from sklearn.model_selection import GridSearchCV\n",
    "from scipy.stats import sem\n",
    "from sklearn.model_selection import TimeSeriesSplit\n",
    "import warnings; warnings.simplefilter('ignore')"
   ]
  },
  {
   "cell_type": "markdown",
   "metadata": {},
   "source": [
    "#### 4. Preparar datos para modelo"
   ]
  },
  {
   "cell_type": "code",
   "execution_count": 11,
   "metadata": {},
   "outputs": [],
   "source": [
    "# Separamos el conjunto de entrenamiento en y y X \n",
    "x = entrenamiento.iloc[:, entrenamiento.columns != 'ventas_por_mes'].values #arreglo de valores\n",
    "y = entrenamiento.iloc[:, entrenamiento.columns == 'ventas_por_mes'].values"
   ]
  },
  {
   "cell_type": "code",
   "execution_count": 12,
   "metadata": {},
   "outputs": [
    {
     "data": {
      "text/plain": [
       "array([[1.00000000e+00, 2.00000000e+00, 1.00000000e+00, ...,\n",
       "        1.16154197e+00, 1.00000000e+00, 1.00000000e+00],\n",
       "       [1.00000000e+00, 2.00000000e+00, 1.00000000e+00, ...,\n",
       "        1.16154197e+00, 1.00000000e+00, 1.00000000e+00],\n",
       "       [1.00000000e+00, 2.00000000e+00, 1.00000000e+00, ...,\n",
       "        1.16154197e+00, 1.00000000e+00, 1.00000000e+00],\n",
       "       ...,\n",
       "       [1.90900000e+03, 5.00000000e+00, 9.90000000e+01, ...,\n",
       "        1.11052100e+00, 0.00000000e+00, 0.00000000e+00],\n",
       "       [1.90900000e+03, 5.00000000e+00, 9.90000000e+01, ...,\n",
       "        1.10314300e+00, 0.00000000e+00, 0.00000000e+00],\n",
       "       [1.90900000e+03, 5.00000000e+00, 9.90000000e+01, ...,\n",
       "        1.18250100e+00, 0.00000000e+00, 0.00000000e+00]])"
      ]
     },
     "execution_count": 12,
     "metadata": {},
     "output_type": "execute_result"
    }
   ],
   "source": [
    "x"
   ]
  },
  {
   "cell_type": "code",
   "execution_count": 13,
   "metadata": {},
   "outputs": [
    {
     "data": {
      "text/plain": [
       "array([[0],\n",
       "       [0],\n",
       "       [0],\n",
       "       ...,\n",
       "       [0],\n",
       "       [0],\n",
       "       [0]])"
      ]
     },
     "execution_count": 13,
     "metadata": {},
     "output_type": "execute_result"
    }
   ],
   "source": [
    "y"
   ]
  },
  {
   "cell_type": "markdown",
   "metadata": {},
   "source": [
    "#### 5. Validación cruzada para series de tiempo"
   ]
  },
  {
   "cell_type": "code",
   "execution_count": 14,
   "metadata": {},
   "outputs": [],
   "source": [
    "#validación cruzada: utiliza la función TimeSeriesSplit donde se parte el conjunto de entrenamiento en 3 splits de diferente longitud. \n",
    "tscv = TimeSeriesSplit(n_splits=3)#TimeSeriesSplit(max_train_size=None, n_splits=3)\n",
    "my_cv = TimeSeriesSplit(n_splits=3).split(x)#<generator object TimeSeriesSplit.split at 0x7f01f9aa86d0>"
   ]
  },
  {
   "cell_type": "markdown",
   "metadata": {},
   "source": [
    "#### 6: Aplicar un GridSearch para probar diferentes parámetros para el modelo"
   ]
  },
  {
   "cell_type": "code",
   "execution_count": 15,
   "metadata": {},
   "outputs": [],
   "source": [
    "#Se prueban diferentes combinaciones de parámetros para encontrar el mejor modelo - estos valores pueden cambiarse más adelante \n",
    "param_grid = {'max_depth': [2,5], #5 #The maximum depth of the tree. If None, then nodes are expanded until all leaves are pure or until all leaves contain less than min_samples_split samples.\n",
    "              'min_samples_split': [2,10], # 6,4 #The minimum number of samples required to split an internal node\n",
    "              'random_state': [123],#random_state is the seed used by the random number generator\n",
    "              'max_leaf_nodes': [3,10] #2\n",
    "             }"
   ]
  },
  {
   "cell_type": "code",
   "execution_count": 16,
   "metadata": {},
   "outputs": [],
   "source": [
    "scoring = ['neg_mean_squared_error', 'neg_mean_absolute_error']\n",
    "clf = GridSearchCV(tree.DecisionTreeRegressor(), \n",
    "                   param_grid,\n",
    "                   scoring=scoring,\n",
    "                   cv=my_cv , \n",
    "                   #n_jobs=-1, \n",
    "                   refit = 'neg_mean_absolute_error')"
   ]
  },
  {
   "cell_type": "markdown",
   "metadata": {},
   "source": [
    "#### 7: Ajustar el Modelo: Entrenar el modelo con los diferentes parámetros"
   ]
  },
  {
   "cell_type": "code",
   "execution_count": 17,
   "metadata": {},
   "outputs": [
    {
     "data": {
      "text/plain": [
       "GridSearchCV(cv=<generator object TimeSeriesSplit.split at 0x7feabc2f6bf8>,\n",
       "       error_score='raise-deprecating',\n",
       "       estimator=DecisionTreeRegressor(criterion='mse', max_depth=None, max_features=None,\n",
       "           max_leaf_nodes=None, min_impurity_decrease=0.0,\n",
       "           min_impurity_split=None, min_samples_leaf=1,\n",
       "           min_samples_split=2, min_weight_fraction_leaf=0.0,\n",
       "           presort=False, random_state=None, splitter='best'),\n",
       "       fit_params=None, iid='warn', n_jobs=None,\n",
       "       param_grid={'max_depth': [2, 5], 'min_samples_split': [2, 10], 'random_state': [123], 'max_leaf_nodes': [3, 10]},\n",
       "       pre_dispatch='2*n_jobs', refit='neg_mean_absolute_error',\n",
       "       return_train_score='warn',\n",
       "       scoring=['neg_mean_squared_error', 'neg_mean_absolute_error'],\n",
       "       verbose=0)"
      ]
     },
     "execution_count": 17,
     "metadata": {},
     "output_type": "execute_result"
    }
   ],
   "source": [
    "clf.fit(x,y)\n",
    "#8:23 - 8:33"
   ]
  },
  {
   "cell_type": "markdown",
   "metadata": {},
   "source": [
    "#### 8: Analizar resultados de cada modelo que se corrió"
   ]
  },
  {
   "cell_type": "code",
   "execution_count": 18,
   "metadata": {},
   "outputs": [
    {
     "data": {
      "text/html": [
       "<div>\n",
       "<style scoped>\n",
       "    .dataframe tbody tr th:only-of-type {\n",
       "        vertical-align: middle;\n",
       "    }\n",
       "\n",
       "    .dataframe tbody tr th {\n",
       "        vertical-align: top;\n",
       "    }\n",
       "\n",
       "    .dataframe thead th {\n",
       "        text-align: right;\n",
       "    }\n",
       "</style>\n",
       "<table border=\"1\" class=\"dataframe\">\n",
       "  <thead>\n",
       "    <tr style=\"text-align: right;\">\n",
       "      <th></th>\n",
       "      <th>mean_fit_time</th>\n",
       "      <th>std_fit_time</th>\n",
       "      <th>mean_score_time</th>\n",
       "      <th>std_score_time</th>\n",
       "      <th>param_max_depth</th>\n",
       "      <th>param_max_leaf_nodes</th>\n",
       "      <th>param_min_samples_split</th>\n",
       "      <th>param_random_state</th>\n",
       "      <th>params</th>\n",
       "      <th>split0_test_neg_mean_squared_error</th>\n",
       "      <th>...</th>\n",
       "      <th>split1_test_neg_mean_absolute_error</th>\n",
       "      <th>split2_test_neg_mean_absolute_error</th>\n",
       "      <th>mean_test_neg_mean_absolute_error</th>\n",
       "      <th>std_test_neg_mean_absolute_error</th>\n",
       "      <th>rank_test_neg_mean_absolute_error</th>\n",
       "      <th>split0_train_neg_mean_absolute_error</th>\n",
       "      <th>split1_train_neg_mean_absolute_error</th>\n",
       "      <th>split2_train_neg_mean_absolute_error</th>\n",
       "      <th>mean_train_neg_mean_absolute_error</th>\n",
       "      <th>std_train_neg_mean_absolute_error</th>\n",
       "    </tr>\n",
       "  </thead>\n",
       "  <tbody>\n",
       "    <tr>\n",
       "      <th>0</th>\n",
       "      <td>22.434611</td>\n",
       "      <td>8.206314</td>\n",
       "      <td>0.431687</td>\n",
       "      <td>0.006792</td>\n",
       "      <td>2</td>\n",
       "      <td>3</td>\n",
       "      <td>2</td>\n",
       "      <td>123</td>\n",
       "      <td>{'max_depth': 2, 'max_leaf_nodes': 3, 'min_sam...</td>\n",
       "      <td>-0.562505</td>\n",
       "      <td>...</td>\n",
       "      <td>-0.222366</td>\n",
       "      <td>-0.134639</td>\n",
       "      <td>-0.180818</td>\n",
       "      <td>0.035964</td>\n",
       "      <td>5</td>\n",
       "      <td>-0.234569</td>\n",
       "      <td>-0.217039</td>\n",
       "      <td>-0.218990</td>\n",
       "      <td>-0.223532</td>\n",
       "      <td>0.007844</td>\n",
       "    </tr>\n",
       "    <tr>\n",
       "      <th>1</th>\n",
       "      <td>22.136850</td>\n",
       "      <td>7.948670</td>\n",
       "      <td>0.418708</td>\n",
       "      <td>0.004854</td>\n",
       "      <td>2</td>\n",
       "      <td>3</td>\n",
       "      <td>10</td>\n",
       "      <td>123</td>\n",
       "      <td>{'max_depth': 2, 'max_leaf_nodes': 3, 'min_sam...</td>\n",
       "      <td>-0.562505</td>\n",
       "      <td>...</td>\n",
       "      <td>-0.222366</td>\n",
       "      <td>-0.134639</td>\n",
       "      <td>-0.180818</td>\n",
       "      <td>0.035964</td>\n",
       "      <td>5</td>\n",
       "      <td>-0.234569</td>\n",
       "      <td>-0.217039</td>\n",
       "      <td>-0.218990</td>\n",
       "      <td>-0.223532</td>\n",
       "      <td>0.007844</td>\n",
       "    </tr>\n",
       "    <tr>\n",
       "      <th>2</th>\n",
       "      <td>29.162236</td>\n",
       "      <td>11.237423</td>\n",
       "      <td>0.417157</td>\n",
       "      <td>0.004854</td>\n",
       "      <td>2</td>\n",
       "      <td>10</td>\n",
       "      <td>2</td>\n",
       "      <td>123</td>\n",
       "      <td>{'max_depth': 2, 'max_leaf_nodes': 10, 'min_sa...</td>\n",
       "      <td>-0.471387</td>\n",
       "      <td>...</td>\n",
       "      <td>-0.195348</td>\n",
       "      <td>-0.112507</td>\n",
       "      <td>-0.157768</td>\n",
       "      <td>0.034253</td>\n",
       "      <td>3</td>\n",
       "      <td>-0.204164</td>\n",
       "      <td>-0.182384</td>\n",
       "      <td>-0.186836</td>\n",
       "      <td>-0.191128</td>\n",
       "      <td>0.009395</td>\n",
       "    </tr>\n",
       "    <tr>\n",
       "      <th>3</th>\n",
       "      <td>29.483372</td>\n",
       "      <td>11.482795</td>\n",
       "      <td>0.422433</td>\n",
       "      <td>0.009409</td>\n",
       "      <td>2</td>\n",
       "      <td>10</td>\n",
       "      <td>10</td>\n",
       "      <td>123</td>\n",
       "      <td>{'max_depth': 2, 'max_leaf_nodes': 10, 'min_sa...</td>\n",
       "      <td>-0.471387</td>\n",
       "      <td>...</td>\n",
       "      <td>-0.195348</td>\n",
       "      <td>-0.112507</td>\n",
       "      <td>-0.157768</td>\n",
       "      <td>0.034253</td>\n",
       "      <td>3</td>\n",
       "      <td>-0.204164</td>\n",
       "      <td>-0.182384</td>\n",
       "      <td>-0.186836</td>\n",
       "      <td>-0.191128</td>\n",
       "      <td>0.009395</td>\n",
       "    </tr>\n",
       "    <tr>\n",
       "      <th>4</th>\n",
       "      <td>22.151764</td>\n",
       "      <td>7.810001</td>\n",
       "      <td>0.437356</td>\n",
       "      <td>0.022078</td>\n",
       "      <td>5</td>\n",
       "      <td>3</td>\n",
       "      <td>2</td>\n",
       "      <td>123</td>\n",
       "      <td>{'max_depth': 5, 'max_leaf_nodes': 3, 'min_sam...</td>\n",
       "      <td>-0.562505</td>\n",
       "      <td>...</td>\n",
       "      <td>-0.222366</td>\n",
       "      <td>-0.134639</td>\n",
       "      <td>-0.180818</td>\n",
       "      <td>0.035964</td>\n",
       "      <td>5</td>\n",
       "      <td>-0.234569</td>\n",
       "      <td>-0.217039</td>\n",
       "      <td>-0.218990</td>\n",
       "      <td>-0.223532</td>\n",
       "      <td>0.007844</td>\n",
       "    </tr>\n",
       "    <tr>\n",
       "      <th>5</th>\n",
       "      <td>22.532877</td>\n",
       "      <td>8.322641</td>\n",
       "      <td>0.421715</td>\n",
       "      <td>0.006417</td>\n",
       "      <td>5</td>\n",
       "      <td>3</td>\n",
       "      <td>10</td>\n",
       "      <td>123</td>\n",
       "      <td>{'max_depth': 5, 'max_leaf_nodes': 3, 'min_sam...</td>\n",
       "      <td>-0.562505</td>\n",
       "      <td>...</td>\n",
       "      <td>-0.222366</td>\n",
       "      <td>-0.134639</td>\n",
       "      <td>-0.180818</td>\n",
       "      <td>0.035964</td>\n",
       "      <td>5</td>\n",
       "      <td>-0.234569</td>\n",
       "      <td>-0.217039</td>\n",
       "      <td>-0.218990</td>\n",
       "      <td>-0.223532</td>\n",
       "      <td>0.007844</td>\n",
       "    </tr>\n",
       "    <tr>\n",
       "      <th>6</th>\n",
       "      <td>30.041301</td>\n",
       "      <td>11.835891</td>\n",
       "      <td>0.424450</td>\n",
       "      <td>0.000741</td>\n",
       "      <td>5</td>\n",
       "      <td>10</td>\n",
       "      <td>2</td>\n",
       "      <td>123</td>\n",
       "      <td>{'max_depth': 5, 'max_leaf_nodes': 10, 'min_sa...</td>\n",
       "      <td>-0.456803</td>\n",
       "      <td>...</td>\n",
       "      <td>-0.193102</td>\n",
       "      <td>-0.112124</td>\n",
       "      <td>-0.156878</td>\n",
       "      <td>0.033605</td>\n",
       "      <td>1</td>\n",
       "      <td>-0.201783</td>\n",
       "      <td>-0.182010</td>\n",
       "      <td>-0.185740</td>\n",
       "      <td>-0.189845</td>\n",
       "      <td>0.008578</td>\n",
       "    </tr>\n",
       "    <tr>\n",
       "      <th>7</th>\n",
       "      <td>30.306039</td>\n",
       "      <td>11.863484</td>\n",
       "      <td>0.422822</td>\n",
       "      <td>0.001364</td>\n",
       "      <td>5</td>\n",
       "      <td>10</td>\n",
       "      <td>10</td>\n",
       "      <td>123</td>\n",
       "      <td>{'max_depth': 5, 'max_leaf_nodes': 10, 'min_sa...</td>\n",
       "      <td>-0.456803</td>\n",
       "      <td>...</td>\n",
       "      <td>-0.193102</td>\n",
       "      <td>-0.112124</td>\n",
       "      <td>-0.156878</td>\n",
       "      <td>0.033605</td>\n",
       "      <td>1</td>\n",
       "      <td>-0.201783</td>\n",
       "      <td>-0.182010</td>\n",
       "      <td>-0.185740</td>\n",
       "      <td>-0.189845</td>\n",
       "      <td>0.008578</td>\n",
       "    </tr>\n",
       "  </tbody>\n",
       "</table>\n",
       "<p>8 rows × 31 columns</p>\n",
       "</div>"
      ],
      "text/plain": [
       "   mean_fit_time  std_fit_time  mean_score_time  std_score_time  \\\n",
       "0      22.434611      8.206314         0.431687        0.006792   \n",
       "1      22.136850      7.948670         0.418708        0.004854   \n",
       "2      29.162236     11.237423         0.417157        0.004854   \n",
       "3      29.483372     11.482795         0.422433        0.009409   \n",
       "4      22.151764      7.810001         0.437356        0.022078   \n",
       "5      22.532877      8.322641         0.421715        0.006417   \n",
       "6      30.041301     11.835891         0.424450        0.000741   \n",
       "7      30.306039     11.863484         0.422822        0.001364   \n",
       "\n",
       "  param_max_depth param_max_leaf_nodes param_min_samples_split  \\\n",
       "0               2                    3                       2   \n",
       "1               2                    3                      10   \n",
       "2               2                   10                       2   \n",
       "3               2                   10                      10   \n",
       "4               5                    3                       2   \n",
       "5               5                    3                      10   \n",
       "6               5                   10                       2   \n",
       "7               5                   10                      10   \n",
       "\n",
       "  param_random_state                                             params  \\\n",
       "0                123  {'max_depth': 2, 'max_leaf_nodes': 3, 'min_sam...   \n",
       "1                123  {'max_depth': 2, 'max_leaf_nodes': 3, 'min_sam...   \n",
       "2                123  {'max_depth': 2, 'max_leaf_nodes': 10, 'min_sa...   \n",
       "3                123  {'max_depth': 2, 'max_leaf_nodes': 10, 'min_sa...   \n",
       "4                123  {'max_depth': 5, 'max_leaf_nodes': 3, 'min_sam...   \n",
       "5                123  {'max_depth': 5, 'max_leaf_nodes': 3, 'min_sam...   \n",
       "6                123  {'max_depth': 5, 'max_leaf_nodes': 10, 'min_sa...   \n",
       "7                123  {'max_depth': 5, 'max_leaf_nodes': 10, 'min_sa...   \n",
       "\n",
       "   split0_test_neg_mean_squared_error  ...  \\\n",
       "0                           -0.562505  ...   \n",
       "1                           -0.562505  ...   \n",
       "2                           -0.471387  ...   \n",
       "3                           -0.471387  ...   \n",
       "4                           -0.562505  ...   \n",
       "5                           -0.562505  ...   \n",
       "6                           -0.456803  ...   \n",
       "7                           -0.456803  ...   \n",
       "\n",
       "   split1_test_neg_mean_absolute_error  split2_test_neg_mean_absolute_error  \\\n",
       "0                            -0.222366                            -0.134639   \n",
       "1                            -0.222366                            -0.134639   \n",
       "2                            -0.195348                            -0.112507   \n",
       "3                            -0.195348                            -0.112507   \n",
       "4                            -0.222366                            -0.134639   \n",
       "5                            -0.222366                            -0.134639   \n",
       "6                            -0.193102                            -0.112124   \n",
       "7                            -0.193102                            -0.112124   \n",
       "\n",
       "   mean_test_neg_mean_absolute_error  std_test_neg_mean_absolute_error  \\\n",
       "0                          -0.180818                          0.035964   \n",
       "1                          -0.180818                          0.035964   \n",
       "2                          -0.157768                          0.034253   \n",
       "3                          -0.157768                          0.034253   \n",
       "4                          -0.180818                          0.035964   \n",
       "5                          -0.180818                          0.035964   \n",
       "6                          -0.156878                          0.033605   \n",
       "7                          -0.156878                          0.033605   \n",
       "\n",
       "   rank_test_neg_mean_absolute_error  split0_train_neg_mean_absolute_error  \\\n",
       "0                                  5                             -0.234569   \n",
       "1                                  5                             -0.234569   \n",
       "2                                  3                             -0.204164   \n",
       "3                                  3                             -0.204164   \n",
       "4                                  5                             -0.234569   \n",
       "5                                  5                             -0.234569   \n",
       "6                                  1                             -0.201783   \n",
       "7                                  1                             -0.201783   \n",
       "\n",
       "   split1_train_neg_mean_absolute_error  split2_train_neg_mean_absolute_error  \\\n",
       "0                             -0.217039                             -0.218990   \n",
       "1                             -0.217039                             -0.218990   \n",
       "2                             -0.182384                             -0.186836   \n",
       "3                             -0.182384                             -0.186836   \n",
       "4                             -0.217039                             -0.218990   \n",
       "5                             -0.217039                             -0.218990   \n",
       "6                             -0.182010                             -0.185740   \n",
       "7                             -0.182010                             -0.185740   \n",
       "\n",
       "   mean_train_neg_mean_absolute_error  std_train_neg_mean_absolute_error  \n",
       "0                           -0.223532                           0.007844  \n",
       "1                           -0.223532                           0.007844  \n",
       "2                           -0.191128                           0.009395  \n",
       "3                           -0.191128                           0.009395  \n",
       "4                           -0.223532                           0.007844  \n",
       "5                           -0.223532                           0.007844  \n",
       "6                           -0.189845                           0.008578  \n",
       "7                           -0.189845                           0.008578  \n",
       "\n",
       "[8 rows x 31 columns]"
      ]
     },
     "execution_count": 18,
     "metadata": {},
     "output_type": "execute_result"
    }
   ],
   "source": [
    "resultados_GS = pd.DataFrame(clf.cv_results_) #dataframe con resultados de todas las combinaicones de parámetros\n",
    "resultados_GS"
   ]
  },
  {
   "cell_type": "code",
   "execution_count": 19,
   "metadata": {},
   "outputs": [
    {
     "data": {
      "text/plain": [
       "0   -0.477934\n",
       "1   -0.477934\n",
       "2   -0.423271\n",
       "3   -0.423271\n",
       "4   -0.477934\n",
       "5   -0.477934\n",
       "6   -0.421043\n",
       "7   -0.421043\n",
       "Name: mean_test_neg_mean_squared_error, dtype: float64"
      ]
     },
     "execution_count": 19,
     "metadata": {},
     "output_type": "execute_result"
    }
   ],
   "source": [
    "resultados_GS['mean_test_neg_mean_squared_error']"
   ]
  },
  {
   "cell_type": "code",
   "execution_count": 20,
   "metadata": {},
   "outputs": [
    {
     "data": {
      "text/plain": [
       "0   -0.180818\n",
       "1   -0.180818\n",
       "2   -0.157768\n",
       "3   -0.157768\n",
       "4   -0.180818\n",
       "5   -0.180818\n",
       "6   -0.156878\n",
       "7   -0.156878\n",
       "Name: mean_test_neg_mean_absolute_error, dtype: float64"
      ]
     },
     "execution_count": 20,
     "metadata": {},
     "output_type": "execute_result"
    }
   ],
   "source": [
    "resultados_GS['mean_test_neg_mean_absolute_error']"
   ]
  },
  {
   "cell_type": "code",
   "execution_count": 21,
   "metadata": {},
   "outputs": [
    {
     "data": {
      "text/plain": [
       "6"
      ]
     },
     "execution_count": 21,
     "metadata": {},
     "output_type": "execute_result"
    }
   ],
   "source": [
    "#clf.best_estimator_ #Mejores parámetros en general \n",
    "#clf.best_score_ #Mejor MSE\n",
    "clf.best_index_ #De los modelos que se corrieron en que \"lugar\" esta el modelo de la tabla anterior\n",
    "#clf.scorer_ #Que medida de error se utiliza make_scorer(mean_squared_error, greater_is_better=False)"
   ]
  },
  {
   "cell_type": "code",
   "execution_count": 22,
   "metadata": {},
   "outputs": [
    {
     "data": {
      "text/plain": [
       "{'max_depth': 5,\n",
       " 'max_leaf_nodes': 10,\n",
       " 'min_samples_split': 2,\n",
       " 'random_state': 123}"
      ]
     },
     "execution_count": 22,
     "metadata": {},
     "output_type": "execute_result"
    }
   ],
   "source": [
    "mejores_valores = dict(clf.best_params_.items())\n",
    "mejores_valores"
   ]
  },
  {
   "cell_type": "code",
   "execution_count": 23,
   "metadata": {},
   "outputs": [
    {
     "data": {
      "text/plain": [
       "-0.1568783840695969"
      ]
     },
     "execution_count": 23,
     "metadata": {},
     "output_type": "execute_result"
    }
   ],
   "source": [
    "MAE_entrenamiento = clf.best_score_\n",
    "MAE_entrenamiento"
   ]
  },
  {
   "cell_type": "code",
   "execution_count": 41,
   "metadata": {},
   "outputs": [
    {
     "data": {
      "text/plain": [
       "0.421043"
      ]
     },
     "execution_count": 41,
     "metadata": {},
     "output_type": "execute_result"
    }
   ],
   "source": [
    "MSE_entrenamiento = abs(-0.421043)\n",
    "MSE_entrenamiento"
   ]
  },
  {
   "cell_type": "code",
   "execution_count": 42,
   "metadata": {},
   "outputs": [
    {
     "data": {
      "text/plain": [
       "0.6488782628505905"
      ]
     },
     "execution_count": 42,
     "metadata": {},
     "output_type": "execute_result"
    }
   ],
   "source": [
    "RMSE_entrenamiento = np.sqrt(abs(MSE_entrenamiento))\n",
    "RMSE_entrenamiento"
   ]
  },
  {
   "cell_type": "markdown",
   "metadata": {},
   "source": [
    "#### 9. Entrenar el modelo con la mejor combinación de parámetros obtenidos"
   ]
  },
  {
   "cell_type": "code",
   "execution_count": 26,
   "metadata": {},
   "outputs": [],
   "source": [
    "# Fit regression model\n",
    "regr_1 = tree.DecisionTreeRegressor(max_depth=mejores_valores['max_depth'],\n",
    "                               min_samples_split=mejores_valores['min_samples_split'])"
   ]
  },
  {
   "cell_type": "code",
   "execution_count": 27,
   "metadata": {},
   "outputs": [
    {
     "data": {
      "text/plain": [
       "DecisionTreeRegressor(criterion='mse', max_depth=5, max_features=None,\n",
       "           max_leaf_nodes=None, min_impurity_decrease=0.0,\n",
       "           min_impurity_split=None, min_samples_leaf=1,\n",
       "           min_samples_split=2, min_weight_fraction_leaf=0.0,\n",
       "           presort=False, random_state=None, splitter='best')"
      ]
     },
     "execution_count": 27,
     "metadata": {},
     "output_type": "execute_result"
    }
   ],
   "source": [
    "regr_1.fit(x, y) #8:36"
   ]
  },
  {
   "cell_type": "markdown",
   "metadata": {},
   "source": [
    "#### 10. Preparar datos del conjunto de prueba para ser empleados en el modelo"
   ]
  },
  {
   "cell_type": "code",
   "execution_count": 28,
   "metadata": {},
   "outputs": [
    {
     "data": {
      "text/plain": [
       "array([[1.00000000e+00, 2.00000000e+00, 1.00000000e+00, ...,\n",
       "        1.15659411e+00, 0.00000000e+00, 0.00000000e+00],\n",
       "       [2.00000000e+00, 2.00000000e+00, 1.00000000e+00, ...,\n",
       "        1.15659411e+00, 0.00000000e+00, 0.00000000e+00],\n",
       "       [3.00000000e+00, 2.00000000e+00, 1.00000000e+00, ...,\n",
       "        1.15659411e+00, 0.00000000e+00, 0.00000000e+00],\n",
       "       ...,\n",
       "       [1.90700000e+03, 5.00000000e+00, 9.90000000e+01, ...,\n",
       "        1.15659400e+00, 0.00000000e+00, 0.00000000e+00],\n",
       "       [1.90800000e+03, 5.00000000e+00, 9.90000000e+01, ...,\n",
       "        1.15659400e+00, 0.00000000e+00, 0.00000000e+00],\n",
       "       [1.90900000e+03, 5.00000000e+00, 9.90000000e+01, ...,\n",
       "        1.15659400e+00, 0.00000000e+00, 0.00000000e+00]])"
      ]
     },
     "execution_count": 28,
     "metadata": {},
     "output_type": "execute_result"
    }
   ],
   "source": [
    "prueba_x = prueba.iloc[:, prueba.columns != 'ventas_por_mes'].values\n",
    "prueba_x"
   ]
  },
  {
   "cell_type": "markdown",
   "metadata": {},
   "source": [
    "#### 11. Utilizar el modelo para predecir con conjunto de prueba"
   ]
  },
  {
   "cell_type": "code",
   "execution_count": 29,
   "metadata": {},
   "outputs": [],
   "source": [
    "pred = regr_1.predict(prueba_x)"
   ]
  },
  {
   "cell_type": "markdown",
   "metadata": {},
   "source": [
    "#### 12. Revisar predicciones"
   ]
  },
  {
   "cell_type": "code",
   "execution_count": 30,
   "metadata": {},
   "outputs": [
    {
     "data": {
      "text/plain": [
       "22.94809688581315"
      ]
     },
     "execution_count": 30,
     "metadata": {},
     "output_type": "execute_result"
    }
   ],
   "source": [
    "max(pred)"
   ]
  },
  {
   "cell_type": "code",
   "execution_count": 31,
   "metadata": {},
   "outputs": [
    {
     "data": {
      "text/plain": [
       "0.008611291946512258"
      ]
     },
     "execution_count": 31,
     "metadata": {},
     "output_type": "execute_result"
    }
   ],
   "source": [
    "min(pred)"
   ]
  },
  {
   "cell_type": "code",
   "execution_count": 32,
   "metadata": {},
   "outputs": [],
   "source": [
    "pred = np.clip(pred,0,100)"
   ]
  },
  {
   "cell_type": "code",
   "execution_count": 33,
   "metadata": {},
   "outputs": [
    {
     "data": {
      "text/html": [
       "<div>\n",
       "<style scoped>\n",
       "    .dataframe tbody tr th:only-of-type {\n",
       "        vertical-align: middle;\n",
       "    }\n",
       "\n",
       "    .dataframe tbody tr th {\n",
       "        vertical-align: top;\n",
       "    }\n",
       "\n",
       "    .dataframe thead th {\n",
       "        text-align: right;\n",
       "    }\n",
       "</style>\n",
       "<table border=\"1\" class=\"dataframe\">\n",
       "  <thead>\n",
       "    <tr style=\"text-align: right;\">\n",
       "      <th></th>\n",
       "      <th>ventas_por_mes_pred</th>\n",
       "    </tr>\n",
       "  </thead>\n",
       "  <tbody>\n",
       "    <tr>\n",
       "      <th>0</th>\n",
       "      <td>0.008611</td>\n",
       "    </tr>\n",
       "    <tr>\n",
       "      <th>1</th>\n",
       "      <td>0.008611</td>\n",
       "    </tr>\n",
       "    <tr>\n",
       "      <th>2</th>\n",
       "      <td>0.008611</td>\n",
       "    </tr>\n",
       "    <tr>\n",
       "      <th>3</th>\n",
       "      <td>0.008611</td>\n",
       "    </tr>\n",
       "    <tr>\n",
       "      <th>4</th>\n",
       "      <td>0.008611</td>\n",
       "    </tr>\n",
       "  </tbody>\n",
       "</table>\n",
       "</div>"
      ],
      "text/plain": [
       "   ventas_por_mes_pred\n",
       "0             0.008611\n",
       "1             0.008611\n",
       "2             0.008611\n",
       "3             0.008611\n",
       "4             0.008611"
      ]
     },
     "execution_count": 33,
     "metadata": {},
     "output_type": "execute_result"
    }
   ],
   "source": [
    "prediccion = pd.DataFrame(pred, columns = ['ventas_por_mes_pred'])\n",
    "prediccion.head()"
   ]
  },
  {
   "cell_type": "code",
   "execution_count": 34,
   "metadata": {},
   "outputs": [],
   "source": [
    "prediccion = prediccion.round()"
   ]
  },
  {
   "cell_type": "code",
   "execution_count": 35,
   "metadata": {},
   "outputs": [
    {
     "data": {
      "text/html": [
       "<div>\n",
       "<style scoped>\n",
       "    .dataframe tbody tr th:only-of-type {\n",
       "        vertical-align: middle;\n",
       "    }\n",
       "\n",
       "    .dataframe tbody tr th {\n",
       "        vertical-align: top;\n",
       "    }\n",
       "\n",
       "    .dataframe thead th {\n",
       "        text-align: right;\n",
       "    }\n",
       "</style>\n",
       "<table border=\"1\" class=\"dataframe\">\n",
       "  <thead>\n",
       "    <tr style=\"text-align: right;\">\n",
       "      <th></th>\n",
       "      <th>ventas_por_mes_pred</th>\n",
       "    </tr>\n",
       "  </thead>\n",
       "  <tbody>\n",
       "    <tr>\n",
       "      <th>0</th>\n",
       "      <td>0.0</td>\n",
       "    </tr>\n",
       "    <tr>\n",
       "      <th>1</th>\n",
       "      <td>0.0</td>\n",
       "    </tr>\n",
       "    <tr>\n",
       "      <th>2</th>\n",
       "      <td>0.0</td>\n",
       "    </tr>\n",
       "    <tr>\n",
       "      <th>3</th>\n",
       "      <td>0.0</td>\n",
       "    </tr>\n",
       "    <tr>\n",
       "      <th>4</th>\n",
       "      <td>0.0</td>\n",
       "    </tr>\n",
       "  </tbody>\n",
       "</table>\n",
       "</div>"
      ],
      "text/plain": [
       "   ventas_por_mes_pred\n",
       "0                  0.0\n",
       "1                  0.0\n",
       "2                  0.0\n",
       "3                  0.0\n",
       "4                  0.0"
      ]
     },
     "execution_count": 35,
     "metadata": {},
     "output_type": "execute_result"
    }
   ],
   "source": [
    "prediccion.head()"
   ]
  },
  {
   "cell_type": "code",
   "execution_count": 36,
   "metadata": {},
   "outputs": [
    {
     "data": {
      "text/plain": [
       "ventas_por_mes_pred    52919.0\n",
       "dtype: float64"
      ]
     },
     "execution_count": 36,
     "metadata": {},
     "output_type": "execute_result"
    }
   ],
   "source": [
    "predicciones_totales_prueba = prediccion.sum()\n",
    "predicciones_totales_prueba"
   ]
  },
  {
   "cell_type": "code",
   "execution_count": 37,
   "metadata": {},
   "outputs": [],
   "source": [
    "prueba_resultados = pd.concat([prueba.reset_index(drop=True), prediccion], axis = 1, ignore_index=False)"
   ]
  },
  {
   "cell_type": "markdown",
   "metadata": {},
   "source": [
    "#### 13. Resultados conjunto de prueba"
   ]
  },
  {
   "cell_type": "code",
   "execution_count": 38,
   "metadata": {},
   "outputs": [
    {
     "data": {
      "text/plain": [
       "0.23884664314208573"
      ]
     },
     "execution_count": 38,
     "metadata": {},
     "output_type": "execute_result"
    }
   ],
   "source": [
    "prueba_resultados['error'] = ((prueba_resultados['ventas_por_mes'] - prueba_resultados['ventas_por_mes_pred']) ** 2) / 868595\n",
    "#prueba_resultados.head()\n",
    "MSE = prueba_resultados['error'].sum()\n",
    "MSE"
   ]
  },
  {
   "cell_type": "code",
   "execution_count": 39,
   "metadata": {},
   "outputs": [
    {
     "data": {
      "text/plain": [
       "0.4887193910027366"
      ]
     },
     "execution_count": 39,
     "metadata": {},
     "output_type": "execute_result"
    }
   ],
   "source": [
    "RMSE = MSE ** (1/2)\n",
    "RMSE"
   ]
  },
  {
   "cell_type": "code",
   "execution_count": 40,
   "metadata": {},
   "outputs": [
    {
     "data": {
      "text/plain": [
       "0.07563133566276568"
      ]
     },
     "execution_count": 40,
     "metadata": {},
     "output_type": "execute_result"
    }
   ],
   "source": [
    "#Calcular MAE\n",
    "prueba_resultados['error_MAE'] = abs(prueba_resultados['ventas_por_mes'] - prueba_resultados['ventas_por_mes_pred']) / 868595\n",
    "prueba_resultados.head()\n",
    "MAE = prueba_resultados['error_MAE'].sum()\n",
    "MAE"
   ]
  }
 ],
 "metadata": {
  "kernelspec": {
   "display_name": "Python 3.6",
   "language": "python",
   "name": "python3"
  },
  "language_info": {
   "codemirror_mode": {
    "name": "ipython",
    "version": 3
   },
   "file_extension": ".py",
   "mimetype": "text/x-python",
   "name": "python",
   "nbconvert_exporter": "python",
   "pygments_lexer": "ipython3",
   "version": "3.6.8"
  }
 },
 "nbformat": 4,
 "nbformat_minor": 1
}
