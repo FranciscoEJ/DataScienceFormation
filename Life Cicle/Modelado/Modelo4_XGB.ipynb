{
 "cells": [
  {
   "cell_type": "markdown",
   "metadata": {},
   "source": [
    "# Modelo: XGBOOST"
   ]
  },
  {
   "cell_type": "markdown",
   "metadata": {},
   "source": [
    "#### 1. Cargar los datos"
   ]
  },
  {
   "cell_type": "code",
   "execution_count": 1,
   "metadata": {},
   "outputs": [],
   "source": [
    "\n",
    "import types\n",
    "import pandas as pd\n",
    "from botocore.client import Config\n",
    "import ibm_boto3\n",
    "\n",
    "def __iter__(self): return 0\n",
    "#INSERTAR CREDENCIALES\n",
    "datos_completos = pd.read_csv(body)\n"
   ]
  },
  {
   "cell_type": "code",
   "execution_count": 2,
   "metadata": {},
   "outputs": [
    {
     "data": {
      "text/html": [
       "<div>\n",
       "<style scoped>\n",
       "    .dataframe tbody tr th:only-of-type {\n",
       "        vertical-align: middle;\n",
       "    }\n",
       "\n",
       "    .dataframe tbody tr th {\n",
       "        vertical-align: top;\n",
       "    }\n",
       "\n",
       "    .dataframe thead th {\n",
       "        text-align: right;\n",
       "    }\n",
       "</style>\n",
       "<table border=\"1\" class=\"dataframe\">\n",
       "  <thead>\n",
       "    <tr style=\"text-align: right;\">\n",
       "      <th></th>\n",
       "      <th>tiendaID</th>\n",
       "      <th>marcaID</th>\n",
       "      <th>skuID</th>\n",
       "      <th>gammaID</th>\n",
       "      <th>fechaID</th>\n",
       "      <th>ventas_por_mes</th>\n",
       "      <th>lag1mes_ventas_totales_por_tienda_por_mes</th>\n",
       "      <th>lag1mes_ventas_promedio_por_tienda_por_mes</th>\n",
       "      <th>lag1mes_ventas_totales_por_marca_por_mes</th>\n",
       "      <th>lag1mes_entas_promedio_por_marca_por_mes</th>\n",
       "      <th>...</th>\n",
       "      <th>lag2mes_ventas_totales_por_sku_por_mes</th>\n",
       "      <th>lag2mes_ventas_promedio_por_sku_por_mes</th>\n",
       "      <th>lag3mes_ventas_totales_por_tienda_por_mes</th>\n",
       "      <th>lag3mes_ventas_promedio_por_tienda_por_mes</th>\n",
       "      <th>lag3mes_ventas_totales_por_marca_por_mes</th>\n",
       "      <th>lag3mes_entas_promedio_por_marca_por_mes</th>\n",
       "      <th>lag3mes_ventas_totales_por_gamma_por_mes</th>\n",
       "      <th>lag3mes_ventas_promedio_por_gamma_por_mes</th>\n",
       "      <th>lag3mes_ventas_totales_por_sku_por_mes</th>\n",
       "      <th>lag3mes_ventas_promedio_por_sku_por_mes</th>\n",
       "    </tr>\n",
       "  </thead>\n",
       "  <tbody>\n",
       "    <tr>\n",
       "      <th>0</th>\n",
       "      <td>1</td>\n",
       "      <td>2</td>\n",
       "      <td>1</td>\n",
       "      <td>1</td>\n",
       "      <td>0</td>\n",
       "      <td>0</td>\n",
       "      <td>70</td>\n",
       "      <td>1.044776</td>\n",
       "      <td>355</td>\n",
       "      <td>1.047198</td>\n",
       "      <td>...</td>\n",
       "      <td>1</td>\n",
       "      <td>1.0</td>\n",
       "      <td>70</td>\n",
       "      <td>1.044776</td>\n",
       "      <td>355</td>\n",
       "      <td>1.047198</td>\n",
       "      <td>86507</td>\n",
       "      <td>1.161542</td>\n",
       "      <td>1</td>\n",
       "      <td>1.0</td>\n",
       "    </tr>\n",
       "    <tr>\n",
       "      <th>1</th>\n",
       "      <td>1</td>\n",
       "      <td>2</td>\n",
       "      <td>1</td>\n",
       "      <td>1</td>\n",
       "      <td>1</td>\n",
       "      <td>0</td>\n",
       "      <td>70</td>\n",
       "      <td>1.044776</td>\n",
       "      <td>355</td>\n",
       "      <td>1.047198</td>\n",
       "      <td>...</td>\n",
       "      <td>1</td>\n",
       "      <td>1.0</td>\n",
       "      <td>70</td>\n",
       "      <td>1.044776</td>\n",
       "      <td>355</td>\n",
       "      <td>1.047198</td>\n",
       "      <td>86507</td>\n",
       "      <td>1.161542</td>\n",
       "      <td>1</td>\n",
       "      <td>1.0</td>\n",
       "    </tr>\n",
       "    <tr>\n",
       "      <th>2</th>\n",
       "      <td>1</td>\n",
       "      <td>2</td>\n",
       "      <td>1</td>\n",
       "      <td>1</td>\n",
       "      <td>2</td>\n",
       "      <td>0</td>\n",
       "      <td>79</td>\n",
       "      <td>1.128571</td>\n",
       "      <td>379</td>\n",
       "      <td>1.046961</td>\n",
       "      <td>...</td>\n",
       "      <td>1</td>\n",
       "      <td>1.0</td>\n",
       "      <td>70</td>\n",
       "      <td>1.044776</td>\n",
       "      <td>355</td>\n",
       "      <td>1.047198</td>\n",
       "      <td>86507</td>\n",
       "      <td>1.161542</td>\n",
       "      <td>1</td>\n",
       "      <td>1.0</td>\n",
       "    </tr>\n",
       "    <tr>\n",
       "      <th>3</th>\n",
       "      <td>1</td>\n",
       "      <td>2</td>\n",
       "      <td>1</td>\n",
       "      <td>1</td>\n",
       "      <td>3</td>\n",
       "      <td>0</td>\n",
       "      <td>87</td>\n",
       "      <td>1.060976</td>\n",
       "      <td>264</td>\n",
       "      <td>1.068826</td>\n",
       "      <td>...</td>\n",
       "      <td>1</td>\n",
       "      <td>1.0</td>\n",
       "      <td>70</td>\n",
       "      <td>1.044776</td>\n",
       "      <td>355</td>\n",
       "      <td>1.047198</td>\n",
       "      <td>86507</td>\n",
       "      <td>1.161542</td>\n",
       "      <td>1</td>\n",
       "      <td>1.0</td>\n",
       "    </tr>\n",
       "    <tr>\n",
       "      <th>4</th>\n",
       "      <td>1</td>\n",
       "      <td>2</td>\n",
       "      <td>1</td>\n",
       "      <td>1</td>\n",
       "      <td>4</td>\n",
       "      <td>0</td>\n",
       "      <td>75</td>\n",
       "      <td>1.041667</td>\n",
       "      <td>136</td>\n",
       "      <td>1.079365</td>\n",
       "      <td>...</td>\n",
       "      <td>0</td>\n",
       "      <td>0.0</td>\n",
       "      <td>79</td>\n",
       "      <td>1.128571</td>\n",
       "      <td>379</td>\n",
       "      <td>1.046961</td>\n",
       "      <td>92120</td>\n",
       "      <td>1.137986</td>\n",
       "      <td>1</td>\n",
       "      <td>1.0</td>\n",
       "    </tr>\n",
       "  </tbody>\n",
       "</table>\n",
       "<p>5 rows × 30 columns</p>\n",
       "</div>"
      ],
      "text/plain": [
       "   tiendaID  marcaID  skuID  gammaID  fechaID  ventas_por_mes  \\\n",
       "0         1        2      1        1        0               0   \n",
       "1         1        2      1        1        1               0   \n",
       "2         1        2      1        1        2               0   \n",
       "3         1        2      1        1        3               0   \n",
       "4         1        2      1        1        4               0   \n",
       "\n",
       "   lag1mes_ventas_totales_por_tienda_por_mes  \\\n",
       "0                                         70   \n",
       "1                                         70   \n",
       "2                                         79   \n",
       "3                                         87   \n",
       "4                                         75   \n",
       "\n",
       "   lag1mes_ventas_promedio_por_tienda_por_mes  \\\n",
       "0                                    1.044776   \n",
       "1                                    1.044776   \n",
       "2                                    1.128571   \n",
       "3                                    1.060976   \n",
       "4                                    1.041667   \n",
       "\n",
       "   lag1mes_ventas_totales_por_marca_por_mes  \\\n",
       "0                                       355   \n",
       "1                                       355   \n",
       "2                                       379   \n",
       "3                                       264   \n",
       "4                                       136   \n",
       "\n",
       "   lag1mes_entas_promedio_por_marca_por_mes  ...  \\\n",
       "0                                  1.047198  ...   \n",
       "1                                  1.047198  ...   \n",
       "2                                  1.046961  ...   \n",
       "3                                  1.068826  ...   \n",
       "4                                  1.079365  ...   \n",
       "\n",
       "   lag2mes_ventas_totales_por_sku_por_mes  \\\n",
       "0                                       1   \n",
       "1                                       1   \n",
       "2                                       1   \n",
       "3                                       1   \n",
       "4                                       0   \n",
       "\n",
       "   lag2mes_ventas_promedio_por_sku_por_mes  \\\n",
       "0                                      1.0   \n",
       "1                                      1.0   \n",
       "2                                      1.0   \n",
       "3                                      1.0   \n",
       "4                                      0.0   \n",
       "\n",
       "   lag3mes_ventas_totales_por_tienda_por_mes  \\\n",
       "0                                         70   \n",
       "1                                         70   \n",
       "2                                         70   \n",
       "3                                         70   \n",
       "4                                         79   \n",
       "\n",
       "   lag3mes_ventas_promedio_por_tienda_por_mes  \\\n",
       "0                                    1.044776   \n",
       "1                                    1.044776   \n",
       "2                                    1.044776   \n",
       "3                                    1.044776   \n",
       "4                                    1.128571   \n",
       "\n",
       "   lag3mes_ventas_totales_por_marca_por_mes  \\\n",
       "0                                       355   \n",
       "1                                       355   \n",
       "2                                       355   \n",
       "3                                       355   \n",
       "4                                       379   \n",
       "\n",
       "   lag3mes_entas_promedio_por_marca_por_mes  \\\n",
       "0                                  1.047198   \n",
       "1                                  1.047198   \n",
       "2                                  1.047198   \n",
       "3                                  1.047198   \n",
       "4                                  1.046961   \n",
       "\n",
       "   lag3mes_ventas_totales_por_gamma_por_mes  \\\n",
       "0                                     86507   \n",
       "1                                     86507   \n",
       "2                                     86507   \n",
       "3                                     86507   \n",
       "4                                     92120   \n",
       "\n",
       "   lag3mes_ventas_promedio_por_gamma_por_mes  \\\n",
       "0                                   1.161542   \n",
       "1                                   1.161542   \n",
       "2                                   1.161542   \n",
       "3                                   1.161542   \n",
       "4                                   1.137986   \n",
       "\n",
       "   lag3mes_ventas_totales_por_sku_por_mes  \\\n",
       "0                                       1   \n",
       "1                                       1   \n",
       "2                                       1   \n",
       "3                                       1   \n",
       "4                                       1   \n",
       "\n",
       "   lag3mes_ventas_promedio_por_sku_por_mes  \n",
       "0                                      1.0  \n",
       "1                                      1.0  \n",
       "2                                      1.0  \n",
       "3                                      1.0  \n",
       "4                                      1.0  \n",
       "\n",
       "[5 rows x 30 columns]"
      ]
     },
     "execution_count": 2,
     "metadata": {},
     "output_type": "execute_result"
    }
   ],
   "source": [
    "datos_completos.head()\n",
    "#datos_completos.info()\n",
    "#datos_completos.shape #el valor de renglones debe de cambiar conforme el tiempo transcurre y se tiene más información de las ventas(3665280, 37)"
   ]
  },
  {
   "cell_type": "code",
   "execution_count": 3,
   "metadata": {},
   "outputs": [],
   "source": [
    "datos_modelo = datos_completos\n",
    "#datos_modelo = datos_completos.drop([\"punto_de_venta\", \"zona\", \"estado\",\"ciudad\",\"latitud\",\"longitud\"], axis=1) #en caso de que se carge el otro dataset\n",
    "#datos_modelo.shape #(3665280, 30) las columnas para el modelo deben de ser 30"
   ]
  },
  {
   "cell_type": "markdown",
   "metadata": {},
   "source": [
    "#### 2. Dividir en entrenamiento y prueba"
   ]
  },
  {
   "cell_type": "code",
   "execution_count": 4,
   "metadata": {},
   "outputs": [
    {
     "data": {
      "text/plain": [
       "8"
      ]
     },
     "execution_count": 4,
     "metadata": {},
     "output_type": "execute_result"
    }
   ],
   "source": [
    "#Hasta este número se considera el conjunto de entrenamiento\n",
    "ultimo_mes_entrenamiento = datos_modelo.fechaID.unique()\n",
    "ultimo_mes_entrenamiento = ultimo_mes_entrenamiento[-2]\n",
    "ultimo_mes_entrenamiento"
   ]
  },
  {
   "cell_type": "code",
   "execution_count": 5,
   "metadata": {},
   "outputs": [
    {
     "data": {
      "text/plain": [
       "9"
      ]
     },
     "execution_count": 5,
     "metadata": {},
     "output_type": "execute_result"
    }
   ],
   "source": [
    "#Se tiene un mes para el conjunto de prueba\n",
    "periodo_prueba = datos_modelo.fechaID.unique()\n",
    "periodo_prueba = periodo_prueba[-1]\n",
    "periodo_prueba"
   ]
  },
  {
   "cell_type": "code",
   "execution_count": 6,
   "metadata": {},
   "outputs": [
    {
     "data": {
      "text/html": [
       "<div>\n",
       "<style scoped>\n",
       "    .dataframe tbody tr th:only-of-type {\n",
       "        vertical-align: middle;\n",
       "    }\n",
       "\n",
       "    .dataframe tbody tr th {\n",
       "        vertical-align: top;\n",
       "    }\n",
       "\n",
       "    .dataframe thead th {\n",
       "        text-align: right;\n",
       "    }\n",
       "</style>\n",
       "<table border=\"1\" class=\"dataframe\">\n",
       "  <thead>\n",
       "    <tr style=\"text-align: right;\">\n",
       "      <th></th>\n",
       "      <th>tiendaID</th>\n",
       "      <th>marcaID</th>\n",
       "      <th>skuID</th>\n",
       "      <th>gammaID</th>\n",
       "      <th>fechaID</th>\n",
       "      <th>ventas_por_mes</th>\n",
       "      <th>lag1mes_ventas_totales_por_tienda_por_mes</th>\n",
       "      <th>lag1mes_ventas_promedio_por_tienda_por_mes</th>\n",
       "      <th>lag1mes_ventas_totales_por_marca_por_mes</th>\n",
       "      <th>lag1mes_entas_promedio_por_marca_por_mes</th>\n",
       "      <th>...</th>\n",
       "      <th>lag2mes_ventas_totales_por_sku_por_mes</th>\n",
       "      <th>lag2mes_ventas_promedio_por_sku_por_mes</th>\n",
       "      <th>lag3mes_ventas_totales_por_tienda_por_mes</th>\n",
       "      <th>lag3mes_ventas_promedio_por_tienda_por_mes</th>\n",
       "      <th>lag3mes_ventas_totales_por_marca_por_mes</th>\n",
       "      <th>lag3mes_entas_promedio_por_marca_por_mes</th>\n",
       "      <th>lag3mes_ventas_totales_por_gamma_por_mes</th>\n",
       "      <th>lag3mes_ventas_promedio_por_gamma_por_mes</th>\n",
       "      <th>lag3mes_ventas_totales_por_sku_por_mes</th>\n",
       "      <th>lag3mes_ventas_promedio_por_sku_por_mes</th>\n",
       "    </tr>\n",
       "  </thead>\n",
       "  <tbody>\n",
       "    <tr>\n",
       "      <th>0</th>\n",
       "      <td>1</td>\n",
       "      <td>2</td>\n",
       "      <td>1</td>\n",
       "      <td>1</td>\n",
       "      <td>0</td>\n",
       "      <td>0</td>\n",
       "      <td>70</td>\n",
       "      <td>1.044776</td>\n",
       "      <td>355</td>\n",
       "      <td>1.047198</td>\n",
       "      <td>...</td>\n",
       "      <td>1</td>\n",
       "      <td>1.0</td>\n",
       "      <td>70</td>\n",
       "      <td>1.044776</td>\n",
       "      <td>355</td>\n",
       "      <td>1.047198</td>\n",
       "      <td>86507</td>\n",
       "      <td>1.161542</td>\n",
       "      <td>1</td>\n",
       "      <td>1.0</td>\n",
       "    </tr>\n",
       "    <tr>\n",
       "      <th>1</th>\n",
       "      <td>1</td>\n",
       "      <td>2</td>\n",
       "      <td>1</td>\n",
       "      <td>1</td>\n",
       "      <td>1</td>\n",
       "      <td>0</td>\n",
       "      <td>70</td>\n",
       "      <td>1.044776</td>\n",
       "      <td>355</td>\n",
       "      <td>1.047198</td>\n",
       "      <td>...</td>\n",
       "      <td>1</td>\n",
       "      <td>1.0</td>\n",
       "      <td>70</td>\n",
       "      <td>1.044776</td>\n",
       "      <td>355</td>\n",
       "      <td>1.047198</td>\n",
       "      <td>86507</td>\n",
       "      <td>1.161542</td>\n",
       "      <td>1</td>\n",
       "      <td>1.0</td>\n",
       "    </tr>\n",
       "    <tr>\n",
       "      <th>2</th>\n",
       "      <td>1</td>\n",
       "      <td>2</td>\n",
       "      <td>1</td>\n",
       "      <td>1</td>\n",
       "      <td>2</td>\n",
       "      <td>0</td>\n",
       "      <td>79</td>\n",
       "      <td>1.128571</td>\n",
       "      <td>379</td>\n",
       "      <td>1.046961</td>\n",
       "      <td>...</td>\n",
       "      <td>1</td>\n",
       "      <td>1.0</td>\n",
       "      <td>70</td>\n",
       "      <td>1.044776</td>\n",
       "      <td>355</td>\n",
       "      <td>1.047198</td>\n",
       "      <td>86507</td>\n",
       "      <td>1.161542</td>\n",
       "      <td>1</td>\n",
       "      <td>1.0</td>\n",
       "    </tr>\n",
       "    <tr>\n",
       "      <th>3</th>\n",
       "      <td>1</td>\n",
       "      <td>2</td>\n",
       "      <td>1</td>\n",
       "      <td>1</td>\n",
       "      <td>3</td>\n",
       "      <td>0</td>\n",
       "      <td>87</td>\n",
       "      <td>1.060976</td>\n",
       "      <td>264</td>\n",
       "      <td>1.068826</td>\n",
       "      <td>...</td>\n",
       "      <td>1</td>\n",
       "      <td>1.0</td>\n",
       "      <td>70</td>\n",
       "      <td>1.044776</td>\n",
       "      <td>355</td>\n",
       "      <td>1.047198</td>\n",
       "      <td>86507</td>\n",
       "      <td>1.161542</td>\n",
       "      <td>1</td>\n",
       "      <td>1.0</td>\n",
       "    </tr>\n",
       "    <tr>\n",
       "      <th>4</th>\n",
       "      <td>1</td>\n",
       "      <td>2</td>\n",
       "      <td>1</td>\n",
       "      <td>1</td>\n",
       "      <td>4</td>\n",
       "      <td>0</td>\n",
       "      <td>75</td>\n",
       "      <td>1.041667</td>\n",
       "      <td>136</td>\n",
       "      <td>1.079365</td>\n",
       "      <td>...</td>\n",
       "      <td>0</td>\n",
       "      <td>0.0</td>\n",
       "      <td>79</td>\n",
       "      <td>1.128571</td>\n",
       "      <td>379</td>\n",
       "      <td>1.046961</td>\n",
       "      <td>92120</td>\n",
       "      <td>1.137986</td>\n",
       "      <td>1</td>\n",
       "      <td>1.0</td>\n",
       "    </tr>\n",
       "  </tbody>\n",
       "</table>\n",
       "<p>5 rows × 30 columns</p>\n",
       "</div>"
      ],
      "text/plain": [
       "   tiendaID  marcaID  skuID  gammaID  fechaID  ventas_por_mes  \\\n",
       "0         1        2      1        1        0               0   \n",
       "1         1        2      1        1        1               0   \n",
       "2         1        2      1        1        2               0   \n",
       "3         1        2      1        1        3               0   \n",
       "4         1        2      1        1        4               0   \n",
       "\n",
       "   lag1mes_ventas_totales_por_tienda_por_mes  \\\n",
       "0                                         70   \n",
       "1                                         70   \n",
       "2                                         79   \n",
       "3                                         87   \n",
       "4                                         75   \n",
       "\n",
       "   lag1mes_ventas_promedio_por_tienda_por_mes  \\\n",
       "0                                    1.044776   \n",
       "1                                    1.044776   \n",
       "2                                    1.128571   \n",
       "3                                    1.060976   \n",
       "4                                    1.041667   \n",
       "\n",
       "   lag1mes_ventas_totales_por_marca_por_mes  \\\n",
       "0                                       355   \n",
       "1                                       355   \n",
       "2                                       379   \n",
       "3                                       264   \n",
       "4                                       136   \n",
       "\n",
       "   lag1mes_entas_promedio_por_marca_por_mes  ...  \\\n",
       "0                                  1.047198  ...   \n",
       "1                                  1.047198  ...   \n",
       "2                                  1.046961  ...   \n",
       "3                                  1.068826  ...   \n",
       "4                                  1.079365  ...   \n",
       "\n",
       "   lag2mes_ventas_totales_por_sku_por_mes  \\\n",
       "0                                       1   \n",
       "1                                       1   \n",
       "2                                       1   \n",
       "3                                       1   \n",
       "4                                       0   \n",
       "\n",
       "   lag2mes_ventas_promedio_por_sku_por_mes  \\\n",
       "0                                      1.0   \n",
       "1                                      1.0   \n",
       "2                                      1.0   \n",
       "3                                      1.0   \n",
       "4                                      0.0   \n",
       "\n",
       "   lag3mes_ventas_totales_por_tienda_por_mes  \\\n",
       "0                                         70   \n",
       "1                                         70   \n",
       "2                                         70   \n",
       "3                                         70   \n",
       "4                                         79   \n",
       "\n",
       "   lag3mes_ventas_promedio_por_tienda_por_mes  \\\n",
       "0                                    1.044776   \n",
       "1                                    1.044776   \n",
       "2                                    1.044776   \n",
       "3                                    1.044776   \n",
       "4                                    1.128571   \n",
       "\n",
       "   lag3mes_ventas_totales_por_marca_por_mes  \\\n",
       "0                                       355   \n",
       "1                                       355   \n",
       "2                                       355   \n",
       "3                                       355   \n",
       "4                                       379   \n",
       "\n",
       "   lag3mes_entas_promedio_por_marca_por_mes  \\\n",
       "0                                  1.047198   \n",
       "1                                  1.047198   \n",
       "2                                  1.047198   \n",
       "3                                  1.047198   \n",
       "4                                  1.046961   \n",
       "\n",
       "   lag3mes_ventas_totales_por_gamma_por_mes  \\\n",
       "0                                     86507   \n",
       "1                                     86507   \n",
       "2                                     86507   \n",
       "3                                     86507   \n",
       "4                                     92120   \n",
       "\n",
       "   lag3mes_ventas_promedio_por_gamma_por_mes  \\\n",
       "0                                   1.161542   \n",
       "1                                   1.161542   \n",
       "2                                   1.161542   \n",
       "3                                   1.161542   \n",
       "4                                   1.137986   \n",
       "\n",
       "   lag3mes_ventas_totales_por_sku_por_mes  \\\n",
       "0                                       1   \n",
       "1                                       1   \n",
       "2                                       1   \n",
       "3                                       1   \n",
       "4                                       1   \n",
       "\n",
       "   lag3mes_ventas_promedio_por_sku_por_mes  \n",
       "0                                      1.0  \n",
       "1                                      1.0  \n",
       "2                                      1.0  \n",
       "3                                      1.0  \n",
       "4                                      1.0  \n",
       "\n",
       "[5 rows x 30 columns]"
      ]
     },
     "execution_count": 6,
     "metadata": {},
     "output_type": "execute_result"
    }
   ],
   "source": [
    "#dividir el archivo en entrenamiento y prueba\n",
    "entrenamiento = datos_modelo[datos_modelo['fechaID']<=ultimo_mes_entrenamiento]\n",
    "entrenamiento.head()\n",
    "#entrenamiento.shape #Para este conjunto de datos, este valor va a cambiar conforme se adquieran más datos(3298752, 30)"
   ]
  },
  {
   "cell_type": "code",
   "execution_count": 7,
   "metadata": {},
   "outputs": [
    {
     "data": {
      "text/plain": [
       "(7817355, 30)"
      ]
     },
     "execution_count": 7,
     "metadata": {},
     "output_type": "execute_result"
    }
   ],
   "source": [
    "entrenamiento.shape"
   ]
  },
  {
   "cell_type": "code",
   "execution_count": 8,
   "metadata": {},
   "outputs": [
    {
     "data": {
      "text/html": [
       "<div>\n",
       "<style scoped>\n",
       "    .dataframe tbody tr th:only-of-type {\n",
       "        vertical-align: middle;\n",
       "    }\n",
       "\n",
       "    .dataframe tbody tr th {\n",
       "        vertical-align: top;\n",
       "    }\n",
       "\n",
       "    .dataframe thead th {\n",
       "        text-align: right;\n",
       "    }\n",
       "</style>\n",
       "<table border=\"1\" class=\"dataframe\">\n",
       "  <thead>\n",
       "    <tr style=\"text-align: right;\">\n",
       "      <th></th>\n",
       "      <th>tiendaID</th>\n",
       "      <th>marcaID</th>\n",
       "      <th>skuID</th>\n",
       "      <th>gammaID</th>\n",
       "      <th>fechaID</th>\n",
       "      <th>ventas_por_mes</th>\n",
       "      <th>lag1mes_ventas_totales_por_tienda_por_mes</th>\n",
       "      <th>lag1mes_ventas_promedio_por_tienda_por_mes</th>\n",
       "      <th>lag1mes_ventas_totales_por_marca_por_mes</th>\n",
       "      <th>lag1mes_entas_promedio_por_marca_por_mes</th>\n",
       "      <th>...</th>\n",
       "      <th>lag2mes_ventas_totales_por_sku_por_mes</th>\n",
       "      <th>lag2mes_ventas_promedio_por_sku_por_mes</th>\n",
       "      <th>lag3mes_ventas_totales_por_tienda_por_mes</th>\n",
       "      <th>lag3mes_ventas_promedio_por_tienda_por_mes</th>\n",
       "      <th>lag3mes_ventas_totales_por_marca_por_mes</th>\n",
       "      <th>lag3mes_entas_promedio_por_marca_por_mes</th>\n",
       "      <th>lag3mes_ventas_totales_por_gamma_por_mes</th>\n",
       "      <th>lag3mes_ventas_promedio_por_gamma_por_mes</th>\n",
       "      <th>lag3mes_ventas_totales_por_sku_por_mes</th>\n",
       "      <th>lag3mes_ventas_promedio_por_sku_por_mes</th>\n",
       "    </tr>\n",
       "  </thead>\n",
       "  <tbody>\n",
       "    <tr>\n",
       "      <th>9</th>\n",
       "      <td>1</td>\n",
       "      <td>2</td>\n",
       "      <td>1</td>\n",
       "      <td>1</td>\n",
       "      <td>9</td>\n",
       "      <td>0</td>\n",
       "      <td>61</td>\n",
       "      <td>1.070175</td>\n",
       "      <td>53</td>\n",
       "      <td>1.081633</td>\n",
       "      <td>...</td>\n",
       "      <td>1</td>\n",
       "      <td>1.0</td>\n",
       "      <td>73</td>\n",
       "      <td>1.028169</td>\n",
       "      <td>32</td>\n",
       "      <td>1.066667</td>\n",
       "      <td>95478</td>\n",
       "      <td>1.156594</td>\n",
       "      <td>0</td>\n",
       "      <td>0.0</td>\n",
       "    </tr>\n",
       "    <tr>\n",
       "      <th>19</th>\n",
       "      <td>2</td>\n",
       "      <td>2</td>\n",
       "      <td>1</td>\n",
       "      <td>1</td>\n",
       "      <td>9</td>\n",
       "      <td>0</td>\n",
       "      <td>15</td>\n",
       "      <td>1.000000</td>\n",
       "      <td>53</td>\n",
       "      <td>1.081633</td>\n",
       "      <td>...</td>\n",
       "      <td>1</td>\n",
       "      <td>1.0</td>\n",
       "      <td>27</td>\n",
       "      <td>1.038462</td>\n",
       "      <td>32</td>\n",
       "      <td>1.066667</td>\n",
       "      <td>95478</td>\n",
       "      <td>1.156594</td>\n",
       "      <td>0</td>\n",
       "      <td>0.0</td>\n",
       "    </tr>\n",
       "    <tr>\n",
       "      <th>29</th>\n",
       "      <td>3</td>\n",
       "      <td>2</td>\n",
       "      <td>1</td>\n",
       "      <td>1</td>\n",
       "      <td>9</td>\n",
       "      <td>0</td>\n",
       "      <td>37</td>\n",
       "      <td>1.000000</td>\n",
       "      <td>53</td>\n",
       "      <td>1.081633</td>\n",
       "      <td>...</td>\n",
       "      <td>1</td>\n",
       "      <td>1.0</td>\n",
       "      <td>61</td>\n",
       "      <td>1.089286</td>\n",
       "      <td>32</td>\n",
       "      <td>1.066667</td>\n",
       "      <td>95478</td>\n",
       "      <td>1.156594</td>\n",
       "      <td>0</td>\n",
       "      <td>0.0</td>\n",
       "    </tr>\n",
       "    <tr>\n",
       "      <th>39</th>\n",
       "      <td>4</td>\n",
       "      <td>2</td>\n",
       "      <td>1</td>\n",
       "      <td>1</td>\n",
       "      <td>9</td>\n",
       "      <td>0</td>\n",
       "      <td>28</td>\n",
       "      <td>1.037037</td>\n",
       "      <td>53</td>\n",
       "      <td>1.081633</td>\n",
       "      <td>...</td>\n",
       "      <td>1</td>\n",
       "      <td>1.0</td>\n",
       "      <td>16</td>\n",
       "      <td>1.230769</td>\n",
       "      <td>32</td>\n",
       "      <td>1.066667</td>\n",
       "      <td>95478</td>\n",
       "      <td>1.156594</td>\n",
       "      <td>0</td>\n",
       "      <td>0.0</td>\n",
       "    </tr>\n",
       "    <tr>\n",
       "      <th>49</th>\n",
       "      <td>5</td>\n",
       "      <td>2</td>\n",
       "      <td>1</td>\n",
       "      <td>1</td>\n",
       "      <td>9</td>\n",
       "      <td>0</td>\n",
       "      <td>6</td>\n",
       "      <td>1.000000</td>\n",
       "      <td>53</td>\n",
       "      <td>1.081633</td>\n",
       "      <td>...</td>\n",
       "      <td>1</td>\n",
       "      <td>1.0</td>\n",
       "      <td>41</td>\n",
       "      <td>1.051282</td>\n",
       "      <td>32</td>\n",
       "      <td>1.066667</td>\n",
       "      <td>95478</td>\n",
       "      <td>1.156594</td>\n",
       "      <td>0</td>\n",
       "      <td>0.0</td>\n",
       "    </tr>\n",
       "  </tbody>\n",
       "</table>\n",
       "<p>5 rows × 30 columns</p>\n",
       "</div>"
      ],
      "text/plain": [
       "    tiendaID  marcaID  skuID  gammaID  fechaID  ventas_por_mes  \\\n",
       "9          1        2      1        1        9               0   \n",
       "19         2        2      1        1        9               0   \n",
       "29         3        2      1        1        9               0   \n",
       "39         4        2      1        1        9               0   \n",
       "49         5        2      1        1        9               0   \n",
       "\n",
       "    lag1mes_ventas_totales_por_tienda_por_mes  \\\n",
       "9                                          61   \n",
       "19                                         15   \n",
       "29                                         37   \n",
       "39                                         28   \n",
       "49                                          6   \n",
       "\n",
       "    lag1mes_ventas_promedio_por_tienda_por_mes  \\\n",
       "9                                     1.070175   \n",
       "19                                    1.000000   \n",
       "29                                    1.000000   \n",
       "39                                    1.037037   \n",
       "49                                    1.000000   \n",
       "\n",
       "    lag1mes_ventas_totales_por_marca_por_mes  \\\n",
       "9                                         53   \n",
       "19                                        53   \n",
       "29                                        53   \n",
       "39                                        53   \n",
       "49                                        53   \n",
       "\n",
       "    lag1mes_entas_promedio_por_marca_por_mes  ...  \\\n",
       "9                                   1.081633  ...   \n",
       "19                                  1.081633  ...   \n",
       "29                                  1.081633  ...   \n",
       "39                                  1.081633  ...   \n",
       "49                                  1.081633  ...   \n",
       "\n",
       "    lag2mes_ventas_totales_por_sku_por_mes  \\\n",
       "9                                        1   \n",
       "19                                       1   \n",
       "29                                       1   \n",
       "39                                       1   \n",
       "49                                       1   \n",
       "\n",
       "    lag2mes_ventas_promedio_por_sku_por_mes  \\\n",
       "9                                       1.0   \n",
       "19                                      1.0   \n",
       "29                                      1.0   \n",
       "39                                      1.0   \n",
       "49                                      1.0   \n",
       "\n",
       "    lag3mes_ventas_totales_por_tienda_por_mes  \\\n",
       "9                                          73   \n",
       "19                                         27   \n",
       "29                                         61   \n",
       "39                                         16   \n",
       "49                                         41   \n",
       "\n",
       "    lag3mes_ventas_promedio_por_tienda_por_mes  \\\n",
       "9                                     1.028169   \n",
       "19                                    1.038462   \n",
       "29                                    1.089286   \n",
       "39                                    1.230769   \n",
       "49                                    1.051282   \n",
       "\n",
       "    lag3mes_ventas_totales_por_marca_por_mes  \\\n",
       "9                                         32   \n",
       "19                                        32   \n",
       "29                                        32   \n",
       "39                                        32   \n",
       "49                                        32   \n",
       "\n",
       "    lag3mes_entas_promedio_por_marca_por_mes  \\\n",
       "9                                   1.066667   \n",
       "19                                  1.066667   \n",
       "29                                  1.066667   \n",
       "39                                  1.066667   \n",
       "49                                  1.066667   \n",
       "\n",
       "    lag3mes_ventas_totales_por_gamma_por_mes  \\\n",
       "9                                      95478   \n",
       "19                                     95478   \n",
       "29                                     95478   \n",
       "39                                     95478   \n",
       "49                                     95478   \n",
       "\n",
       "    lag3mes_ventas_promedio_por_gamma_por_mes  \\\n",
       "9                                    1.156594   \n",
       "19                                   1.156594   \n",
       "29                                   1.156594   \n",
       "39                                   1.156594   \n",
       "49                                   1.156594   \n",
       "\n",
       "    lag3mes_ventas_totales_por_sku_por_mes  \\\n",
       "9                                        0   \n",
       "19                                       0   \n",
       "29                                       0   \n",
       "39                                       0   \n",
       "49                                       0   \n",
       "\n",
       "    lag3mes_ventas_promedio_por_sku_por_mes  \n",
       "9                                       0.0  \n",
       "19                                      0.0  \n",
       "29                                      0.0  \n",
       "39                                      0.0  \n",
       "49                                      0.0  \n",
       "\n",
       "[5 rows x 30 columns]"
      ]
     },
     "execution_count": 8,
     "metadata": {},
     "output_type": "execute_result"
    }
   ],
   "source": [
    "prueba = datos_modelo[datos_modelo['fechaID']==periodo_prueba]\n",
    "prueba.head()\n",
    "#prueba.shape # Este número no va a cambiar dado que corresponde a la combinación de 1mes*12marcas*4gammas*4familias*1909puntosdeventa(366528, 37)"
   ]
  },
  {
   "cell_type": "code",
   "execution_count": 9,
   "metadata": {},
   "outputs": [
    {
     "data": {
      "text/plain": [
       "(868595, 30)"
      ]
     },
     "execution_count": 9,
     "metadata": {},
     "output_type": "execute_result"
    }
   ],
   "source": [
    "prueba.shape"
   ]
  },
  {
   "cell_type": "markdown",
   "metadata": {},
   "source": [
    "#### 3. Librerías para el modelo"
   ]
  },
  {
   "cell_type": "code",
   "execution_count": 10,
   "metadata": {},
   "outputs": [],
   "source": [
    "#EMPIEZA EL MODELO \n",
    "#Cargar librerías\n",
    "import numpy as np \n",
    "import os\n",
    "import seaborn as sns\n",
    "import xgboost\n",
    "from sklearn.model_selection import cross_val_score\n",
    "from sklearn.metrics import mean_squared_error\n",
    "from sklearn.model_selection import GridSearchCV\n",
    "#from sklearn.preprocessing import MinMaxScaler\n",
    "from sklearn.metrics import make_scorer\n",
    "from sklearn.pipeline import Pipeline\n",
    "from sklearn.model_selection import TimeSeriesSplit\n",
    "import warnings; warnings.simplefilter('ignore')"
   ]
  },
  {
   "cell_type": "markdown",
   "metadata": {},
   "source": [
    "#### 4. Preparar los datos para el modelo"
   ]
  },
  {
   "cell_type": "code",
   "execution_count": 11,
   "metadata": {},
   "outputs": [],
   "source": [
    "# Separamos el conjunto de entrenamiento en y y X \n",
    "x = entrenamiento.iloc[:, entrenamiento.columns != 'ventas_por_mes'].values #arreglo de valores\n",
    "y = entrenamiento.iloc[:, entrenamiento.columns == 'ventas_por_mes'].values"
   ]
  },
  {
   "cell_type": "markdown",
   "metadata": {},
   "source": [
    "#### 5. Validación cruzada para series de tiempo"
   ]
  },
  {
   "cell_type": "code",
   "execution_count": 12,
   "metadata": {},
   "outputs": [],
   "source": [
    "#validación cruzada: utiliza la función TimeSeriesSplit donde se parte el conjunto de entrenamiento en 3 splits de diferente longitud. \n",
    "tscv = TimeSeriesSplit(n_splits=3)#TimeSeriesSplit(max_train_size=None, n_splits=3)\n",
    "my_cv = TimeSeriesSplit(n_splits=3).split(x)#<generator object TimeSeriesSplit.split at 0x7f01f9aa86d0>"
   ]
  },
  {
   "cell_type": "code",
   "execution_count": 13,
   "metadata": {},
   "outputs": [],
   "source": [
    "from xgboost import XGBRegressor\n",
    "from sklearn.model_selection import RandomizedSearchCV\n",
    "from scipy.stats import randint, uniform"
   ]
  },
  {
   "cell_type": "markdown",
   "metadata": {},
   "source": [
    "#### 6: Aplicar un GridSearch para probar diferentes parámetros para el modelo"
   ]
  },
  {
   "cell_type": "code",
   "execution_count": 14,
   "metadata": {},
   "outputs": [],
   "source": [
    "#Se prueban diferentes combinaciones de parámetros para encontrar el mejor modelo - estos valores pueden cambiarse más adelante \n",
    "params_grid = {\n",
    "    'max_depth' : [2,3], #9,5,7\n",
    "    'n_estimators' : [2,3],  #10\n",
    "    'learning_rate' : [0.0003, 0.003], # , 0.03, 0.003, 0.0003, 0.00003\n",
    "    'min_child_weight':[0.5]\n",
    "}\n",
    "\n",
    "params_fixed = {'objective':'reg:linear'}"
   ]
  },
  {
   "cell_type": "code",
   "execution_count": 15,
   "metadata": {},
   "outputs": [],
   "source": [
    "# Configuración del modelo\n",
    "scoring = ['neg_mean_squared_error', 'neg_mean_absolute_error']\n",
    "bst_grid = GridSearchCV(\n",
    "    estimator = XGBRegressor(params_fixed, seed = 123),\n",
    "    param_grid = params_grid,\n",
    "    cv = my_cv,\n",
    "    #n_jobs = -1, \n",
    "    scoring = scoring, \n",
    "    refit = 'neg_mean_absolute_error'\n",
    ")"
   ]
  },
  {
   "cell_type": "markdown",
   "metadata": {},
   "source": [
    "#### 7: Ajustar el Modelo: Entrenar el modelo con los diferentes parámetros"
   ]
  },
  {
   "cell_type": "code",
   "execution_count": 16,
   "metadata": {},
   "outputs": [
    {
     "name": "stdout",
     "output_type": "stream",
     "text": [
      "[20:47:37] Tree method is automatically selected to be 'approx' for faster speed. to use old behavior(exact greedy algorithm on single machine), set tree_method to 'exact'\n",
      "[20:49:08] Tree method is automatically selected to be 'approx' for faster speed. to use old behavior(exact greedy algorithm on single machine), set tree_method to 'exact'\n",
      "[20:50:43] Tree method is automatically selected to be 'approx' for faster speed. to use old behavior(exact greedy algorithm on single machine), set tree_method to 'exact'\n",
      "[20:52:23] Tree method is automatically selected to be 'approx' for faster speed. to use old behavior(exact greedy algorithm on single machine), set tree_method to 'exact'\n",
      "[20:54:00] Tree method is automatically selected to be 'approx' for faster speed. to use old behavior(exact greedy algorithm on single machine), set tree_method to 'exact'\n",
      "[20:55:29] Tree method is automatically selected to be 'approx' for faster speed. to use old behavior(exact greedy algorithm on single machine), set tree_method to 'exact'\n",
      "[20:57:03] Tree method is automatically selected to be 'approx' for faster speed. to use old behavior(exact greedy algorithm on single machine), set tree_method to 'exact'\n",
      "[20:58:44] Tree method is automatically selected to be 'approx' for faster speed. to use old behavior(exact greedy algorithm on single machine), set tree_method to 'exact'\n",
      "[20:59:34] Tree method is automatically selected to be 'approx' for faster speed. to use old behavior(exact greedy algorithm on single machine), set tree_method to 'exact'\n"
     ]
    },
    {
     "data": {
      "text/plain": [
       "GridSearchCV(cv=<generator object TimeSeriesSplit.split at 0x7f9b2128f9e8>,\n",
       "       error_score='raise-deprecating',\n",
       "       estimator=XGBRegressor(base_score=0.5, booster='gbtree', colsample_bylevel=1,\n",
       "       colsample_bytree=1, gamma=0, learning_rate=0.1, max_delta_step=0,\n",
       "       max_depth={'objective': 'reg:linear'}, min_child_weight=1,\n",
       "       missing=None, n_estimators=100, n_jobs=1, nthread=None,\n",
       "       objective='reg:linear', random_state=0, reg_alpha=0, reg_lambda=1,\n",
       "       scale_pos_weight=1, seed=123, silent=True, subsample=1),\n",
       "       fit_params=None, iid='warn', n_jobs=None,\n",
       "       param_grid={'max_depth': [2, 3], 'n_estimators': [2, 3], 'learning_rate': [0.0003, 0.003], 'min_child_weight': [0.5]},\n",
       "       pre_dispatch='2*n_jobs', refit='neg_mean_absolute_error',\n",
       "       return_train_score='warn',\n",
       "       scoring=['neg_mean_squared_error', 'neg_mean_absolute_error'],\n",
       "       verbose=0)"
      ]
     },
     "execution_count": 16,
     "metadata": {},
     "output_type": "execute_result"
    }
   ],
   "source": [
    "#se ajusta el modelo 2:39\n",
    "bst_grid.fit(x,y)"
   ]
  },
  {
   "cell_type": "markdown",
   "metadata": {},
   "source": [
    "#### 8: Analizar resultados de cada modelo que se corrió"
   ]
  },
  {
   "cell_type": "code",
   "execution_count": 17,
   "metadata": {},
   "outputs": [
    {
     "data": {
      "text/html": [
       "<div>\n",
       "<style scoped>\n",
       "    .dataframe tbody tr th:only-of-type {\n",
       "        vertical-align: middle;\n",
       "    }\n",
       "\n",
       "    .dataframe tbody tr th {\n",
       "        vertical-align: top;\n",
       "    }\n",
       "\n",
       "    .dataframe thead th {\n",
       "        text-align: right;\n",
       "    }\n",
       "</style>\n",
       "<table border=\"1\" class=\"dataframe\">\n",
       "  <thead>\n",
       "    <tr style=\"text-align: right;\">\n",
       "      <th></th>\n",
       "      <th>mean_fit_time</th>\n",
       "      <th>std_fit_time</th>\n",
       "      <th>mean_score_time</th>\n",
       "      <th>std_score_time</th>\n",
       "      <th>param_learning_rate</th>\n",
       "      <th>param_max_depth</th>\n",
       "      <th>param_min_child_weight</th>\n",
       "      <th>param_n_estimators</th>\n",
       "      <th>params</th>\n",
       "      <th>split0_test_neg_mean_squared_error</th>\n",
       "      <th>...</th>\n",
       "      <th>split1_test_neg_mean_absolute_error</th>\n",
       "      <th>split2_test_neg_mean_absolute_error</th>\n",
       "      <th>mean_test_neg_mean_absolute_error</th>\n",
       "      <th>std_test_neg_mean_absolute_error</th>\n",
       "      <th>rank_test_neg_mean_absolute_error</th>\n",
       "      <th>split0_train_neg_mean_absolute_error</th>\n",
       "      <th>split1_train_neg_mean_absolute_error</th>\n",
       "      <th>split2_train_neg_mean_absolute_error</th>\n",
       "      <th>mean_train_neg_mean_absolute_error</th>\n",
       "      <th>std_train_neg_mean_absolute_error</th>\n",
       "    </tr>\n",
       "  </thead>\n",
       "  <tbody>\n",
       "    <tr>\n",
       "      <th>0</th>\n",
       "      <td>22.195248</td>\n",
       "      <td>8.069531</td>\n",
       "      <td>1.898338</td>\n",
       "      <td>0.064234</td>\n",
       "      <td>0.0003</td>\n",
       "      <td>2</td>\n",
       "      <td>0.5</td>\n",
       "      <td>2</td>\n",
       "      <td>{'learning_rate': 0.0003, 'max_depth': 2, 'min...</td>\n",
       "      <td>-0.853450</td>\n",
       "      <td>...</td>\n",
       "      <td>-0.583498</td>\n",
       "      <td>-0.528570</td>\n",
       "      <td>-0.561577</td>\n",
       "      <td>0.023755</td>\n",
       "      <td>8</td>\n",
       "      <td>-0.611338</td>\n",
       "      <td>-0.592000</td>\n",
       "      <td>-0.589169</td>\n",
       "      <td>-0.597502</td>\n",
       "      <td>0.009852</td>\n",
       "    </tr>\n",
       "    <tr>\n",
       "      <th>1</th>\n",
       "      <td>26.250316</td>\n",
       "      <td>9.307811</td>\n",
       "      <td>1.926429</td>\n",
       "      <td>0.053674</td>\n",
       "      <td>0.0003</td>\n",
       "      <td>2</td>\n",
       "      <td>0.5</td>\n",
       "      <td>3</td>\n",
       "      <td>{'learning_rate': 0.0003, 'max_depth': 2, 'min...</td>\n",
       "      <td>-0.853270</td>\n",
       "      <td>...</td>\n",
       "      <td>-0.583379</td>\n",
       "      <td>-0.528446</td>\n",
       "      <td>-0.561457</td>\n",
       "      <td>0.023757</td>\n",
       "      <td>6</td>\n",
       "      <td>-0.611213</td>\n",
       "      <td>-0.591877</td>\n",
       "      <td>-0.589049</td>\n",
       "      <td>-0.597380</td>\n",
       "      <td>0.009850</td>\n",
       "    </tr>\n",
       "    <tr>\n",
       "      <th>2</th>\n",
       "      <td>25.700018</td>\n",
       "      <td>9.531326</td>\n",
       "      <td>1.892516</td>\n",
       "      <td>0.036140</td>\n",
       "      <td>0.0003</td>\n",
       "      <td>3</td>\n",
       "      <td>0.5</td>\n",
       "      <td>2</td>\n",
       "      <td>{'learning_rate': 0.0003, 'max_depth': 3, 'min...</td>\n",
       "      <td>-0.853372</td>\n",
       "      <td>...</td>\n",
       "      <td>-0.583486</td>\n",
       "      <td>-0.528564</td>\n",
       "      <td>-0.561566</td>\n",
       "      <td>0.023752</td>\n",
       "      <td>7</td>\n",
       "      <td>-0.611322</td>\n",
       "      <td>-0.591983</td>\n",
       "      <td>-0.589153</td>\n",
       "      <td>-0.597486</td>\n",
       "      <td>0.009852</td>\n",
       "    </tr>\n",
       "    <tr>\n",
       "      <th>3</th>\n",
       "      <td>30.494691</td>\n",
       "      <td>12.099472</td>\n",
       "      <td>1.896525</td>\n",
       "      <td>0.019062</td>\n",
       "      <td>0.0003</td>\n",
       "      <td>3</td>\n",
       "      <td>0.5</td>\n",
       "      <td>3</td>\n",
       "      <td>{'learning_rate': 0.0003, 'max_depth': 3, 'min...</td>\n",
       "      <td>-0.853154</td>\n",
       "      <td>...</td>\n",
       "      <td>-0.583361</td>\n",
       "      <td>-0.528436</td>\n",
       "      <td>-0.561439</td>\n",
       "      <td>0.023752</td>\n",
       "      <td>5</td>\n",
       "      <td>-0.611189</td>\n",
       "      <td>-0.591851</td>\n",
       "      <td>-0.589024</td>\n",
       "      <td>-0.597355</td>\n",
       "      <td>0.009850</td>\n",
       "    </tr>\n",
       "    <tr>\n",
       "      <th>4</th>\n",
       "      <td>22.140491</td>\n",
       "      <td>7.977848</td>\n",
       "      <td>1.845922</td>\n",
       "      <td>0.018726</td>\n",
       "      <td>0.003</td>\n",
       "      <td>2</td>\n",
       "      <td>0.5</td>\n",
       "      <td>2</td>\n",
       "      <td>{'learning_rate': 0.003, 'max_depth': 2, 'min_...</td>\n",
       "      <td>-0.850228</td>\n",
       "      <td>...</td>\n",
       "      <td>-0.581365</td>\n",
       "      <td>-0.526342</td>\n",
       "      <td>-0.559405</td>\n",
       "      <td>0.023796</td>\n",
       "      <td>4</td>\n",
       "      <td>-0.609093</td>\n",
       "      <td>-0.589789</td>\n",
       "      <td>-0.587008</td>\n",
       "      <td>-0.595297</td>\n",
       "      <td>0.009821</td>\n",
       "    </tr>\n",
       "    <tr>\n",
       "      <th>5</th>\n",
       "      <td>25.655579</td>\n",
       "      <td>9.789339</td>\n",
       "      <td>1.883686</td>\n",
       "      <td>0.026059</td>\n",
       "      <td>0.003</td>\n",
       "      <td>2</td>\n",
       "      <td>0.5</td>\n",
       "      <td>3</td>\n",
       "      <td>{'learning_rate': 0.003, 'max_depth': 2, 'min_...</td>\n",
       "      <td>-0.848453</td>\n",
       "      <td>...</td>\n",
       "      <td>-0.580184</td>\n",
       "      <td>-0.525110</td>\n",
       "      <td>-0.558203</td>\n",
       "      <td>0.023818</td>\n",
       "      <td>2</td>\n",
       "      <td>-0.607851</td>\n",
       "      <td>-0.588564</td>\n",
       "      <td>-0.585813</td>\n",
       "      <td>-0.594076</td>\n",
       "      <td>0.009805</td>\n",
       "    </tr>\n",
       "    <tr>\n",
       "      <th>6</th>\n",
       "      <td>25.398162</td>\n",
       "      <td>9.614106</td>\n",
       "      <td>1.881000</td>\n",
       "      <td>0.011382</td>\n",
       "      <td>0.003</td>\n",
       "      <td>3</td>\n",
       "      <td>0.5</td>\n",
       "      <td>2</td>\n",
       "      <td>{'learning_rate': 0.003, 'max_depth': 3, 'min_...</td>\n",
       "      <td>-0.849455</td>\n",
       "      <td>...</td>\n",
       "      <td>-0.581244</td>\n",
       "      <td>-0.526277</td>\n",
       "      <td>-0.559287</td>\n",
       "      <td>0.023762</td>\n",
       "      <td>3</td>\n",
       "      <td>-0.608929</td>\n",
       "      <td>-0.589615</td>\n",
       "      <td>-0.586847</td>\n",
       "      <td>-0.595130</td>\n",
       "      <td>0.009822</td>\n",
       "    </tr>\n",
       "    <tr>\n",
       "      <th>7</th>\n",
       "      <td>30.455320</td>\n",
       "      <td>12.097248</td>\n",
       "      <td>1.920001</td>\n",
       "      <td>0.008961</td>\n",
       "      <td>0.003</td>\n",
       "      <td>3</td>\n",
       "      <td>0.5</td>\n",
       "      <td>3</td>\n",
       "      <td>{'learning_rate': 0.003, 'max_depth': 3, 'min_...</td>\n",
       "      <td>-0.847298</td>\n",
       "      <td>...</td>\n",
       "      <td>-0.580004</td>\n",
       "      <td>-0.525012</td>\n",
       "      <td>-0.558026</td>\n",
       "      <td>0.023768</td>\n",
       "      <td>1</td>\n",
       "      <td>-0.607606</td>\n",
       "      <td>-0.588304</td>\n",
       "      <td>-0.585571</td>\n",
       "      <td>-0.593827</td>\n",
       "      <td>0.009807</td>\n",
       "    </tr>\n",
       "  </tbody>\n",
       "</table>\n",
       "<p>8 rows × 31 columns</p>\n",
       "</div>"
      ],
      "text/plain": [
       "   mean_fit_time  std_fit_time  mean_score_time  std_score_time  \\\n",
       "0      22.195248      8.069531         1.898338        0.064234   \n",
       "1      26.250316      9.307811         1.926429        0.053674   \n",
       "2      25.700018      9.531326         1.892516        0.036140   \n",
       "3      30.494691     12.099472         1.896525        0.019062   \n",
       "4      22.140491      7.977848         1.845922        0.018726   \n",
       "5      25.655579      9.789339         1.883686        0.026059   \n",
       "6      25.398162      9.614106         1.881000        0.011382   \n",
       "7      30.455320     12.097248         1.920001        0.008961   \n",
       "\n",
       "  param_learning_rate param_max_depth param_min_child_weight  \\\n",
       "0              0.0003               2                    0.5   \n",
       "1              0.0003               2                    0.5   \n",
       "2              0.0003               3                    0.5   \n",
       "3              0.0003               3                    0.5   \n",
       "4               0.003               2                    0.5   \n",
       "5               0.003               2                    0.5   \n",
       "6               0.003               3                    0.5   \n",
       "7               0.003               3                    0.5   \n",
       "\n",
       "  param_n_estimators                                             params  \\\n",
       "0                  2  {'learning_rate': 0.0003, 'max_depth': 2, 'min...   \n",
       "1                  3  {'learning_rate': 0.0003, 'max_depth': 2, 'min...   \n",
       "2                  2  {'learning_rate': 0.0003, 'max_depth': 3, 'min...   \n",
       "3                  3  {'learning_rate': 0.0003, 'max_depth': 3, 'min...   \n",
       "4                  2  {'learning_rate': 0.003, 'max_depth': 2, 'min_...   \n",
       "5                  3  {'learning_rate': 0.003, 'max_depth': 2, 'min_...   \n",
       "6                  2  {'learning_rate': 0.003, 'max_depth': 3, 'min_...   \n",
       "7                  3  {'learning_rate': 0.003, 'max_depth': 3, 'min_...   \n",
       "\n",
       "   split0_test_neg_mean_squared_error  ...  \\\n",
       "0                           -0.853450  ...   \n",
       "1                           -0.853270  ...   \n",
       "2                           -0.853372  ...   \n",
       "3                           -0.853154  ...   \n",
       "4                           -0.850228  ...   \n",
       "5                           -0.848453  ...   \n",
       "6                           -0.849455  ...   \n",
       "7                           -0.847298  ...   \n",
       "\n",
       "   split1_test_neg_mean_absolute_error  split2_test_neg_mean_absolute_error  \\\n",
       "0                            -0.583498                            -0.528570   \n",
       "1                            -0.583379                            -0.528446   \n",
       "2                            -0.583486                            -0.528564   \n",
       "3                            -0.583361                            -0.528436   \n",
       "4                            -0.581365                            -0.526342   \n",
       "5                            -0.580184                            -0.525110   \n",
       "6                            -0.581244                            -0.526277   \n",
       "7                            -0.580004                            -0.525012   \n",
       "\n",
       "   mean_test_neg_mean_absolute_error  std_test_neg_mean_absolute_error  \\\n",
       "0                          -0.561577                          0.023755   \n",
       "1                          -0.561457                          0.023757   \n",
       "2                          -0.561566                          0.023752   \n",
       "3                          -0.561439                          0.023752   \n",
       "4                          -0.559405                          0.023796   \n",
       "5                          -0.558203                          0.023818   \n",
       "6                          -0.559287                          0.023762   \n",
       "7                          -0.558026                          0.023768   \n",
       "\n",
       "   rank_test_neg_mean_absolute_error  split0_train_neg_mean_absolute_error  \\\n",
       "0                                  8                             -0.611338   \n",
       "1                                  6                             -0.611213   \n",
       "2                                  7                             -0.611322   \n",
       "3                                  5                             -0.611189   \n",
       "4                                  4                             -0.609093   \n",
       "5                                  2                             -0.607851   \n",
       "6                                  3                             -0.608929   \n",
       "7                                  1                             -0.607606   \n",
       "\n",
       "   split1_train_neg_mean_absolute_error  split2_train_neg_mean_absolute_error  \\\n",
       "0                             -0.592000                             -0.589169   \n",
       "1                             -0.591877                             -0.589049   \n",
       "2                             -0.591983                             -0.589153   \n",
       "3                             -0.591851                             -0.589024   \n",
       "4                             -0.589789                             -0.587008   \n",
       "5                             -0.588564                             -0.585813   \n",
       "6                             -0.589615                             -0.586847   \n",
       "7                             -0.588304                             -0.585571   \n",
       "\n",
       "   mean_train_neg_mean_absolute_error  std_train_neg_mean_absolute_error  \n",
       "0                           -0.597502                           0.009852  \n",
       "1                           -0.597380                           0.009850  \n",
       "2                           -0.597486                           0.009852  \n",
       "3                           -0.597355                           0.009850  \n",
       "4                           -0.595297                           0.009821  \n",
       "5                           -0.594076                           0.009805  \n",
       "6                           -0.595130                           0.009822  \n",
       "7                           -0.593827                           0.009807  \n",
       "\n",
       "[8 rows x 31 columns]"
      ]
     },
     "execution_count": 17,
     "metadata": {},
     "output_type": "execute_result"
    }
   ],
   "source": [
    "resultados_GS = pd.DataFrame(bst_grid.cv_results_) #dataframe con resultados de todas las combinaicones de parámetros\n",
    "resultados_GS"
   ]
  },
  {
   "cell_type": "code",
   "execution_count": 18,
   "metadata": {},
   "outputs": [
    {
     "data": {
      "text/plain": [
       "0   -0.727560\n",
       "1   -0.727392\n",
       "2   -0.727503\n",
       "3   -0.727307\n",
       "4   -0.724562\n",
       "5   -0.722912\n",
       "6   -0.723995\n",
       "7   -0.722065\n",
       "Name: mean_test_neg_mean_squared_error, dtype: float64"
      ]
     },
     "execution_count": 18,
     "metadata": {},
     "output_type": "execute_result"
    }
   ],
   "source": [
    "resultados_GS['mean_test_neg_mean_squared_error']"
   ]
  },
  {
   "cell_type": "code",
   "execution_count": 19,
   "metadata": {},
   "outputs": [
    {
     "data": {
      "text/plain": [
       "0   -0.561577\n",
       "1   -0.561457\n",
       "2   -0.561566\n",
       "3   -0.561439\n",
       "4   -0.559405\n",
       "5   -0.558203\n",
       "6   -0.559287\n",
       "7   -0.558026\n",
       "Name: mean_test_neg_mean_absolute_error, dtype: float64"
      ]
     },
     "execution_count": 19,
     "metadata": {},
     "output_type": "execute_result"
    }
   ],
   "source": [
    "resultados_GS['mean_test_neg_mean_absolute_error']"
   ]
  },
  {
   "cell_type": "code",
   "execution_count": 20,
   "metadata": {},
   "outputs": [
    {
     "data": {
      "text/plain": [
       "7"
      ]
     },
     "execution_count": 20,
     "metadata": {},
     "output_type": "execute_result"
    }
   ],
   "source": [
    "#bst_grid.best_estimator_ #Mejores parámetros en general \n",
    "#bst_grid.best_score_ #Mejor MSE\n",
    "bst_grid.best_index_ #De los modelos que se corrieron en que \"lugar\" esta el modelo de la tabla anterior\n",
    "#bst_grid.scorer_ #Que medida de error se utiliza make_scorer(mean_squared_error, greater_is_better=False)"
   ]
  },
  {
   "cell_type": "code",
   "execution_count": 21,
   "metadata": {},
   "outputs": [
    {
     "data": {
      "text/plain": [
       "{'learning_rate': 0.003,\n",
       " 'max_depth': 3,\n",
       " 'min_child_weight': 0.5,\n",
       " 'n_estimators': 3}"
      ]
     },
     "execution_count": 21,
     "metadata": {},
     "output_type": "execute_result"
    }
   ],
   "source": [
    "mejores_valores = dict(bst_grid.best_params_.items())\n",
    "mejores_valores"
   ]
  },
  {
   "cell_type": "code",
   "execution_count": 22,
   "metadata": {},
   "outputs": [
    {
     "data": {
      "text/plain": [
       "-0.5580263048215997"
      ]
     },
     "execution_count": 22,
     "metadata": {},
     "output_type": "execute_result"
    }
   ],
   "source": [
    "MAE_entrenamiento = bst_grid.best_score_\n",
    "MAE_entrenamiento"
   ]
  },
  {
   "cell_type": "code",
   "execution_count": 23,
   "metadata": {},
   "outputs": [
    {
     "data": {
      "text/plain": [
       "0.722065"
      ]
     },
     "execution_count": 23,
     "metadata": {},
     "output_type": "execute_result"
    }
   ],
   "source": [
    "MSE_entrenamiento = (abs(-0.722065))\n",
    "MSE_entrenamiento"
   ]
  },
  {
   "cell_type": "code",
   "execution_count": 24,
   "metadata": {},
   "outputs": [
    {
     "data": {
      "text/plain": [
       "0.849744079120296"
      ]
     },
     "execution_count": 24,
     "metadata": {},
     "output_type": "execute_result"
    }
   ],
   "source": [
    "RMSE_entrenamiento = np.sqrt(abs(MSE_entrenamiento))\n",
    "RMSE_entrenamiento"
   ]
  },
  {
   "cell_type": "markdown",
   "metadata": {},
   "source": [
    "#### 9. Entrenar el modelo con la mejor combinación de parámetros obtenida"
   ]
  },
  {
   "cell_type": "code",
   "execution_count": 25,
   "metadata": {},
   "outputs": [],
   "source": [
    "#reentrenamiento\n",
    "import xgboost as xgb"
   ]
  },
  {
   "cell_type": "code",
   "execution_count": 26,
   "metadata": {},
   "outputs": [
    {
     "name": "stdout",
     "output_type": "stream",
     "text": [
      "[21:01:49] Tree method is automatically selected to be 'approx' for faster speed. to use old behavior(exact greedy algorithm on single machine), set tree_method to 'exact'\n",
      "[21:02:17] src/tree/updater_prune.cc:74: tree pruning end, 1 roots, 14 extra nodes, 0 pruned nodes, max_depth=3\n",
      "[21:02:28] src/tree/updater_prune.cc:74: tree pruning end, 1 roots, 14 extra nodes, 0 pruned nodes, max_depth=3\n",
      "[21:02:39] src/tree/updater_prune.cc:74: tree pruning end, 1 roots, 14 extra nodes, 0 pruned nodes, max_depth=3\n",
      "[21:02:50] src/tree/updater_prune.cc:74: tree pruning end, 1 roots, 14 extra nodes, 0 pruned nodes, max_depth=3\n",
      "[21:03:01] src/tree/updater_prune.cc:74: tree pruning end, 1 roots, 14 extra nodes, 0 pruned nodes, max_depth=3\n",
      "[21:03:12] src/tree/updater_prune.cc:74: tree pruning end, 1 roots, 14 extra nodes, 0 pruned nodes, max_depth=3\n",
      "[21:03:24] src/tree/updater_prune.cc:74: tree pruning end, 1 roots, 14 extra nodes, 0 pruned nodes, max_depth=3\n",
      "[21:03:36] src/tree/updater_prune.cc:74: tree pruning end, 1 roots, 14 extra nodes, 0 pruned nodes, max_depth=3\n",
      "[21:03:48] src/tree/updater_prune.cc:74: tree pruning end, 1 roots, 14 extra nodes, 0 pruned nodes, max_depth=3\n",
      "[21:03:59] src/tree/updater_prune.cc:74: tree pruning end, 1 roots, 14 extra nodes, 0 pruned nodes, max_depth=3\n"
     ]
    }
   ],
   "source": [
    "xgbtrain = xgb.DMatrix(entrenamiento.iloc[:, entrenamiento.columns != 'ventas_por_mes'].values, \n",
    "                       entrenamiento.iloc[:, entrenamiento.columns == 'ventas_por_mes'].values)\n",
    "\n",
    "param = {'max_depth': mejores_valores['max_depth'],\n",
    "         'n_estimators': mejores_valores['n_estimators'],\n",
    "         'min_child_weight': mejores_valores['min_child_weight'],\n",
    "         'eta' : mejores_valores['learning_rate'], \n",
    "         'num_round' : 1000, \n",
    "         'seed' : 1,\n",
    "         'silent' : 0,\n",
    "         'eval_metric' : 'rmse'}\n",
    "bst = xgb.train(param, xgbtrain)#1:46 - 1:47"
   ]
  },
  {
   "cell_type": "markdown",
   "metadata": {},
   "source": [
    "#### 10. Preparar datos del conjunto de prueba para ser empleados en el modelo"
   ]
  },
  {
   "cell_type": "code",
   "execution_count": 27,
   "metadata": {},
   "outputs": [],
   "source": [
    "#prueba remover la variable y \n",
    "prueba_x = prueba.drop('ventas_por_mes', axis = 1)\n",
    "#prueba_x.head()"
   ]
  },
  {
   "cell_type": "code",
   "execution_count": 28,
   "metadata": {},
   "outputs": [],
   "source": [
    "xgbpredict = xgb.DMatrix(prueba_x.values)"
   ]
  },
  {
   "cell_type": "markdown",
   "metadata": {},
   "source": [
    "#### 11. Utilizar el modelo para predecir con conjunto de prueba"
   ]
  },
  {
   "cell_type": "code",
   "execution_count": 29,
   "metadata": {},
   "outputs": [],
   "source": [
    "pred = bst.predict(xgbpredict)\n",
    "#pred #Lista de predicción\n",
    "#pd.Series(pred).describe() #Descripción de variables"
   ]
  },
  {
   "cell_type": "markdown",
   "metadata": {},
   "source": [
    "#### 12. Revisar preedicciones"
   ]
  },
  {
   "cell_type": "code",
   "execution_count": 30,
   "metadata": {},
   "outputs": [
    {
     "data": {
      "text/plain": [
       "0.73149645"
      ]
     },
     "execution_count": 30,
     "metadata": {},
     "output_type": "execute_result"
    }
   ],
   "source": [
    "max(pred)"
   ]
  },
  {
   "cell_type": "code",
   "execution_count": 31,
   "metadata": {},
   "outputs": [
    {
     "data": {
      "text/plain": [
       "0.48569152"
      ]
     },
     "execution_count": 31,
     "metadata": {},
     "output_type": "execute_result"
    }
   ],
   "source": [
    "min(pred)"
   ]
  },
  {
   "cell_type": "code",
   "execution_count": 32,
   "metadata": {},
   "outputs": [],
   "source": [
    "pred = np.clip(pred,0,200)"
   ]
  },
  {
   "cell_type": "code",
   "execution_count": 33,
   "metadata": {},
   "outputs": [
    {
     "data": {
      "text/html": [
       "<div>\n",
       "<style scoped>\n",
       "    .dataframe tbody tr th:only-of-type {\n",
       "        vertical-align: middle;\n",
       "    }\n",
       "\n",
       "    .dataframe tbody tr th {\n",
       "        vertical-align: top;\n",
       "    }\n",
       "\n",
       "    .dataframe thead th {\n",
       "        text-align: right;\n",
       "    }\n",
       "</style>\n",
       "<table border=\"1\" class=\"dataframe\">\n",
       "  <thead>\n",
       "    <tr style=\"text-align: right;\">\n",
       "      <th></th>\n",
       "      <th>ventas_por_mes_pred</th>\n",
       "    </tr>\n",
       "  </thead>\n",
       "  <tbody>\n",
       "    <tr>\n",
       "      <th>0</th>\n",
       "      <td>0.485692</td>\n",
       "    </tr>\n",
       "    <tr>\n",
       "      <th>1</th>\n",
       "      <td>0.485692</td>\n",
       "    </tr>\n",
       "    <tr>\n",
       "      <th>2</th>\n",
       "      <td>0.485692</td>\n",
       "    </tr>\n",
       "    <tr>\n",
       "      <th>3</th>\n",
       "      <td>0.485692</td>\n",
       "    </tr>\n",
       "    <tr>\n",
       "      <th>4</th>\n",
       "      <td>0.485692</td>\n",
       "    </tr>\n",
       "  </tbody>\n",
       "</table>\n",
       "</div>"
      ],
      "text/plain": [
       "   ventas_por_mes_pred\n",
       "0             0.485692\n",
       "1             0.485692\n",
       "2             0.485692\n",
       "3             0.485692\n",
       "4             0.485692"
      ]
     },
     "execution_count": 33,
     "metadata": {},
     "output_type": "execute_result"
    }
   ],
   "source": [
    "prediccion = pd.DataFrame(pred, columns = ['ventas_por_mes_pred'])\n",
    "prediccion.head()"
   ]
  },
  {
   "cell_type": "code",
   "execution_count": 34,
   "metadata": {},
   "outputs": [],
   "source": [
    "prediccion = prediccion.round()"
   ]
  },
  {
   "cell_type": "code",
   "execution_count": 36,
   "metadata": {},
   "outputs": [
    {
     "data": {
      "text/plain": [
       "ventas_por_mes_pred    22724.0\n",
       "dtype: float32"
      ]
     },
     "execution_count": 36,
     "metadata": {},
     "output_type": "execute_result"
    }
   ],
   "source": [
    "predicciones_totales_entrenamiento = prediccion.sum()\n",
    "predicciones_totales_entrenamiento"
   ]
  },
  {
   "cell_type": "code",
   "execution_count": 37,
   "metadata": {},
   "outputs": [],
   "source": [
    "prueba_resultados = pd.concat([prueba.reset_index(drop=True), prediccion], axis = 1, ignore_index=False)"
   ]
  },
  {
   "cell_type": "markdown",
   "metadata": {},
   "source": [
    "#### 13. Resultados conjunto de prueba"
   ]
  },
  {
   "cell_type": "code",
   "execution_count": 38,
   "metadata": {},
   "outputs": [
    {
     "data": {
      "text/plain": [
       "0.2278254"
      ]
     },
     "execution_count": 38,
     "metadata": {},
     "output_type": "execute_result"
    }
   ],
   "source": [
    "#calcular mse\n",
    "prueba_resultados['error'] = ((prueba_resultados['ventas_por_mes'] - prueba_resultados['ventas_por_mes_pred']) ** 2) / 868595\n",
    "#prueba_resultados.head()\n",
    "MSE = prueba_resultados['error'].sum()\n",
    "MSE"
   ]
  },
  {
   "cell_type": "code",
   "execution_count": 39,
   "metadata": {},
   "outputs": [
    {
     "data": {
      "text/plain": [
       "0.4773105940721418"
      ]
     },
     "execution_count": 39,
     "metadata": {},
     "output_type": "execute_result"
    }
   ],
   "source": [
    "RMSE = MSE ** (1/2)\n",
    "RMSE"
   ]
  },
  {
   "cell_type": "code",
   "execution_count": 40,
   "metadata": {},
   "outputs": [
    {
     "data": {
      "text/plain": [
       "0.06102498"
      ]
     },
     "execution_count": 40,
     "metadata": {},
     "output_type": "execute_result"
    }
   ],
   "source": [
    "#Calcular MAE\n",
    "prueba_resultados['error_MAE'] = abs(prueba_resultados['ventas_por_mes'] - prueba_resultados['ventas_por_mes_pred']) / 868595\n",
    "prueba_resultados.head()\n",
    "MAE = prueba_resultados['error_MAE'].sum()\n",
    "MAE"
   ]
  }
 ],
 "metadata": {
  "kernelspec": {
   "display_name": "Python 3.6",
   "language": "python",
   "name": "python3"
  },
  "language_info": {
   "codemirror_mode": {
    "name": "ipython",
    "version": 3
   },
   "file_extension": ".py",
   "mimetype": "text/x-python",
   "name": "python",
   "nbconvert_exporter": "python",
   "pygments_lexer": "ipython3",
   "version": "3.6.8"
  }
 },
 "nbformat": 4,
 "nbformat_minor": 1
}
